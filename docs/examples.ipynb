{
 "cells": [
  {
   "cell_type": "markdown",
   "metadata": {},
   "source": [
    "# Examples and features\n",
    "\n",
    "Here we will showcase different types of problems that the package can solve. The examples can also be downloaded as a Jupyter notebook from the [GitHub repository](https://github.com/ecboghiu/inflation).\n",
    "\n",
    "We begin by importing the functions that we will need:"
   ]
  },
  {
   "cell_type": "code",
   "execution_count": 1,
   "metadata": {},
   "outputs": [],
   "source": [
    "from causalinflation import InflationProblem, InflationSDP\n",
    "from examples_utils import bisection, P_W_array, P_2PR_array, P_PRbox_array"
   ]
  },
  {
   "cell_type": "markdown",
   "metadata": {},
   "source": [
    "## Feasibility problems and extraction of certificates\n",
    "\n",
    "### Example 1: Infeasibility of the W distribution in the quantum triangle scenario \n",
    "\n",
    "Consider determining if the following distribution, the so-called \"W distribution\" (due to its similarity to the [W state](https://journals.aps.org/pra/abstract/10.1103/PhysRevA.62.062314)), is compatible with the triangle scenario:\n",
    "\n",
    "$$ P_{A B C}=\\frac{[100]+[010]+[001]}{3}, \\quad \\text {i.e.,} \\quad P_{A B C}(a b c)= \\begin{cases}\\frac{1}{3} & \\text { if } a+b+c=1, \\\\ 0 & \\text { otherwise. }\\end{cases} $$\n",
    "\n",
    "It is known that it is [incompatible with the classical triangle scenario](https://www.degruyter.com/document/doi/10.1515/jci-2017-0020/html), however with quantum inflation, once can also show that it is incompatible with the quantum triangle scenario, depicted in the following figure:\n",
    "\n",
    "<center> <img src=\"./figures/quantum_triangle.PNG\" alt=\"drawing\" width=\"250\"/> </center>\n",
    "\n",
    "To show this, we can generate the semidefinite relaxation of NPA level 2 corresponding to a second order quantum inflation:"
   ]
  },
  {
   "cell_type": "code",
   "execution_count": 2,
   "metadata": {},
   "outputs": [],
   "source": [
    "qtriangle = InflationProblem(dag={\"rho_AB\": [\"A\", \"B\"],\n",
    "                                  \"rho_BC\": [\"B\", \"C\"],\n",
    "                                  \"rho_AC\": [\"A\", \"C\"]}, \n",
    "                             outcomes_per_party=[2, 2, 2],\n",
    "                             settings_per_party=[1, 1, 1],\n",
    "                             inflation_level_per_source=[2, 2, 2])\n",
    "sdprelax = InflationSDP(qtriangle)\n",
    "sdprelax.generate_relaxation('npa2')"
   ]
  },
  {
   "cell_type": "markdown",
   "metadata": {},
   "source": [
    "With the `set_distribution` method we set the entries of the moment matrix that depend on the probability distribution, and we attempt to solve the program with the `solve()` method:"
   ]
  },
  {
   "cell_type": "code",
   "execution_count": 3,
   "metadata": {},
   "outputs": [
    {
     "data": {
      "text/plain": [
       "'infeasible'"
      ]
     },
     "execution_count": 3,
     "metadata": {},
     "output_type": "execute_result"
    }
   ],
   "source": [
    "sdprelax.set_distribution(P_W_array)\n",
    "sdprelax.solve()\n",
    "sdprelax.status"
   ]
  },
  {
   "cell_type": "markdown",
   "metadata": {},
   "source": [
    "The problem status is reported as infeasible, therefore this serves as a proof that the W distribution is incompatible with the quantum triangle scenario. \n",
    "\n",
    "#### Certificate extraction\n",
    "\n",
    "We can furthermore recover a certificate of infeasibility as a polynomial inequality in the probabilities, $\\text{Poly}(p(abc|xyz) \\geq 0$ . This means that any other correlations vector $p'(abc|xyz)$ that also satisfies the inequality, $\\text{Poly}(p'(abc|xyz) \\geq 0$, is guaranteed to lead to an infeasible SDP. There are built-in methods to extract the symbolic form of $\\text{Poly}(p(abc|xyz))$:"
   ]
  },
  {
   "cell_type": "code",
   "execution_count": 4,
   "metadata": {},
   "outputs": [
    {
     "data": {
      "text/latex": [
       "$\\displaystyle 0.476 p(000|000) p_{A}(0|0) + 0.476 p(000|000) p_{B}(0|0) + 0.476 p(000|000) p_{C}(0|0) + 0.75 p(000|000) + 0.217 p_{AB}(00|00)^{2} + 0.085 p_{AB}(00|00) p_{AC}(00|00) + 0.059 p_{AB}(00|00) p_{A}(0|0) + 0.085 p_{AB}(00|00) p_{BC}(00|00) + 0.059 p_{AB}(00|00) p_{B}(0|0) - 0.359 p_{AB}(00|00) p_{C}(0|0) + 0.126 p_{AB}(00|00) + 0.217 p_{AC}(00|00)^{2} + 0.059 p_{AC}(00|00) p_{A}(0|0) + 0.085 p_{AC}(00|00) p_{BC}(00|00) - 0.359 p_{AC}(00|00) p_{B}(0|0) + 0.059 p_{AC}(00|00) p_{C}(0|0) + 0.126 p_{AC}(00|00) - 0.476 p_{A}(0|0)^{2} - 0.359 p_{A}(0|0) p_{BC}(00|00) + 1.0 p_{A}(0|0) p_{B}(0|0) p_{C}(0|0) - 0.765 p_{A}(0|0) p_{B}(0|0) - 0.765 p_{A}(0|0) p_{C}(0|0) + 0.365 p_{A}(0|0) + 0.217 p_{BC}(00|00)^{2} + 0.059 p_{BC}(00|00) p_{B}(0|0) + 0.059 p_{BC}(00|00) p_{C}(0|0) + 0.126 p_{BC}(00|00) - 0.476 p_{B}(0|0)^{2} - 0.765 p_{B}(0|0) p_{C}(0|0) + 0.365 p_{B}(0|0) - 0.476 p_{C}(0|0)^{2} + 0.365 p_{C}(0|0) + 0.563$"
      ],
      "text/plain": [
       "0.476*p(000|000)*p_{A}(0|0) + 0.476*p(000|000)*p_{B}(0|0) + 0.476*p(000|000)*p_{C}(0|0) + 0.75*p(000|000) + 0.217*p_{AB}(00|00)**2 + 0.085*p_{AB}(00|00)*p_{AC}(00|00) + 0.059*p_{AB}(00|00)*p_{A}(0|0) + 0.085*p_{AB}(00|00)*p_{BC}(00|00) + 0.059*p_{AB}(00|00)*p_{B}(0|0) - 0.359*p_{AB}(00|00)*p_{C}(0|0) + 0.126*p_{AB}(00|00) + 0.217*p_{AC}(00|00)**2 + 0.059*p_{AC}(00|00)*p_{A}(0|0) + 0.085*p_{AC}(00|00)*p_{BC}(00|00) - 0.359*p_{AC}(00|00)*p_{B}(0|0) + 0.059*p_{AC}(00|00)*p_{C}(0|0) + 0.126*p_{AC}(00|00) - 0.476*p_{A}(0|0)**2 - 0.359*p_{A}(0|0)*p_{BC}(00|00) + 1.0*p_{A}(0|0)*p_{B}(0|0)*p_{C}(0|0) - 0.765*p_{A}(0|0)*p_{B}(0|0) - 0.765*p_{A}(0|0)*p_{C}(0|0) + 0.365*p_{A}(0|0) + 0.217*p_{BC}(00|00)**2 + 0.059*p_{BC}(00|00)*p_{B}(0|0) + 0.059*p_{BC}(00|00)*p_{C}(0|0) + 0.126*p_{BC}(00|00) - 0.476*p_{B}(0|0)**2 - 0.765*p_{B}(0|0)*p_{C}(0|0) + 0.365*p_{B}(0|0) - 0.476*p_{C}(0|0)**2 + 0.365*p_{C}(0|0) + 0.563"
      ]
     },
     "execution_count": 4,
     "metadata": {},
     "output_type": "execute_result"
    }
   ],
   "source": [
    "sdprelax.certificate_as_probs(clean=True)"
   ]
  },
  {
   "cell_type": "markdown",
   "metadata": {},
   "source": [
    "In the above, lower indices indicate marginals. For example, $p_{AC}(ac|xz) := \\sum_b p(abc|xyz)$. Note that due to no-signaling, in this example the marginal is independent of the setting $y$.\n",
    "\n",
    " Finally, given that we only have two outcomes, we can also express the certificate in \"correlator form\", where the correlators are defined as \n",
    " \n",
    " $$\\left\\langle A_{x} \\right\\rangle =\\sum_{a\\in \\{0,1\\}} (-1)^{a} \\, p_{A}(a|x)$$ \n",
    " $$\\left\\langle A_{x} B_{y} \\right\\rangle =\\sum_{a, b \\in \\{0,1\\}} (-1)^{a+b} \\, p_{AB}(ab|xy)$$\n",
    " $$\\left\\langle A_{x} B_{y} C_{z}\\right\\rangle =\\sum_{a, b, c \\in \\{0,1\\}} (-1)^{a+b+c} \\, p(abc|xyz)$$ \n",
    " \n",
    " where the omitted 2-body and 1-body correlators have similar definitions:"
   ]
  },
  {
   "cell_type": "code",
   "execution_count": 5,
   "metadata": {},
   "outputs": [
    {
     "data": {
      "text/latex": [
       "$\\displaystyle 0.02975 \\langle A_{0} B_{0} C_{0} \\rangle \\langle A_{0} \\rangle + 0.02975 \\langle A_{0} B_{0} C_{0} \\rangle \\langle B_{0} \\rangle + 0.02975 \\langle A_{0} B_{0} C_{0} \\rangle \\langle C_{0} \\rangle - 0.183 \\langle A_{0} B_{0} C_{0} \\rangle + 0.0135625 \\langle A_{0} B_{0} \\rangle^{2} + 0.0053125 \\langle A_{0} B_{0} \\rangle \\langle A_{0} C_{0} \\rangle - 0.0695625 \\langle A_{0} B_{0} \\rangle \\langle A_{0} \\rangle + 0.0053125 \\langle A_{0} B_{0} \\rangle \\langle B_{0} C_{0} \\rangle - 0.0695625 \\langle A_{0} B_{0} \\rangle \\langle B_{0} \\rangle + 0.0045 \\langle A_{0} B_{0} \\rangle \\langle C_{0} \\rangle + 0.222125 \\langle A_{0} B_{0} \\rangle + 0.0135625 \\langle A_{0} C_{0} \\rangle^{2} - 0.0695625 \\langle A_{0} C_{0} \\rangle \\langle A_{0} \\rangle + 0.0053125 \\langle A_{0} C_{0} \\rangle \\langle B_{0} C_{0} \\rangle + 0.0045 \\langle A_{0} C_{0} \\rangle \\langle B_{0} \\rangle - 0.0695625 \\langle A_{0} C_{0} \\rangle \\langle C_{0} \\rangle + 0.222125 \\langle A_{0} C_{0} \\rangle - 0.0420625 \\langle A_{0} \\rangle^{2} + 0.0045 \\langle A_{0} \\rangle \\langle B_{0} C_{0} \\rangle - 0.125 \\langle A_{0} \\rangle \\langle B_{0} \\rangle \\langle C_{0} \\rangle - 0.0386875 \\langle A_{0} \\rangle \\langle B_{0} \\rangle - 0.0386875 \\langle A_{0} \\rangle \\langle C_{0} \\rangle + 0.052125 \\langle A_{0} \\rangle + 0.0135625 \\langle B_{0} C_{0} \\rangle^{2} - 0.0695625 \\langle B_{0} C_{0} \\rangle \\langle B_{0} \\rangle - 0.0695625 \\langle B_{0} C_{0} \\rangle \\langle C_{0} \\rangle + 0.222125 \\langle B_{0} C_{0} \\rangle - 0.0420625 \\langle B_{0} \\rangle^{2} - 0.0386875 \\langle B_{0} \\rangle \\langle C_{0} \\rangle + 0.052125 \\langle B_{0} \\rangle - 0.0420625 \\langle C_{0} \\rangle^{2} + 0.052125 \\langle C_{0} \\rangle + 0.548499999999999$"
      ],
      "text/plain": [
       "0.02975*\\langle A_{0} B_{0} C_{0} \\rangle*\\langle A_{0} \\rangle + 0.02975*\\langle A_{0} B_{0} C_{0} \\rangle*\\langle B_{0} \\rangle + 0.02975*\\langle A_{0} B_{0} C_{0} \\rangle*\\langle C_{0} \\rangle - 0.183*\\langle A_{0} B_{0} C_{0} \\rangle + 0.0135625*\\langle A_{0} B_{0} \\rangle**2 + 0.0053125*\\langle A_{0} B_{0} \\rangle*\\langle A_{0} C_{0} \\rangle - 0.0695625*\\langle A_{0} B_{0} \\rangle*\\langle A_{0} \\rangle + 0.0053125*\\langle A_{0} B_{0} \\rangle*\\langle B_{0} C_{0} \\rangle - 0.0695625*\\langle A_{0} B_{0} \\rangle*\\langle B_{0} \\rangle + 0.0045*\\langle A_{0} B_{0} \\rangle*\\langle C_{0} \\rangle + 0.222125*\\langle A_{0} B_{0} \\rangle + 0.0135625*\\langle A_{0} C_{0} \\rangle**2 - 0.0695625*\\langle A_{0} C_{0} \\rangle*\\langle A_{0} \\rangle + 0.0053125*\\langle A_{0} C_{0} \\rangle*\\langle B_{0} C_{0} \\rangle + 0.0045*\\langle A_{0} C_{0} \\rangle*\\langle B_{0} \\rangle - 0.0695625*\\langle A_{0} C_{0} \\rangle*\\langle C_{0} \\rangle + 0.222125*\\langle A_{0} C_{0} \\rangle - 0.0420625*\\langle A_{0} \\rangle**2 + 0.0045*\\langle A_{0} \\rangle*\\langle B_{0} C_{0} \\rangle - 0.125*\\langle A_{0} \\rangle*\\langle B_{0} \\rangle*\\langle C_{0} \\rangle - 0.0386875*\\langle A_{0} \\rangle*\\langle B_{0} \\rangle - 0.0386875*\\langle A_{0} \\rangle*\\langle C_{0} \\rangle + 0.052125*\\langle A_{0} \\rangle + 0.0135625*\\langle B_{0} C_{0} \\rangle**2 - 0.0695625*\\langle B_{0} C_{0} \\rangle*\\langle B_{0} \\rangle - 0.0695625*\\langle B_{0} C_{0} \\rangle*\\langle C_{0} \\rangle + 0.222125*\\langle B_{0} C_{0} \\rangle - 0.0420625*\\langle B_{0} \\rangle**2 - 0.0386875*\\langle B_{0} \\rangle*\\langle C_{0} \\rangle + 0.052125*\\langle B_{0} \\rangle - 0.0420625*\\langle C_{0} \\rangle**2 + 0.052125*\\langle C_{0} \\rangle + 0.548499999999999"
      ]
     },
     "execution_count": 5,
     "metadata": {},
     "output_type": "execute_result"
    }
   ],
   "source": [
    "sdprelax.certificate_as_correlators(clean=True)"
   ]
  },
  {
   "cell_type": "markdown",
   "metadata": {},
   "source": [
    "### Example 2: Critical visibility of the 2PR distribution in the quantum tripartite-line scenario\n",
    "\n",
    "It is known that the 2PR distribution, defined as:\n",
    "\n",
    "$$ P_{\\text{2PR}}(abc|xyz) := \\frac{1+ (-1)^{a+b+c+xy+yz}}{8} $$\n",
    "\n",
    "is incompatible with the tripartite-line scenario (also called \"quantum bilocal scenario\"), whose DAG is depicted in the following figure:\n",
    "\n",
    "<center> <img src=\"./figures/bilocal_1.PNG\" alt=\"drawing\" width=\"400\"/> </center>\n",
    "\n",
    "This can be shown by running a feasibility program, as in Example 1. We might also be interested in studying how much noise this distribution can tolerate before the relaxation no longer identifies the distribution as incompatible. One simple model of noise is that of a probabilistic mixture with the uniform distribution:\n",
    "\n",
    "$$ P_{\\text{2PR,v}} := v P_{\\text{2PR}}  + (1-v)/8 $$\n",
    "\n",
    "A simple approach would be to vary the parameter $v$ from $v{=}1$ to $v{=}0$ and find the $v_{\\text{crit}}$ for which the problem status changes from infeasible to feasible. However, there is a more robust method available.\n",
    "\n",
    "#### Feasibility as an optimisation\n",
    "\n",
    "A more numerically robust approach is to convert feasibility problems to optimisation problems. Instead of imposing that the moment matrix $\\Gamma$ of the SDP relaxation is positive semidefinite, we can maximize the minimum eigenvalue of $\\Gamma$ and check its sign. Clearly, if the result of the optimisation is negative, then one cannot find a matrix $\\Gamma$ that is positive semidefinite, thus the original program is infeasible. \n",
    "\n",
    "By setting the flag `feas_as_optim` to `True` in the `InflationSDP.solve()` method, feasibility problems are converted to optimisation problems. The result is stored in `InflationSDP.objective_value`. \n",
    "\n",
    "We encode the inflation scenario and generate the relaxation corresponding to NPA level 2:"
   ]
  },
  {
   "cell_type": "code",
   "execution_count": 6,
   "metadata": {},
   "outputs": [],
   "source": [
    "qbilocal = InflationProblem(dag={\"rho_AB\": [\"A\", \"B\"],\n",
    "                                 \"rho_BC\": [\"B\", \"C\"]},\n",
    "                            outcomes_per_party=[2, 2, 2],\n",
    "                            settings_per_party=[2, 2, 2],\n",
    "                            inflation_level_per_source=[2, 2])\n",
    "qbilocal_relax = InflationSDP(qbilocal)\n",
    "qbilocal_relax.generate_relaxation('npa2')"
   ]
  },
  {
   "cell_type": "markdown",
   "metadata": {},
   "source": [
    "And next we run a simple bisection to find the $v_{\\text{crit}}$ for which the maximum minimum eigenvalue is 0. The bisection is implemented in an auxiliary file:"
   ]
  },
  {
   "cell_type": "code",
   "execution_count": 7,
   "metadata": {},
   "outputs": [
    {
     "data": {
      "text/plain": [
       "0.500030517578125"
      ]
     },
     "execution_count": 7,
     "metadata": {},
     "output_type": "execute_result"
    }
   ],
   "source": [
    "sdp, v_crit = bisection(qbilocal_relax, P_2PR_array)\n",
    "v_crit"
   ]
  },
  {
   "cell_type": "markdown",
   "metadata": {},
   "source": [
    "We recover a critical visibility that is consistent with the known critical visibility of the 2PR distribution in the quantum tripartite-line scenario, namely $v>\\frac{1}{2}$. Higher order inflations or higher levels in the NPA hierarchy are expected (but not proved) to get a numerical visibility that gets asymptotically closer to $v=\\frac{1}{2}$ as the hierarchy increases."
   ]
  },
  {
   "cell_type": "markdown",
   "metadata": {},
   "source": [
    "## Optimization of Bell operators\n",
    "\n",
    "One can use inflation techniques to not only run causal compatibility problems, but also to optimize over the generated relaxation, and therefore get upper bounds on the values of various Bell operators."
   ]
  },
  {
   "cell_type": "markdown",
   "metadata": {},
   "source": [
    "### Example 3. Upper bounds on Mermin's inequality\n",
    "\n",
    "Let us consider Mermin's inequality, written in the correlator form introduced in Example 1:\n",
    "\n",
    "$$ \\text{Mermin} = \\langle A_1 B_0 C_0 \\rangle +  \\langle A_0 B_1 C_0 \\rangle +  \\langle A_0 B_0 C_1 \\rangle -  \\langle A_1 B_1 C_1 \\rangle $$\n",
    "\n",
    "It is known that the algebraic maximum of 4 is achieved in the tripartite scenario both with global shared randomness and also global non-signaling sources. However, one can see a difference between quantum and general no-signaling sources when restricting to the triangle scenario from Example 1.\n",
    "\n",
    "First we generate the relaxation corresponding to a second order inflation of the triangle of NPA level 2: "
   ]
  },
  {
   "cell_type": "code",
   "execution_count": 20,
   "metadata": {},
   "outputs": [],
   "source": [
    "qtriangle = InflationProblem(dag={\"rho_AB\": [\"A\", \"B\"],\n",
    "                                  \"rho_BC\": [\"B\", \"C\"],\n",
    "                                  \"rho_AC\": [\"A\", \"C\"]}, \n",
    "                             outcomes_per_party=[2, 2, 2],\n",
    "                             settings_per_party=[2, 2, 2],\n",
    "                             inflation_level_per_source=[2, 2, 2])\n",
    "sdprelax = InflationSDP(qtriangle)\n",
    "sdprelax.generate_relaxation('npa2')"
   ]
  },
  {
   "cell_type": "markdown",
   "metadata": {},
   "source": [
    "We implement the objective function after extracting the measurement operators and solve the program:"
   ]
  },
  {
   "cell_type": "code",
   "execution_count": 21,
   "metadata": {},
   "outputs": [
    {
     "data": {
      "text/plain": [
       "3.999999981256284"
      ]
     },
     "execution_count": 21,
     "metadata": {},
     "output_type": "execute_result"
    }
   ],
   "source": [
    "mmnts = sdprelax.measurements\n",
    "A0, B0, C0, A1, B1, C1 = (1-2*mmnts[party][0][setting][0] for setting in range(2) for party in range(3))\n",
    "\n",
    "sdprelax.set_objective(objective = A1*B0*C0 + A0*B1*C0 + A0*B0*C1 - A1*B1*C1)\n",
    "sdprelax.solve()\n",
    "\n",
    "sdprelax.objective_value"
   ]
  },
  {
   "cell_type": "markdown",
   "metadata": {},
   "source": [
    "Notice that we get a value that is within numerical precision the algebraic maximum of 4. To improve on this result, we will need to do a tighter SDP relaxation.\n",
    "\n",
    "#### Customising the generating set for the semidefinite relaxation\n",
    "\n",
    "To get a tighter SDP relaxation, we will add more monomoials to the generating set. Namely, we will use the union of the monomoials corresponding to NPA level 2 and local level 1.\n",
    "\n",
    "The so-called \"local levels\" are a different choice of generating set for the moment matrix. Whereas NPA level $n$ is the $n$-times cartesian product (without duplicated elements) of the set of measurements of the parties together with the identity, local level $n$ refers to a generating set with all the products up to $n$ operators per party. For more details, see [Physical Review X 11.2 (2021): 021043](https://journals.aps.org/prx/abstract/10.1103/PhysRevX.11.021043).\n",
    "\n",
    "In what follows, we use the built-in method `InflationSDP.build_columns()` to generate the columns corresponding to NPA level 2 and local level 1. Then we do a union, generate the relaxation and again, solve the program. As it will now take a bit longer, we increase the verbosity level to see the progress: "
   ]
  },
  {
   "cell_type": "code",
   "execution_count": 22,
   "metadata": {},
   "outputs": [
    {
     "name": "stdout",
     "output_type": "stream",
     "text": [
      "Problem\n",
      "  Name                   : InflationSDP    \n",
      "  Objective sense        : min             \n",
      "  Type                   : CONIC (conic optimization problem)\n",
      "  Constraints            : 17840           \n",
      "  Cones                  : 0               \n",
      "  Scalar variables       : 1904            \n",
      "  Matrix variables       : 1               \n",
      "  Integer variables      : 0               \n",
      "\n",
      "Optimizer started.\n",
      "Presolve started.\n",
      "Linear dependency checker started.\n",
      "Linear dependency checker terminated.\n",
      "Eliminator started.\n",
      "Freed constraints in eliminator : 0\n",
      "Eliminator terminated.\n",
      "Eliminator - tries                  : 1                 time                   : 0.00            \n",
      "Lin. dep.  - tries                  : 1                 time                   : 0.00            \n",
      "Lin. dep.  - number                 : 0               \n",
      "Presolve terminated. Time: 0.00    \n",
      "Problem\n",
      "  Name                   : InflationSDP    \n",
      "  Objective sense        : min             \n",
      "  Type                   : CONIC (conic optimization problem)\n",
      "  Constraints            : 17840           \n",
      "  Cones                  : 0               \n",
      "  Scalar variables       : 1904            \n",
      "  Matrix variables       : 1               \n",
      "  Integer variables      : 0               \n",
      "\n",
      "Optimizer  - threads                : 10              \n",
      "Optimizer  - solved problem         : the primal      \n",
      "Optimizer  - Constraints            : 17840\n",
      "Optimizer  - Cones                  : 0\n",
      "Optimizer  - Scalar variables       : 1903              conic                  : 0               \n",
      "Optimizer  - Semi-definite variables: 1                 scalarized             : 381501          \n",
      "Factor     - setup time             : 42.25             dense det. time        : 0.00            \n",
      "Factor     - ML order time          : 23.17             GP order time          : 0.00            \n",
      "Factor     - nonzeros before factor : 1.59e+08          after factor           : 1.59e+08        \n",
      "Factor     - dense dim.             : 0                 flops                  : 2.11e+12        \n",
      "ITE PFEAS    DFEAS    GFEAS    PRSTATUS   POBJ              DOBJ              MU       TIME  \n",
      "0   1.6e+01  1.0e+00  2.0e+00  0.00e+00   3.000000000e+00   2.000000000e+00   1.0e+00  42.80 \n",
      "1   1.3e+01  8.1e-01  8.5e-01  -9.07e-02  3.487979591e+00   2.580713241e+00   8.1e-01  95.83 \n",
      "2   1.2e+01  7.6e-01  6.1e-01  2.22e+00   3.483341402e+00   2.780474156e+00   7.6e-01  148.36\n",
      "3   9.4e+00  5.9e-01  3.1e-01  2.15e+00   3.149042793e+00   2.755718677e+00   5.9e-01  200.86\n",
      "4   5.1e+00  3.2e-01  7.2e-02  2.15e+00   2.785156189e+00   2.652930004e+00   3.2e-01  253.20\n",
      "5   2.1e+00  1.3e-01  2.1e-02  1.71e+00   2.798676199e+00   2.753887725e+00   1.3e-01  307.19\n",
      "6   9.2e-01  5.8e-02  6.2e-03  1.15e+00   3.243497120e+00   3.224193440e+00   5.8e-02  360.02\n",
      "7   5.8e-01  3.6e-02  3.0e-03  1.15e+00   3.312418650e+00   3.300547408e+00   3.6e-02  413.49\n",
      "8   3.4e-01  2.1e-02  1.3e-03  1.08e+00   3.286460712e+00   3.279587719e+00   2.1e-02  466.16\n",
      "9   6.6e-02  4.1e-03  1.0e-04  1.03e+00   3.169765786e+00   3.168363941e+00   4.1e-03  523.41\n",
      "10  3.4e-02  2.1e-03  3.9e-05  9.95e-01   3.131104307e+00   3.130378455e+00   2.1e-03  575.97\n",
      "11  4.7e-03  2.9e-04  1.8e-06  1.05e+00   3.093621307e+00   3.093521974e+00   2.9e-04  631.95\n",
      "12  1.3e-03  8.2e-05  2.7e-07  1.06e+00   3.087462535e+00   3.087435240e+00   8.2e-05  685.74\n",
      "13  1.9e-05  1.2e-06  4.5e-10  1.02e+00   3.085076390e+00   3.085075990e+00   1.2e-06  740.50\n",
      "14  3.8e-08  2.5e-08  3.1e-14  1.00e+00   3.085044523e+00   3.085044522e+00   2.4e-09  796.34\n",
      "Optimizer terminated. Time: 796.39  \n",
      "\n",
      "\n",
      "Interior-point solution summary\n",
      "  Problem status  : PRIMAL_AND_DUAL_FEASIBLE\n",
      "  Solution status : OPTIMAL\n",
      "  Primal.  obj: 3.0850445229e+00    nrm: 1e+00    Viol.  con: 7e-09    var: 4e-10    barvar: 0e+00  \n",
      "  Dual.    obj: 3.0850445221e+00    nrm: 3e+00    Viol.  con: 0e+00    var: 2e-16    barvar: 5e-09  \n"
     ]
    },
    {
     "data": {
      "text/plain": [
       "3.0850445229084524"
      ]
     },
     "execution_count": 22,
     "metadata": {},
     "output_type": "execute_result"
    }
   ],
   "source": [
    "qtriangle = InflationProblem(dag={\"rho_AB\": [\"A\", \"B\"],\n",
    "                                  \"rho_BC\": [\"B\", \"C\"],\n",
    "                                  \"rho_AC\": [\"A\", \"C\"]}, \n",
    "                             outcomes_per_party=[2, 2, 2],\n",
    "                             settings_per_party=[2, 2, 2],\n",
    "                             inflation_level_per_source=[2, 2, 2])\n",
    "sdprelax = InflationSDP(qtriangle)\n",
    "# sdprelax.generate_relaxation('npa2')\n",
    "\n",
    "npa2   = sdprelax.build_columns('npa2')\n",
    "local1 = sdprelax.build_columns('local1')\n",
    "\n",
    "newgeneratingset = npa2\n",
    "for mon in local1:\n",
    "     if mon not in newgeneratingset:\n",
    "         newgeneratingset.append(mon)\n",
    "\n",
    "sdprelax.generate_relaxation(newgeneratingset)\n",
    "sdprelax.set_objective(objective = A1*B0*C0 + A0*B1*C0 + A0*B0*C1 - A1*B1*C1)\n",
    "\n",
    "sdprelax.verbose = 1\n",
    "sdprelax.solve()\n",
    "sdprelax.objective_value"
   ]
  },
  {
   "cell_type": "markdown",
   "metadata": {},
   "source": [
    "After running the above, we can certify then that the Mermin inequality cannot have a value larger than $3.085$ for the quantum triangle causal scenario. "
   ]
  },
  {
   "cell_type": "markdown",
   "metadata": {},
   "source": [
    "## Optimisation over classical distributions and feasibility problems \n",
    "\n",
    "With quantum inflation, we can also optimize over a relaxation of the set of distributions compatible with a classical DAG. This works by imposing at the level of the SDP relaxation the constraint that all operators defining the moments commute. The effect of this constraint is that previously different variables in the moment matrix become identical. For example, $\\langle A_{x} A_{x'} \\rangle \\neq \\langle A_{x'} A_{x} \\rangle$ in general in quantum mechanics, but if we assume all operators commute, then they become equal. \n",
    "\n",
    "To enable this feauture one simply adds the flag `commuting=True` when instantiating the `InflationSDP` object. "
   ]
  },
  {
   "cell_type": "markdown",
   "metadata": {},
   "source": [
    "### Example 4: Critical visibility of the 2PR distribution in the *classical* tripartite-line scenario\n",
    "\n",
    "As an example, we find the critical visibility of the $P_{\\text{2PR}}$ distribution from Example 2, but in the classical tripartite line scenario with a second order inflation, and with the local level 1 generating set for the SDP relaxation (local levels are introduced in Example 3):"
   ]
  },
  {
   "cell_type": "code",
   "execution_count": 11,
   "metadata": {},
   "outputs": [
    {
     "data": {
      "text/plain": [
       "0.353546142578125"
      ]
     },
     "execution_count": 11,
     "metadata": {},
     "output_type": "execute_result"
    }
   ],
   "source": [
    "qbilocal = InflationProblem(dag={\"rho_AB\": [\"A\", \"B\"], \"rho_BC\": [\"B\", \"C\"]},\n",
    "                            outcomes_per_party=[2, 2, 2],\n",
    "                            settings_per_party=[2, 2, 2],\n",
    "                            inflation_level_per_source=[2, 2])\n",
    "qbilocal_relax = InflationSDP(qbilocal, commuting=True)\n",
    "qbilocal_relax.generate_relaxation('local1')\n",
    "sdp, v_crit = bisection(qbilocal_relax, P_2PR_array, verbose=0)\n",
    "v_crit"
   ]
  },
  {
   "cell_type": "markdown",
   "metadata": {},
   "source": [
    "This relaxation of the set of distributions classically simulable in the tripartite line scenario certifies then the incompatibility of the $P_{\\text{2PR}}$ distribution for $v>0.3536$. This does not completely certify incompatibility down to the known critical threshold of $v_{\\text{crit}}=\\frac{1}{4}$, but we expect tighter relaxations, which are computationally more expensive, might recover this value. \n",
    "\n",
    "For optimisation problems, one can run the exact same program as in Example 3, but with the flag `commuting` set to `True`."
   ]
  },
  {
   "cell_type": "markdown",
   "metadata": {},
   "source": [
    "## Standard NPA\n",
    "\n",
    "If the DAG corresponds to a single global shared source scenario, then doing an inflation does not grant any advantage. In this case, the semidefinite programming relaxation defaults to being the same as the [NPA hierarcy](https://iopscience.iop.org/article/10.1088/1367-2630/10/7/073013). If we set the `commuting` flag to `True` then this is a relaxation of the set of distributions classically with global shared randomness, as introduced in [Phys. Rev. X 7, 021042](https://journals.aps.org/prx/abstract/10.1103/PhysRevX.7.021042). We will show this with two simple examples."
   ]
  },
  {
   "cell_type": "markdown",
   "metadata": {},
   "source": [
    "### Example 5: Critical visibility of the PR box in the standard Bell scenario with quantum sources\n",
    "\n",
    "We recover the critical visibility of $v_{\\text{crit}}=\\frac{1}{\\sqrt{2}}$ for a [Popeschu-Rohrlich box](https://link.springer.com/article/10.1007/BF02058098) in the Bell scenario.  "
   ]
  },
  {
   "cell_type": "code",
   "execution_count": 12,
   "metadata": {},
   "outputs": [
    {
     "name": "stdout",
     "output_type": "stream",
     "text": [
      "0 Maximum smallest eigenvalue:    0.06623 \tvisibility = 0.5\n",
      "1 Maximum smallest eigenvalue:   -0.01418 \tvisibility = 0.75\n",
      "2 Maximum smallest eigenvalue:    0.02683 \tvisibility = 0.625\n",
      "3 Maximum smallest eigenvalue:   0.006449 \tvisibility = 0.6875\n",
      "4 Maximum smallest eigenvalue:  -0.003839 \tvisibility = 0.7188\n",
      "5 Maximum smallest eigenvalue:   0.001311 \tvisibility = 0.7031\n",
      "6 Maximum smallest eigenvalue:  -0.001262 \tvisibility = 0.7109\n",
      "7 Maximum smallest eigenvalue:  2.489e-05 \tvisibility = 0.707\n",
      "8 Maximum smallest eigenvalue: -0.0006186 \tvisibility = 0.709\n",
      "9 Maximum smallest eigenvalue: -0.0002968 \tvisibility = 0.708\n",
      "10 Maximum smallest eigenvalue:  -0.000136 \tvisibility = 0.7075\n",
      "11 Maximum smallest eigenvalue: -5.554e-05 \tvisibility = 0.7073\n",
      "12 Maximum smallest eigenvalue: -1.533e-05 \tvisibility = 0.7072\n",
      "13 Maximum smallest eigenvalue:   4.78e-06 \tvisibility = 0.7071\n",
      "Critical visibility:  0.707122802734375\n"
     ]
    },
    {
     "data": {
      "text/latex": [
       "$\\displaystyle \\langle A_{0} B_{0} \\rangle + \\langle A_{0} B_{1} \\rangle + \\langle A_{1} B_{0} \\rangle - 1.0 \\langle A_{1} B_{1} \\rangle - 2.828$"
      ],
      "text/plain": [
       "\\langle A_{0} B_{0} \\rangle + \\langle A_{0} B_{1} \\rangle + \\langle A_{1} B_{0} \\rangle - 1.0*\\langle A_{1} B_{1} \\rangle - 2.828"
      ]
     },
     "execution_count": 12,
     "metadata": {},
     "output_type": "execute_result"
    }
   ],
   "source": [
    "bellscenario = InflationProblem(dag={\"rho_AB\": [\"A\", \"B\"]},\n",
    "                                outcomes_per_party=[2, 2], \n",
    "                                settings_per_party=[2, 2])\n",
    "bellscenario_relax = InflationSDP(bellscenario)\n",
    "bellscenario_relax.generate_relaxation('npa1')\n",
    "sdp, v_crit = bisection(bellscenario_relax, P_PRbox_array, verbose=1)\n",
    "print(\"Critical visibility: \", v_crit)\n",
    "sdp.certificate_as_correlators(clean=True)*-4"
   ]
  },
  {
   "cell_type": "markdown",
   "metadata": {},
   "source": [
    "Notice that the dual certificate that we extract in correlator form (which has been renormalised and rounded numerically) is the CHSH inequality tangent to the quantum set of correlations."
   ]
  },
  {
   "cell_type": "markdown",
   "metadata": {},
   "source": [
    "### Example 6: Optimising the CHSH inequality in the Bell scenario\n",
    "\n",
    "To find upper bounds on the values for the CHSH Bell operator, recovered in Example 5, we run a similar program to that in Example 2:"
   ]
  },
  {
   "cell_type": "code",
   "execution_count": 13,
   "metadata": {},
   "outputs": [
    {
     "data": {
      "text/plain": [
       "2.8284271429557952"
      ]
     },
     "execution_count": 13,
     "metadata": {},
     "output_type": "execute_result"
    }
   ],
   "source": [
    "bellscenario_relax = InflationSDP(bellscenario)\n",
    "bellscenario_relax.generate_relaxation('npa1')\n",
    "\n",
    "mmnts = bellscenario_relax.measurements\n",
    "A0, B0, A1, B1 = (1-2*mmnts[party][0][x][0] for x in [0, 1] for party in [0, 1])\n",
    "\n",
    "bellscenario_relax.set_objective(A0*B0 + A0*B1 + A1*B0 - A1*B1)\n",
    "bellscenario_relax.solve()\n",
    "bellscenario_relax.objective_value"
   ]
  },
  {
   "cell_type": "markdown",
   "metadata": {},
   "source": [
    "We correctly recover the Tsirelson bound for the CHSH inequality."
   ]
  },
  {
   "cell_type": "markdown",
   "metadata": {},
   "source": [
    "## SDP hierarchy of \"physical moments\"\n",
    "\n",
    "For the generation of the semidefinite programming relaxation, besides NPA levels and local levels, we also implement a hierachy of \"physical moments\" of level $n$. This is a subset of local level $n$ of all the monomials for which all operators in that monomial commute due to non-overlapping support in the inflated graph."
   ]
  },
  {
   "cell_type": "markdown",
   "metadata": {},
   "source": [
    "### Example 7: Critical visibility of the W distribution with the physical moments hierarchy\n",
    "\n",
    " As an application, we show how we can recover the critical visibility $v_{\\text{crit}}\\approx=0.8038$ of the W distribution in the triangle causal scenario achieved with the generating set corresponding to local level 2 with monomials of maximum length 4, as shown in [Physical Review X 11.2 (2021): 021043](https://journals.aps.org/prx/abstract/10.1103/PhysRevX.11.021043). This corresponds to a moment matrix of size 1175x1175. However, by using the second level of the physical moments hierarchy of monomials up to length 4, we recover the same results with a smaller moment matrix:"
   ]
  },
  {
   "cell_type": "code",
   "execution_count": 14,
   "metadata": {},
   "outputs": [
    {
     "name": "stdout",
     "output_type": "stream",
     "text": [
      "0 Maximum smallest eigenvalue:  0.0001523 \tvisibility = 0.5\n",
      "1 Maximum smallest eigenvalue:  4.132e-05 \tvisibility = 0.75\n",
      "2 Maximum smallest eigenvalue:  -0.003502 \tvisibility = 0.875\n",
      "3 Maximum smallest eigenvalue:  -0.000197 \tvisibility = 0.8125\n",
      "4 Maximum smallest eigenvalue:  3.192e-05 \tvisibility = 0.7812\n",
      "5 Maximum smallest eigenvalue:  2.283e-05 \tvisibility = 0.7969\n",
      "6 Maximum smallest eigenvalue: -1.558e-05 \tvisibility = 0.8047\n",
      "7 Maximum smallest eigenvalue:  1.074e-05 \tvisibility = 0.8008\n",
      "8 Maximum smallest eigenvalue:  3.997e-06 \tvisibility = 0.8027\n",
      "9 Maximum smallest eigenvalue:   4.96e-07 \tvisibility = 0.8037\n",
      "10 Maximum smallest eigenvalue: -6.422e-06 \tvisibility = 0.8042\n",
      "11 Maximum smallest eigenvalue: -1.948e-06 \tvisibility = 0.804\n",
      "12 Maximum smallest eigenvalue:  5.734e-08 \tvisibility = 0.8038\n",
      "13 Maximum smallest eigenvalue: -8.405e-07 \tvisibility = 0.8039\n"
     ]
    },
    {
     "data": {
      "text/plain": [
       "0.803863525390625"
      ]
     },
     "execution_count": 14,
     "metadata": {},
     "output_type": "execute_result"
    }
   ],
   "source": [
    "qtriangle = InflationProblem(dag={\"rho_AB\": [\"A\", \"B\"],\n",
    "                                  \"rho_BC\": [\"B\", \"C\"],\n",
    "                                  \"rho_AC\": [\"A\", \"C\"],},\n",
    "                            outcomes_per_party=[2, 2, 2],\n",
    "                            settings_per_party=[1, 1, 1],\n",
    "                            inflation_level_per_source=[2, 2, 2])\n",
    "qtriangle_relax = InflationSDP(qtriangle)\n",
    "cols = qtriangle_relax.build_columns('physical2', max_monomial_length=4)\n",
    "qtriangle_relax.generate_relaxation(cols)\n",
    "\n",
    "sdp, v_crit = bisection(qtriangle_relax, P_W_array, verbose=1)\n",
    "v_crit"
   ]
  },
  {
   "cell_type": "markdown",
   "metadata": {},
   "source": [
    "We recover the same critical visibility of $v_{\\text{crit}}\\approx 0.8039$ a moment matrix of size 287x287 as opposed to 1175x1175, which leads to a signfificant gain in performance."
   ]
  },
  {
   "cell_type": "markdown",
   "metadata": {},
   "source": [
    "## Linearized polynomial identification (LPI) constraints\n",
    "\n",
    "LPI constraints were introduced in [arXiv:2203.16543](https://arxiv.org/abs/2203.16543). They are proportionality constraints between different entries of the moment matrix. Due to nature of the inflated graph, many of the moments in the moment matrix factorise into products of other moments. \n",
    "\n",
    "As a simplified example, consider the moment $\\langle A^{110}_{xa} B^{202}_{x'a'} B^{201}_{yb} \\rangle$ in the inflated triangle of order two. In the triangle, we have three sources, $\\rho_{AB}$, $\\rho_{AC}$ and $\\rho_{BC}$. The upper indices in the operators of the previous moment indicate on which copy of the sources the operator is acting. The value 0 means that the party does not measure the corresponding source. For example, $B^{201}_{yb}$ represents Bob measuring outcome $b$ of setting $y$ on copy 2 of $\\rho_{AB}$ and copy 1 of $\\rho_{BC}$. Notice that because of the non-overlapping support of some of the moments, the moment factorises as follows:\n",
    "\n",
    "$$\\langle A^{110}_{xa} B^{202}_{x'a'} B^{201}_{yb} \\rangle = \\langle A^{110}_{xa} \\rangle \\langle B^{202}_{x'a'} B^{201}_{yb} \\rangle $$ \n",
    "\n",
    "The moment $\\langle A^{110}_{xa} \\rangle$ is known to be equal to $p_A(a|x)$, but  $\\langle B^{202}_{x'a'} B^{201}_{yb} \\rangle$ is unknown. Therefore, we have a linear proportionality relationship between the variables $\\langle A^{110}_{xa} B^{202}_{x'a'} B^{201}_{yb} \\rangle$ and $\\langle B^{202}_{x'a'} B^{201}_{yb} \\rangle$.\n",
    "\n",
    "Proportionality constraints of these form can be automatically implemented by setting `use_lpi_constraints` to `True` when using the `set_distribution()` method."
   ]
  },
  {
   "cell_type": "markdown",
   "metadata": {},
   "source": [
    "### Example 8: Critical visibility of the W distribution with the physical moments hierarchy and LPI constraints\n",
    "\n",
    "We will now show how using LPI constraints lead to tighter relaxations. For example, we can certify incompatiblity with the triangle for noisier W distributions than before."
   ]
  },
  {
   "cell_type": "code",
   "execution_count": 15,
   "metadata": {},
   "outputs": [
    {
     "data": {
      "text/plain": [
       "0.765045166015625"
      ]
     },
     "execution_count": 15,
     "metadata": {},
     "output_type": "execute_result"
    }
   ],
   "source": [
    "qtriangle = InflationProblem(dag={\"rho_AB\": [\"A\", \"B\"],\n",
    "                                  \"rho_BC\": [\"B\", \"C\"],\n",
    "                                  \"rho_AC\": [\"A\", \"C\"],},\n",
    "                            outcomes_per_party=[2, 2, 2],\n",
    "                            settings_per_party=[1, 1, 1],\n",
    "                            inflation_level_per_source=[2, 2, 2])\n",
    "qtriangle_relax = InflationSDP(qtriangle)\n",
    "cols = qtriangle_relax.build_columns('physical2', max_monomial_length=4)\n",
    "qtriangle_relax.generate_relaxation(cols)\n",
    "\n",
    "sdp, v_crit = bisection(qtriangle_relax, P_W_array, use_lpi_constraints=True)\n",
    "v_crit"
   ]
  },
  {
   "cell_type": "code",
   "execution_count": 17,
   "metadata": {},
   "outputs": [
    {
     "name": "stdout",
     "output_type": "stream",
     "text": [
      "-0.037262938235857856\n"
     ]
    }
   ],
   "source": [
    "qtriangle_relax.set_distribution(P_W_array, use_lpi_constraints=True)\n",
    "qtriangle_relax.solve(feas_as_optim=True, dualise=True)\n",
    "print(qtriangle_relax.objective_value)"
   ]
  },
  {
   "cell_type": "markdown",
   "metadata": {},
   "source": [
    "The critical value for the noise that we achieve, $v_{\\text{crit}}=0.7650$, is lower than the critical value for the noise that we achieved in Example 7, $v_{\\text{crit}}=0.8039$.\n",
    "\n",
    "**Warning!** The tradeoff of using LPI constraints is that the dual certificate is no longer valid for other distributions. We can still certify incompatibility of a specific distribution $P_0$ with a certain causal model with the extracted certificate $\\text{Poly}_{P_0}(P_0)>0$ when using LPI constraints, but when checking other distributions $P_1$ with the same certificate, satisfying he inequality $\\text{Poly}_{P_0}(P_1)>0$ no longer guarantees that $P_1$ is also incompatible with the same causal structure."
   ]
  },
  {
   "cell_type": "markdown",
   "metadata": {},
   "source": [
    "# Partial information support"
   ]
  },
  {
   "cell_type": "markdown",
   "metadata": {},
   "source": [
    "It is also interesting to study scenarios where not all the information about a particular distribution in the original scenario is known. Specifying particular elements of a distribution in an `InflationSDP` object is achieved via the use of the function `InflationSDP.set_values()`, which admits as input a dictionary where the keys are the variables to be assigned numerical quantities, and the corresponding values are the quantities themselves. \n",
    "\n",
    "## Example 9: Eavesdropped quantum repeater\n",
    "\n",
    "An important example is the the analysis of cryptographic scenarios, where the honest parties may know their joint distribution but they cannot know their joint distribution together with a potential adversary. One simple such scenario is considered in Sec. VII in [Physical Review X 11.2 (2021): 021043](https://journals.aps.org/prx/abstract/10.1103/PhysRevX.11.021043). This scenario considers the quantum repeater/entanglement swapping experiment from Example 2 but with a hidden adversary, Eve, which is eavesdropping the sources $\\rho_{AB}$ and $\\rho_{BC}$ in an attempt to extract information about the secret key Alice and Charlie are trying to establish. Using quantum inflation, one can derive strict bounds on the amount of information Eve can extract about the secret key, as detailed in [Physical Review X 11.2 (2021): 021043](https://journals.aps.org/prx/abstract/10.1103/PhysRevX.11.021043). To implement this example with our package one would write:"
   ]
  },
  {
   "cell_type": "code",
   "execution_count": null,
   "metadata": {},
   "outputs": [],
   "source": [
    "from examples_utils import EveGuessingProbability\n",
    "import numpy as np\n",
    "import itertools\n",
    "\n",
    "InfProb = InflationProblem(dag={\"rhoABE\": [\"A\", \"B\", \"E\"],\n",
    "                                \"rhoBCE\": [\"B\", \"C\", \"E\"]},\n",
    "                           outcomes_per_party=[2, 4, 2, 2],\n",
    "                           settings_per_party=[2, 1, 2, 1],\n",
    "                           inflation_level_per_source=[2, 2])\n",
    "\n",
    "InfSDP = InflationSDP(InfProb, commuting=False, verbose=1)\n",
    "\n",
    "InfSDP.generate_relaxation(InfSDP.build_columns('local1', max_monomial_length=3))\n",
    "meas = InfSDP.measurements  # accessed as meas[party][0][setting][outcome]\n",
    "\n",
    "InfSDP.verbose = 0\n",
    "visibilities, results = np.linspace(1, 0.85, 16), np.zeros(16)\n",
    "for i, visibility in enumerate(visibilities):\n",
    "    p = EveGuessingProbability(visibility)  # p[a,b,c,x,z] == p(a,b,c,x,z)\n",
    "    p0 = np.sum(p[0,:,0,0,0])\n",
    "    InfSDP.set_objective(meas[0][0][0][0]*meas[2][0][0][0]*meas[3][0][0][0]/p0\n",
    "                         - meas[3][0][0][0])\n",
    "    known_values = {}\n",
    "    # 3 body terms\n",
    "    for a, b, c, x, z in itertools.product(range(1), range(3), range(1), range(2), range(2)):\n",
    "        known_values[meas[0][0][x][a]*meas[1][0][0][b]*meas[2][0][z][c]] = p[a,b,c,x,z]\n",
    "    # 2 body terms\n",
    "    for a, b, x in itertools.product(range(1), range(3), range(2)):\n",
    "        known_values[meas[0][0][x][a]*meas[1][0][0][b]] = np.sum(p[a,b,:,x,0])\n",
    "    for a, c, x, z in itertools.product(range(1), range(1), range(2), range(2)):\n",
    "        known_values[meas[0][0][x][a]*meas[2][0][z][c]] = np.sum(p[a,:,c,x,z])\n",
    "    for b, c, z in itertools.product(range(3), range(1), range(2)):\n",
    "        known_values[meas[1][0][0][b]*meas[2][0][z][c]] = np.sum(p[:,b,c,0,z])\n",
    "    # 1 body terms\n",
    "    for a, x in itertools.product(range(1), range(2)):\n",
    "        known_values[meas[0][0][x][a]] = np.sum(p[a,:,:,x,0])\n",
    "    for b in range(3):\n",
    "        known_values[meas[1][0][0][b]] = np.sum(p[:,b,:,0,0])\n",
    "    for c, z in itertools.product(range(1), range(2)):\n",
    "        known_values[meas[2][0][z][c]] = np.sum(p[:,:,c,0,z])\n",
    "\n",
    "    InfSDP.set_values(known_values)\n",
    "    #  InfSDP.solve()  # It takes several hours to solve\n",
    "    print(visibility, InfSDP.objective_value)\n",
    "    results[i] = InfSDP.objective_value"
   ]
  },
  {
   "cell_type": "markdown",
   "metadata": {},
   "source": [
    "After running the code above and plotting the curve:\n",
    "<center> <img src=\"./figures/repeater.PNG\" alt=\"drawing\" width=\"400\"/> </center>\n",
    "\n",
    "we recover the correct bounds from [Physical Review X 11.2 (2021): 021043](https://journals.aps.org/prx/abstract/10.1103/PhysRevX.11.021043).\n"
   ]
  },
  {
   "cell_type": "markdown",
   "metadata": {},
   "source": [
    "## Example 10: Device independent entanglement certification\n",
    "\n",
    "As mentioned in other sections, if all operators commute (by setting the `commuting` flag to `True` when instantiating `InflationSDP`), we get a relaxation that tests causal compatibility with a classical DAG. If furthermore the DAG is that of global shared randomness, then our package implements the techniques introduced in [Phys. Rev. X 7, 021042](https://journals.aps.org/prx/abstract/10.1103/PhysRevX.7.021042). \n",
    "\n",
    "Testing compatibility of a distribution $p(abc\\ldots | xyz\\ldots)$ with a DAG with global shared randomness is the same as checking if the distribution $p(abc\\ldots | xyz\\ldots)$ is Bell-nonlocal. It is known that all distributions that are Bell-local form a set with the geometry of a polytope in the space of probability distributions. Linear programming techniques allow one to build an oracle that can tell whether a given distribution is inside or outside the polytope. See Section II from the [Bell nonlocality review](https://journals-aps-org.recursos.biblioteca.upc.edu/rmp/abstract/10.1103/RevModPhys.86.419) for more information. For many-body systems linear programming does not scale efficiently. The NPA hierarchy with all-to-all-commuting operators is an outer approximation of the linear programming method. In particular, the feasible set of the semidefinite programming relaxations strictly include the local set. However, given a sufficiently high level of the hierarchy, the feasible set becomes exactly the local set, i.e., it converges to the results of the linear program. For intermediate levels of the hierarchy, the approximation is less tight, but it is more efficiently implementable than the exact linear program.\n",
    "\n",
    "In what follows, we reproduce a simple example from [Phys. Rev. X 7, 021042](https://journals.aps.org/prx/abstract/10.1103/PhysRevX.7.021042) where we certify entanglement of the W state and the noise robustness of this technique. For this, we use tools from the [Hierarchy for nonlocality detection](https://github.com/FlavioBaccari/Hierarchy-for-nonlocality-detection) Github repository. This requires the use of the [QuTiP](https://qutip.org/) Python package to simulate measurements on the W state."
   ]
  },
  {
   "cell_type": "code",
   "execution_count": 1,
   "metadata": {},
   "outputs": [
    {
     "name": "stdout",
     "output_type": "stream",
     "text": [
      "0 Maximum smallest eigenvalue:    0.00911 \tvisibility = 0.5\n",
      "1 Maximum smallest eigenvalue:  -0.001149 \tvisibility = 0.75\n",
      "2 Maximum smallest eigenvalue:    0.00412 \tvisibility = 0.625\n",
      "3 Maximum smallest eigenvalue:   0.001523 \tvisibility = 0.6875\n",
      "4 Maximum smallest eigenvalue:  0.0001972 \tvisibility = 0.7188\n",
      "5 Maximum smallest eigenvalue: -0.0004732 \tvisibility = 0.7344\n",
      "6 Maximum smallest eigenvalue: -0.0001374 \tvisibility = 0.7266\n",
      "7 Maximum smallest eigenvalue:  3.007e-05 \tvisibility = 0.7227\n",
      "8 Maximum smallest eigenvalue:  -5.36e-05 \tvisibility = 0.7246\n",
      "9 Maximum smallest eigenvalue: -1.176e-05 \tvisibility = 0.7236\n",
      "10 Maximum smallest eigenvalue:  9.159e-06 \tvisibility = 0.7231\n",
      "11 Maximum smallest eigenvalue: -1.298e-06 \tvisibility = 0.7234\n",
      "12 Maximum smallest eigenvalue:  3.931e-06 \tvisibility = 0.7233\n",
      "13 Maximum smallest eigenvalue:  1.317e-06 \tvisibility = 0.7233\n"
     ]
    }
   ],
   "source": [
    "from causalinflation import InflationSDP, InflationProblem\n",
    "from qutip import sigmax, sigmaz\n",
    "from examples_utils import get_W_reduced, bisect_W\n",
    "\n",
    "N = 7  # How many spins in the system\n",
    "outcomes_per_party = [2] * N  # 2 measurements per site\n",
    "settings_per_party = [2] * N  # 2 outcomes per site\n",
    "InfProb = InflationProblem(outcomes_per_party=outcomes_per_party,\n",
    "                           settings_per_party=settings_per_party, \n",
    "                           verbose=0)\n",
    "InfSDP = InflationSDP(InfProb, commuting=True)\n",
    "InfSDP.generate_relaxation('npa2')\n",
    "\n",
    "W_state = get_W_reduced(N)\n",
    "W_operators = [[[v.proj() for v in meas.eigenstates()[1]]\n",
    "                          for meas in [sigmax(), sigmaz()]]\n",
    "                          for p in range(N)]\n",
    "\n",
    "bisect_W(InfSDP, W_state, W_operators, verbose=1)"
   ]
  },
  {
   "cell_type": "markdown",
   "metadata": {},
   "source": [
    "We correctly recover the results for the W state visibility for $N=7$ from Table I in [Phys. Rev. X 7, 021042](https://journals.aps.org/prx/abstract/10.1103/PhysRevX.7.021042)."
   ]
  },
  {
   "cell_type": "markdown",
   "metadata": {},
   "source": []
  }
 ],
 "metadata": {
  "kernelspec": {
   "display_name": "Python 3.8.5 ('base')",
   "language": "python",
   "name": "python3"
  },
  "language_info": {
   "codemirror_mode": {
    "name": "ipython",
    "version": 3
   },
   "file_extension": ".py",
   "mimetype": "text/x-python",
   "name": "python",
   "nbconvert_exporter": "python",
   "pygments_lexer": "ipython3",
   "version": "3.8.5"
  },
  "orig_nbformat": 4,
  "vscode": {
   "interpreter": {
    "hash": "00a39c23cf09218597099894b042ffa9fa6ee7ec336d8d61c9bbb23befd995be"
   }
  }
 },
 "nbformat": 4,
 "nbformat_minor": 2
}

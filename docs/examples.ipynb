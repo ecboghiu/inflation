{
 "cells": [
  {
   "cell_type": "markdown",
   "metadata": {},
   "source": [
    "# Examples and features\n",
    "\n",
    "In this section we will showcase all the different features of the package progressively through a series of examples."
   ]
  },
  {
   "cell_type": "markdown",
   "metadata": {},
   "source": [
    "## Feasibility problems and extraction of certificates\n",
    "\n",
    "### Example 1: Infeasibility of the W distribution in the quantum triangle scenario \n",
    "\n",
    "Consider determining if the following distribution, the so-called 'W distribution' (due to its similarity to the W state), is compatible with the triangle scenario:\n",
    "\n",
    "$$ P_{A B C}=\\frac{[100]+[010]+[001]}{3}, \\quad \\text {i.e.,} \\quad P_{A B C}(a b c)= \\begin{cases}\\frac{1}{3} & \\text { if } a+b+c=1, \\\\ 0 & \\text { otherwise. }\\end{cases} $$\n",
    "\n",
    "It is known that it is [incompatible with the classical triangle scenario [1]](https://www.degruyter.com/document/doi/10.1515/jci-2017-0020/html) , however with quantum inflation, once can also show that it is incompatible with the quantum triangle scenario, depicted in the following figure:\n",
    "\n",
    "<center> <img src=\"./figures/quantum_triangle.PNG\" alt=\"drawing\" width=\"250\"/> </center>\n",
    "\n",
    "To show this, we can generate the semidefinite relaxation of NPA level 2 corresponding to a second order quantum inflation. With the `set_distribution` method we set the entries of the moment matrix that depend on the probability distribution, and we attempt to solve the program with the `solve()` method:"
   ]
  },
  {
   "cell_type": "code",
   "execution_count": 4,
   "metadata": {},
   "outputs": [
    {
     "data": {
      "text/plain": "'infeasible'"
     },
     "execution_count": 4,
     "metadata": {},
     "output_type": "execute_result"
    }
   ],
   "source": [
    "from causalinflation import InflationProblem, InflationSDP\n",
    "\n",
    "qtriangle = InflationProblem(dag={'rho_AB': ['A', 'B'],\n",
    "                                  'rho_BC': ['B', 'C'],\n",
    "                                  'rho_AC': ['A', 'C']},\n",
    "                             outcomes_per_party=(2, 2, 2),\n",
    "                             settings_per_party=(1, 1, 1),\n",
    "                             inflation_level_per_source=(2, 2, 2))\n",
    "\n",
    "sdp = InflationSDP(qtriangle)\n",
    "sdp.generate_relaxation('npa2')\n",
    "\n",
    "\n",
    "def P_W(vis=1):\n",
    "    p = np.zeros((2, 2, 2, 1, 1, 1))\n",
    "    for a, b, c, x, y, z in np.ndindex(*p.shape):\n",
    "        if a + b + c == 1:\n",
    "            p[a, b, c, x, y, z] = 1 / 3\n",
    "    return vis * p + (1 - vis) * np.ones(p.shape) / 2 ** 3\n",
    "\n",
    "\n",
    "sdp.set_distribution(P_W())\n",
    "sdp.solve()\n",
    "sdp.status"
   ]
  },
  {
   "cell_type": "markdown",
   "metadata": {},
   "source": [
    "The problem status is reported as infeasible, therefore this serves as a proof that the W distribution is incompatible with the quantum triangle scenario. \n",
    "\n",
    "#### Certificate extraction\n",
    "\n",
    "We can furthermore recover a certificate of infeasibility as a polynomial inequality in the probabilities, $\\text{Poly}(p(abc|xyz) \\geq 0$ . This means that any other correlations vector $p'(abc|xyz)$ that also satisfies the inequality, $\\text{Poly}(p'(abc|xyz) \\geq 0$, is guaranteed to lead to an infeasible SDP. There are built-in methods to extract the symbolic form of $\\text{Poly}(p(abc|xyz))$:"
   ]
  },
  {
   "cell_type": "code",
   "execution_count": 5,
   "metadata": {},
   "outputs": [
    {
     "data": {
      "text/plain": "-0.476*pA(0|0)**2 + 0.059*pA(0|0)*pAB(00|00) + 0.476*pA(0|0)*pABC(000|000) + 0.059*pA(0|0)*pAC(00|00) + pA(0|0)*pB(0|0)*pC(0|0) - 0.765*pA(0|0)*pB(0|0) - 0.359*pA(0|0)*pBC(00|00) - 0.765*pA(0|0)*pC(0|0) + 0.365*pA(0|0) + 0.217*pAB(00|00)**2 + 0.085*pAB(00|00)*pAC(00|00) + 0.059*pAB(00|00)*pB(0|0) + 0.085*pAB(00|00)*pBC(00|00) - 0.359*pAB(00|00)*pC(0|0) + 0.126*pAB(00|00) + 0.476*pABC(000|000)*pB(0|0) + 0.476*pABC(000|000)*pC(0|0) + 0.75*pABC(000|000) + 0.217*pAC(00|00)**2 - 0.359*pAC(00|00)*pB(0|0) + 0.085*pAC(00|00)*pBC(00|00) + 0.059*pAC(00|00)*pC(0|0) + 0.126*pAC(00|00) - 0.476*pB(0|0)**2 + 0.059*pB(0|0)*pBC(00|00) - 0.765*pB(0|0)*pC(0|0) + 0.365*pB(0|0) + 0.217*pBC(00|00)**2 + 0.059*pBC(00|00)*pC(0|0) + 0.126*pBC(00|00) - 0.476*pC(0|0)**2 + 0.365*pC(0|0) + 0.563",
      "text/latex": "$\\displaystyle - 0.476 pA(0|0)^{2} + 0.059 pA(0|0) pAB(00|00) + 0.476 pA(0|0) pABC(000|000) + 0.059 pA(0|0) pAC(00|00) + pA(0|0) pB(0|0) pC(0|0) - 0.765 pA(0|0) pB(0|0) - 0.359 pA(0|0) pBC(00|00) - 0.765 pA(0|0) pC(0|0) + 0.365 pA(0|0) + 0.217 pAB(00|00)^{2} + 0.085 pAB(00|00) pAC(00|00) + 0.059 pAB(00|00) pB(0|0) + 0.085 pAB(00|00) pBC(00|00) - 0.359 pAB(00|00) pC(0|0) + 0.126 pAB(00|00) + 0.476 pABC(000|000) pB(0|0) + 0.476 pABC(000|000) pC(0|0) + 0.75 pABC(000|000) + 0.217 pAC(00|00)^{2} - 0.359 pAC(00|00) pB(0|0) + 0.085 pAC(00|00) pBC(00|00) + 0.059 pAC(00|00) pC(0|0) + 0.126 pAC(00|00) - 0.476 pB(0|0)^{2} + 0.059 pB(0|0) pBC(00|00) - 0.765 pB(0|0) pC(0|0) + 0.365 pB(0|0) + 0.217 pBC(00|00)^{2} + 0.059 pBC(00|00) pC(0|0) + 0.126 pBC(00|00) - 0.476 pC(0|0)^{2} + 0.365 pC(0|0) + 0.563$"
     },
     "execution_count": 5,
     "metadata": {},
     "output_type": "execute_result"
    }
   ],
   "source": [
    "sdp.certificate_as_probs(clean=True)"
   ]
  },
  {
   "cell_type": "markdown",
   "metadata": {},
   "source": [
    "In the above, lower indices indicate marginals. For example, $p_{AC}(ac|xz) := \\sum_b p(abc|xyz)$. Note that due to no-signaling, in this example the marginal is independent of the setting $y$."
   ]
  },
  {
   "cell_type": "markdown",
   "metadata": {},
   "source": [
    "### Example 2: Critical visibility of the 2PR distribution in the quantum tripartite-line scenario\n",
    "\n",
    "It is known that the 2PR distribution, defined as:\n",
    "\n",
    "$$ P_{\\text{2PR}}(abc|xyz) := \\frac{1+ (-1)^{a+b+c+xy+yz}}{8} $$\n",
    "\n",
    "is incompatible with the tripartite-line scenario (also called \"quantum bilocal scenario\"), whose DAG is depicted in the following figure:\n",
    "\n",
    "<center> <img src=\"./figures/bilocal_1.PNG\" alt=\"drawing\" width=\"450\"/> </center>\n",
    "\n",
    "This can be shown by running a feasibility program, as in Example 1. We might also be interested in studying how much noise this distribution can tolerate before the relaxation no longer identifies the distribution as incompatible. One simple model of noise is that of a probabilistic mixture with the uniform distribution:\n",
    "\n",
    "$$ P_{\\text{2PR,v}} := v P_{\\text{2PR}}  + (1-v)/8 $$\n",
    "\n",
    "A simple approach would be to vary the parameter $v$ from $v{=}1$ to $v{=}0$ and find the $v_{\\text{crit}}$ for which the problem status changes from infeasible to feasible. However, there is a more robust method available.\n",
    "\n",
    "#### Feasibility as an optimisation\n",
    "\n",
    "A more numerically robust approach is to convert feasibility problems to optimisation problems. Instead of imposing that the moment matrix $\\Gamma$ of the SDP relaxation is positive semidefinite, we can maximize the minimum eigenvalue of $\\Gamma$ and check its sign. Clearly, if the result of the optimisation is negative, then one cannot find a matrix $\\Gamma$ that is positive semidefinite, thus the original program is infeasible. \n",
    "\n",
    "By setting the flag `feas_as_optim` to `True` in the `InflationSDP.solve()` method, feasibility problems are converted to optimisation problems. The result is stored in `InflationSDP.objective_value`. \n",
    "\n",
    "We encode the inflation scenario and generate the relaxation corresponding to NPA level 2. Next we leverage the dual SDP solution to find the $v_{\\text{crit}}$ for which the maximum minimum eigenvalue is 0. The visibility maximization subject to SDP feasibility is implemented in an auxiliary file:"
   ]
  },
  {
   "cell_type": "code",
   "execution_count": 6,
   "metadata": {},
   "outputs": [
    {
     "name": "stdout",
     "output_type": "stream",
     "text": [
      "Currently rejected value: 0.6098578196280506\n",
      "Currently rejected value: 0.5131845830852975\n",
      "Currently rejected value: 0.5001351403349548\n",
      "Currently rejected value: 0.5000000498363624\n",
      "Currently rejected value: 0.4999999960481074\n",
      "Visibility rejection threshold: 0.5000\n"
     ]
    }
   ],
   "source": [
    "from causalinflation import InflationProblem, InflationSDP\n",
    "from causalinflation.quantum.optimization_utils import max_such_that_feasible_via_dual\n",
    "\n",
    "qbilocal = InflationProblem(dag={'rho_AB': ['A', 'B'],\n",
    "                                 'rho_BC': ['B', 'C']},\n",
    "                            outcomes_per_party=(2, 2, 2),\n",
    "                            settings_per_party=(2, 2, 2),\n",
    "                            inflation_level_per_source=(2, 2))\n",
    "sdp = InflationSDP(qbilocal)\n",
    "sdp.generate_relaxation('npa2')\n",
    "\n",
    "\n",
    "def P_2PR(vis=1):\n",
    "    p = np.zeros((2, 2, 2, 2, 2, 2))\n",
    "    for a, b, c, x, y, z in np.ndindex(*p.shape):\n",
    "        p[a, b, c, x, y, z] = (1 + (-1) ** (a + b + c + x * y + y * z)) / 8\n",
    "    return vis * p + (1 - vis) * np.ones(p.shape) / 2 ** 3\n",
    "\n",
    "\n",
    "optima = max_such_that_feasible_via_dual(sdp=sdp,\n",
    "                                         distribution_as_scalar_function=P_2PR,\n",
    "                                         verbose=True)\n",
    "print(f\"Visibility rejection threshold: {optima[0]:.4f}\")"
   ]
  },
  {
   "cell_type": "markdown",
   "metadata": {},
   "source": [
    "We recover a critical visibility that is consistent with the known critical visibility of the 2PR distribution in the quantum tripartite-line scenario, namely $v>\\frac{1}{2}$. Higher order inflations or higher levels in the NPA hierarchy are expected (but not proved) to get a numerical visibility that gets asymptotically closer to $v=\\frac{1}{2}$ as the hierarchy increases."
   ]
  },
  {
   "cell_type": "markdown",
   "metadata": {},
   "source": [
    "## Optimisation over classical distributions and feasibility problems \n",
    "\n",
    "With quantum inflation, we can also optimize over a relaxation of the set of distributions compatible with a classical DAG. This works by imposing at the level of the SDP relaxation the constraint that all operators defining the moments commute. The effect of this constraint is that previously different variables in the moment matrix become identical. For example, $\\langle A_{x} A_{x'} \\rangle \\neq \\langle A_{x'} A_{x} \\rangle$ in general in quantum mechanics, but if we assume all operators commute, then they become equal. \n",
    "\n",
    "To enable this feauture one simply adds the flag `commuting=True` when instantiating the `InflationSDP` object. "
   ]
  },
  {
   "cell_type": "markdown",
   "metadata": {},
   "source": [
    "### Example 3: Critical visibility of the 2PR distribution in the *classical* tripartite-line scenario\n",
    "\n",
    "As an example, we find the critical visibility of the $P_{\\text{2PR}}$ distribution from Example 2, but in the classical tripartite line scenario with a second order inflation, and with the local level 1 generating set for the SDP relaxation.\n",
    "\n",
    "The so-called \"local levels\" are a different choice of generating set for the moment matrix. Whereas NPA level $n$ is the $n$-times cartesian product (without duplicated elements) of the set of measurements of the parties together with the identity, local level $n$ refers to a generating set with all the products up to $n$ operators per party. For more details, see [Ref. [2]](https://journals.aps.org/prx/abstract/10.1103/PhysRevX.11.021043)."
   ]
  },
  {
   "cell_type": "code",
   "execution_count": 7,
   "metadata": {},
   "outputs": [
    {
     "name": "stdout",
     "output_type": "stream",
     "text": [
      "Currently rejected value: 0.6184500745683873\n",
      "Currently rejected value: 0.5078663839638181\n",
      "Currently rejected value: 0.39499567788911305\n",
      "Currently rejected value: 0.35556151097466926\n",
      "Currently rejected value: 0.35355865280410415\n",
      "Currently rejected value: 0.35355340785340017\n",
      "Visibility rejection threshold: 0.3536\n"
     ]
    }
   ],
   "source": [
    "from causalinflation import InflationProblem, InflationSDP\n",
    "from causalinflation.quantum.optimization_utils import max_such_that_feasible_via_dual\n",
    "\n",
    "qbilocal = InflationProblem(dag={'rho_AB': ['A', 'B'],\n",
    "                                 'rho_BC': ['B', 'C']},\n",
    "                            outcomes_per_party=(2, 2, 2),\n",
    "                            settings_per_party=(2, 2, 2),\n",
    "                            inflation_level_per_source=(2, 2))\n",
    "\n",
    "sdp = InflationSDP(qbilocal, commuting=True)\n",
    "sdp.generate_relaxation('local1')\n",
    "\n",
    "\n",
    "def P_2PR(vis=1):\n",
    "    p = np.zeros((2, 2, 2, 2, 2, 2))\n",
    "    for a, b, c, x, y, z in np.ndindex(*p.shape):\n",
    "        p[a, b, c, x, y, z] = (1 + (-1) ** (a + b + c + x * y + y * z)) / 8\n",
    "    return vis * p + (1 - vis) * np.ones(p.shape) / 2 ** 3\n",
    "\n",
    "\n",
    "optima = max_such_that_feasible_via_dual(sdp=sdp,\n",
    "                                         distribution_as_scalar_function=P_2PR,\n",
    "                                         verbose=True)\n",
    "print(f\"Visibility rejection threshold: {optima[0]:.4f}\")"
   ]
  },
  {
   "cell_type": "markdown",
   "metadata": {},
   "source": [
    "This relaxation of the set of distributions classically simulable in the tripartite line scenario certifies then the incompatibility of the $P_{\\text{2PR}}$ distribution for $v>0.3536$. This does not completely certify incompatibility down to the known critical threshold of $v_{\\text{crit}}=\\frac{1}{4}$, but we expect tighter relaxations, which are computationally more expensive, might recover this value. \n",
    "\n",
    "For optimisation problems, one can run the exact same program as in Example 3, but with the flag `commuting` set to `True`."
   ]
  },
  {
   "cell_type": "markdown",
   "metadata": {},
   "source": [
    "## Optimization of Bell operators\n",
    "\n",
    "One can use inflation techniques to not only run causal compatibility problems, but also to optimize over the generated relaxation, and therefore get upper bounds on the values of various Bell operators."
   ]
  },
  {
   "cell_type": "markdown",
   "metadata": {},
   "source": [
    "### Example 4. Upper bounds on Mermin's inequality\n",
    "\n",
    "Let us consider Mermin's inequality, written in the correlator form as follows:\n",
    "\n",
    "$$ \\text{Mermin} = \\langle A_1 B_0 C_0 \\rangle +  \\langle A_0 B_1 C_0 \\rangle +  \\langle A_0 B_0 C_1 \\rangle -  \\langle A_1 B_1 C_1 \\rangle $$\n",
    "\n",
    "where correlators are defined as\n",
    "\n",
    "$$\\left\\langle A_{x} B_{y} C_{z}\\right\\rangle =\\sum_{a, b, c \\in \\{0,1\\}} (-1)^{a+b+c} \\, p_{ABC}(abc|xyz).$$\n",
    "\n",
    "It is known that the algebraic maximum of 4 is achieved in the tripartite scenario both with global shared randomness and also global non-signaling sources. However, one can see a difference between quantum and general no-signaling sources when restricting to the triangle scenario from Example 1.\n",
    "\n",
    "First we generate the relaxation corresponding to a second order inflation of the triangle of NPA level 2. Then we implement the objective function after extracting the measurement operators and solve the program:"
   ]
  },
  {
   "cell_type": "code",
   "execution_count": 8,
   "metadata": {},
   "outputs": [
    {
     "data": {
      "text/plain": "3.999999991703393"
     },
     "execution_count": 8,
     "metadata": {},
     "output_type": "execute_result"
    }
   ],
   "source": [
    "from causalinflation import InflationProblem, InflationSDP\n",
    "\n",
    "qtriangle = InflationProblem(dag={'rho_AB': ['A', 'B'],\n",
    "                                  'rho_BC': ['B', 'C'],\n",
    "                                  'rho_AC': ['A', 'C']},\n",
    "                             outcomes_per_party=(2, 2, 2),\n",
    "                             settings_per_party=(2, 2, 2),\n",
    "                             inflation_level_per_source=(2, 2, 2))\n",
    "\n",
    "sdp = InflationSDP(qtriangle)\n",
    "sdp.generate_relaxation('npa2')\n",
    "\n",
    "mmnts = sdp.measurements\n",
    "A0, B0, C0, A1, B1, C1 = (1 - 2 * mmnts[party][0][setting][0] for setting in range(2)\n",
    "                          for party in range(3))\n",
    "\n",
    "sdp.set_objective(objective=A1 * B0 * C0 + A0 * B1 * C0 + A0 * B0 * C1 - A1 * B1 * C1)\n",
    "sdp.solve()\n",
    "sdp.objective_value"
   ]
  },
  {
   "cell_type": "markdown",
   "metadata": {},
   "source": [
    "Notice that we get a value that is within numerical precision the algebraic maximum of 4. To improve on this result, we will need to do a tighter SDP relaxation.\n",
    "\n",
    "#### Customising the generating set for the semidefinite relaxation\n",
    "\n",
    "To get a tighter SDP relaxation, we will add more monomoials to the generating set. Namely, we will use the union of the monomoials corresponding to NPA level 2 and local level 1.\n",
    "\n",
    "In what follows, we use the built-in method `InflationSDP.build_columns()` to generate the columns corresponding to NPA level 2 and local level 1. Then we do a union, generate the relaxation and again, solve the program. As it will now take a bit longer, we increase the verbosity level to see the progress: "
   ]
  },
  {
   "cell_type": "code",
   "execution_count": null,
   "metadata": {},
   "outputs": [
    {
     "name": "stdout",
     "output_type": "stream",
     "text": [
      "InflationProblem with [[1, 1, 0], [0, 1, 1], [1, 0, 1]] as hypergraph, [2 2 2] outcomes per party, [2 2 2] settings per party and [2 2 2] inflation copies per source.\n",
      "Number of single operator measurements per party: A=8, B=8, C=8\n",
      "Column structure: 1+A+B+C+AA+AB+AC+BB+BC+CC\n",
      "Column structure: 1+A+B+C+AB+AC+BC+ABC\n"
     ]
    },
    {
     "name": "stderr",
     "output_type": "stream",
     "text": [
      "D:\\Users\\elupu\\PycharmProjects\\causalinflation\\causalinflation\\quantum\\InflationSDP.py:246: UserWarning: Duplicates were detected in the list of generating monomials and automatically removed.\n"
     ]
    },
    {
     "name": "stdout",
     "output_type": "stream",
     "text": [
      "Number of columns in the moment matrix: 873\n",
      "Calculating moment matrix\n",
      "Number of variables before symmetrization: 136453\n",
      "Calculating symmetries   \n",
      "Applying inflation symmetries\n",
      "Applying symmetries      \n",
      "Number of variables after symmetrization: 17841\n",
      "The problem has 386 knowable monomials, 2346 semi-knowable monomials, and 15109 monomials.\n",
      "The problem has 1904 non-negative monomials.\n",
      "Starting pre-processing for the SDP solver.\n",
      "Pre-processing took 43.4802 seconds.\n",
      "Building the model...\n",
      "Model built in 45.1936 seconds.\n",
      "Model saved to InflationSDPModel.ptf.\n",
      "Solving the model...\n",
      "Problem\n",
      "  Name                   : SDP             \n",
      "  Objective sense        : min             \n",
      "  Type                   : CONIC (conic optimization problem)\n",
      "  Constraints            : 17840           \n",
      "  Cones                  : 0               \n",
      "  Scalar variables       : 1904            \n",
      "  Matrix variables       : 1               \n",
      "  Integer variables      : 0               \n",
      "\n",
      "Optimizer started.\n",
      "Presolve started.\n",
      "Linear dependency checker started.\n",
      "Linear dependency checker terminated.\n",
      "Eliminator started.\n",
      "Freed constraints in eliminator : 0\n",
      "Eliminator terminated.\n",
      "Eliminator - tries                  : 1                 time                   : 0.00            \n",
      "Lin. dep.  - tries                  : 1                 time                   : 0.00            \n",
      "Lin. dep.  - number                 : 0               \n",
      "Presolve terminated. Time: 0.02    \n",
      "Problem\n",
      "  Name                   : SDP             \n",
      "  Objective sense        : min             \n",
      "  Type                   : CONIC (conic optimization problem)\n",
      "  Constraints            : 17840           \n",
      "  Cones                  : 0               \n",
      "  Scalar variables       : 1904            \n",
      "  Matrix variables       : 1               \n",
      "  Integer variables      : 0               \n",
      "\n",
      "Optimizer  - threads                : 8               \n",
      "Optimizer  - solved problem         : the primal      \n",
      "Optimizer  - Constraints            : 17840\n",
      "Optimizer  - Cones                  : 0\n",
      "Optimizer  - Scalar variables       : 1903              conic                  : 0               \n",
      "Optimizer  - Semi-definite variables: 1                 scalarized             : 381501          \n",
      "Factor     - setup time             : 35.25             dense det. time        : 0.00            \n",
      "Factor     - ML order time          : 16.08             GP order time          : 0.00            \n",
      "Factor     - nonzeros before factor : 1.59e+08          after factor           : 1.59e+08        \n",
      "Factor     - dense dim.             : 0                 flops                  : 2.11e+12        \n",
      "ITE PFEAS    DFEAS    GFEAS    PRSTATUS   POBJ              DOBJ              MU       TIME  \n",
      "0   1.6e+01  1.0e+00  2.0e+00  0.00e+00   3.000000000e+00   2.000000000e+00   1.0e+00  35.72 \n",
      "1   1.3e+01  8.1e-01  8.5e-01  -9.07e-02  3.487979591e+00   2.580713241e+00   8.1e-01  102.22\n",
      "2   1.2e+01  7.6e-01  6.1e-01  2.22e+00   3.483341402e+00   2.780474156e+00   7.6e-01  170.84\n",
      "3   9.4e+00  5.9e-01  3.1e-01  2.15e+00   3.149042793e+00   2.755718677e+00   5.9e-01  241.05\n",
      "4   5.1e+00  3.2e-01  7.2e-02  2.15e+00   2.785156189e+00   2.652930004e+00   3.2e-01  313.64\n",
      "5   2.1e+00  1.3e-01  2.1e-02  1.71e+00   2.798676199e+00   2.753887725e+00   1.3e-01  385.36\n",
      "6   9.2e-01  5.8e-02  6.2e-03  1.15e+00   3.243497120e+00   3.224193440e+00   5.8e-02  456.61\n"
     ]
    }
   ],
   "source": [
    "from causalinflation import InflationProblem, InflationSDP\n",
    "\n",
    "qtriangle = InflationProblem(dag={'rho_AB': ['A', 'B'],\n",
    "                                  'rho_BC': ['B', 'C'],\n",
    "                                  'rho_AC': ['A', 'C']},\n",
    "                             outcomes_per_party=(2, 2, 2),\n",
    "                             settings_per_party=(2, 2, 2),\n",
    "                             inflation_level_per_source=(2, 2, 2))\n",
    "sdp = InflationSDP(qtriangle, verbose=2)\n",
    "\n",
    "npa2 = sdp.build_columns('npa2')\n",
    "# # npa2_as_dict = {mon.tobytes(): mon for mon in npa2}\n",
    "local1 = sdp.build_columns('local1')\n",
    "# # local1_as_dict = {mon.tobytes(): mon for mon in local1}\n",
    "# # npa2_union_local1 = set(npa2).union(set(local1))\n",
    "#\n",
    "sdp.generate_relaxation(npa2 + local1)\n",
    "\n",
    "mmnts = sdp.measurements\n",
    "A0, B0, C0, A1, B1, C1 = (1 - 2 * mmnts[party][0][setting][0] for setting in range(2)\n",
    "                          for party in range(3))\n",
    "sdp.set_objective(objective=A1 * B0 * C0 + A0 * B1 * C0 + A0 * B0 * C1 - A1 * B1 * C1)\n",
    "sdp.solve()\n",
    "sdp.objective_value"
   ]
  },
  {
   "cell_type": "markdown",
   "metadata": {},
   "source": [
    "After running the above, we can certify then that the Mermin inequality cannot have a value larger than $3.085$ for the quantum triangle causal scenario. "
   ]
  },
  {
   "cell_type": "markdown",
   "metadata": {},
   "source": [
    "## Standard NPA\n",
    "\n",
    "If the DAG corresponds to a single global shared source scenario, then doing an inflation does not grant any advantage. In this case, the semidefinite programming relaxation defaults to being the same as the [NPA hierarcy [3]](https://iopscience.iop.org/article/10.1088/1367-2630/10/7/073013). If we set the `commuting` flag to `True` then this is a relaxation of the set of distributions classically with global shared randomness, as introduced in [Ref. [4]](https://journals.aps.org/prx/abstract/10.1103/PhysRevX.7.021042)."
   ]
  },
  {
   "cell_type": "markdown",
   "metadata": {},
   "source": [
    "### Example 5: Critical visibility of the PR box in the standard Bell scenario with quantum sources\n",
    "\n",
    "We recover the critical visibility of $v_{\\text{crit}}=\\frac{1}{\\sqrt{2}}$ for a [Popeschu-Rohrlich box [5]](https://link.springer.com/article/10.1007/BF02058098) in the Bell scenario.  "
   ]
  },
  {
   "cell_type": "code",
   "execution_count": 2,
   "metadata": {},
   "outputs": [
    {
     "name": "stdout",
     "output_type": "stream",
     "text": [
      "Currently rejected value: 0.7098927328000795\n",
      "Currently rejected value: 0.7071073864252682\n",
      "Currently rejected value: 0.7071067929973598\n",
      "Visibility rejection threshold: 0.7071\n",
      "pA(0|0) - pAB(00|00) - pAB(00|01) - pAB(00|10) + pAB(00|11) + pB(0|0) + 0.207\n"
     ]
    }
   ],
   "source": [
    "from causalinflation import InflationProblem, InflationSDP\n",
    "from causalinflation.quantum.optimization_utils import max_such_that_feasible_via_dual\n",
    "import numpy as np\n",
    "\n",
    "bellscenario = InflationProblem(dag={'rho_AB': ['A', 'B']},\n",
    "                                outcomes_per_party=(2, 2),\n",
    "                                settings_per_party=(2, 2))\n",
    "sdp = InflationSDP(bellscenario)\n",
    "sdp.generate_relaxation('npa1')\n",
    "\n",
    "\n",
    "def P_PRbox(vis=1):\n",
    "    p = np.zeros((2, 2, 2, 2))\n",
    "    for a, b, x, y in np.ndindex(*p.shape):\n",
    "        if (x, y) == (1, 1):\n",
    "            if a != b:\n",
    "                p[a, b, x, y] = 1 / 2\n",
    "        else:\n",
    "            if a == b:\n",
    "                p[a, b, x, y] = 1 / 2\n",
    "    return vis * p + (1 - vis) * np.ones(p.shape) / 2 ** 2\n",
    "\n",
    "\n",
    "optima = max_such_that_feasible_via_dual(sdp=sdp,\n",
    "                                         distribution_as_scalar_function=P_PRbox,\n",
    "                                         verbose=True)\n",
    "print(f\"Visibility rejection threshold: {optima[0]:.4f}\")\n",
    "symbolic_certificate = optima[1]\n",
    "print(symbolic_certificate)"
   ]
  },
  {
   "cell_type": "markdown",
   "metadata": {},
   "source": [
    "Notice that the dual certificate that we extract in correlator form (which has been renormalised and rounded numerically) is the well-known CHSH inequality tangent to the quantum set of correlations save for a constant term and rescaling. Extracted certificates can be readily plugged in as an objective function to optimise:"
   ]
  },
  {
   "cell_type": "code",
   "execution_count": 3,
   "metadata": {},
   "outputs": [
    {
     "data": {
      "text/plain": "2.8284271247784165"
     },
     "execution_count": 3,
     "metadata": {},
     "output_type": "execute_result"
    }
   ],
   "source": [
    "sdp.reset_values()\n",
    "sdp.set_objective(2 - 4 * (symbolic_certificate - 0.207), direction='max')\n",
    "sdp.solve(dualise=False)\n",
    "sdp.objective_value"
   ]
  },
  {
   "cell_type": "markdown",
   "metadata": {},
   "source": [
    "## SDP hierarchy of \"physical moments\"\n",
    "\n",
    "For the generation of the semidefinite programming relaxation, besides NPA levels and local levels, we also implement a hierachy of \"physical moments\" of level $n$. This is a subset of local level $n$ of all the monomials for which all operators in that monomial commute due to non-overlapping support in the inflated graph."
   ]
  },
  {
   "cell_type": "markdown",
   "metadata": {},
   "source": [
    "### Example 6: Critical visibility of the W distribution with the physical moments hierarchy\n",
    "\n",
    " As an application, we show how we can recover the critical visibility $v_{\\text{crit}}\\approx=0.8038$ of the W distribution in the triangle causal scenario achieved with the generating set corresponding to local level 2 with monomials of maximum length 4, as shown in [Ref. [2]](https://journals.aps.org/prx/abstract/10.1103/PhysRevX.11.021043). This corresponds to a moment matrix of size 1175x1175. However, by using the second level of the physical moments hierarchy of monomials up to length 4, we recover the same results with a smaller moment matrix:"
   ]
  },
  {
   "cell_type": "code",
   "execution_count": 4,
   "metadata": {},
   "outputs": [
    {
     "name": "stdout",
     "output_type": "stream",
     "text": [
      "Currently rejected value: 0.9161383498612035\n",
      "Currently rejected value: 0.8566043466105259\n",
      "Currently rejected value: 0.8203652121904976\n",
      "Currently rejected value: 0.8077589096909129\n",
      "Currently rejected value: 0.8042083402196449\n",
      "Currently rejected value: 0.8038514367071284\n",
      "Currently rejected value: 0.8038476176733397\n",
      "Visibility rejection threshold: 0.8039\n"
     ]
    }
   ],
   "source": [
    "from causalinflation import InflationProblem, InflationSDP\n",
    "from causalinflation.quantum.optimization_utils import max_such_that_feasible_via_dual\n",
    "\n",
    "qtriangle = InflationProblem(dag={'rho_AB': ['A', 'B'],\n",
    "                                  'rho_BC': ['B', 'C'],\n",
    "                                  'rho_AC': ['A', 'C']},\n",
    "                             outcomes_per_party=(2, 2, 2),\n",
    "                             settings_per_party=(1, 1, 1),\n",
    "                             inflation_level_per_source=(2, 2, 2))\n",
    "\n",
    "sdp = InflationSDP(qtriangle)\n",
    "sdp.generate_relaxation(sdp.build_columns('physical2', max_monomial_length=4))\n",
    "\n",
    "\n",
    "def P_W(vis=1):\n",
    "    p = np.zeros((2, 2, 2, 1, 1, 1))\n",
    "    for a, b, c, x, y, z in np.ndindex(*p.shape):\n",
    "        if a + b + c == 1:\n",
    "            p[a, b, c, x, y, z] = 1 / 3\n",
    "    return vis * p + (1 - vis) * np.ones(p.shape) / 2 ** 3\n",
    "\n",
    "\n",
    "optima = max_such_that_feasible_via_dual(sdp=sdp,\n",
    "                                         distribution_as_scalar_function=P_W,\n",
    "                                         verbose=True)\n",
    "print(f\"Visibility rejection threshold: {optima[0]:.4f}\")"
   ]
  },
  {
   "cell_type": "markdown",
   "metadata": {},
   "source": [
    "We recover the same critical visibility of $v_{\\text{crit}}\\approx 0.8039$ with a moment matrix of size 287x287 as opposed to 1175x1175, which leads to a significant gain in performance."
   ]
  },
  {
   "cell_type": "markdown",
   "metadata": {},
   "source": [
    "## Linearized polynomial identification (LPI) constraints\n",
    "\n",
    "LPI constraints were introduced in [Ref. [6]](https://arxiv.org/abs/2203.16543). They are proportionality constraints between different entries of the moment matrix. Due to nature of the inflated graph, many of the moments in the moment matrix factorise into products of other moments. \n",
    "\n",
    "As a simplified example, consider the moment $\\langle A^{110}_{xa} B^{202}_{x'a'} B^{201}_{yb} \\rangle$ in the inflated triangle of order two. In the triangle, we have three sources, $\\rho_{AB}$, $\\rho_{AC}$ and $\\rho_{BC}$. The upper indices in the operators of the previous moment indicate on which copy of the sources the operator is acting. The value 0 means that the party does not measure the corresponding source. For example, $B^{201}_{yb}$ represents Bob measuring outcome $b$ of setting $y$ on copy 2 of $\\rho_{AB}$ and copy 1 of $\\rho_{BC}$. Notice that because of the non-overlapping support of some of the moments, the moment factorises as follows:\n",
    "\n",
    "$$\\langle A^{110}_{xa} B^{202}_{x'a'} B^{201}_{yb} \\rangle = \\langle A^{110}_{xa} \\rangle \\langle B^{202}_{x'a'} B^{201}_{yb} \\rangle $$ \n",
    "\n",
    "The moment $\\langle A^{110}_{xa} \\rangle$ is known to be equal to $p_A(a|x)$, but  $\\langle B^{202}_{x'a'} B^{201}_{yb} \\rangle$ is unknown. Therefore, we have a linear proportionality relationship between the variables $\\langle A^{110}_{xa} B^{202}_{x'a'} B^{201}_{yb} \\rangle$ and $\\langle B^{202}_{x'a'} B^{201}_{yb} \\rangle$.\n",
    "\n",
    "Proportionality constraints of these form can be automatically implemented by setting `use_lpi_constraints` to `True` when using the `set_distribution()` method."
   ]
  },
  {
   "cell_type": "markdown",
   "metadata": {},
   "source": [
    "### Example 7: Critical visibility of the W distribution with the physical moments hierarchy and LPI constraints\n",
    "\n",
    "We will now show how using LPI constraints lead to tighter relaxations. For example, we can certify incompatiblity with the triangle for noisier W distributions than before. Since certificates cannot be utilized in the presence of LPI constraints, we switch to a bisection algorithm."
   ]
  },
  {
   "cell_type": "code",
   "execution_count": null,
   "metadata": {},
   "outputs": [],
   "source": [
    "from causalinflation import InflationProblem, InflationSDP\n",
    "from causalinflation.quantum.optimization_utils import max_such_that_feasible_via_bisect\n",
    "\n",
    "qtriangle = InflationProblem(dag={'rho_AB': ['A', 'B'],\n",
    "                                  'rho_BC': ['B', 'C'],\n",
    "                                  'rho_AC': ['A', 'C']},\n",
    "                             outcomes_per_party=(2, 2, 2),\n",
    "                             settings_per_party=(1, 1, 1),\n",
    "                             inflation_level_per_source=(2, 2, 2))\n",
    "\n",
    "qtriangle_relax = InflationSDP(qtriangle)\n",
    "cols = qtriangle_relax.build_columns('physical2', max_monomial_length=4)\n",
    "qtriangle_relax.generate_relaxation(cols)\n",
    "\n",
    "\n",
    "def P_W(vis=1):\n",
    "    p = np.zeros((2, 2, 2, 1, 1, 1))\n",
    "    for a, b, c, x, y, z in np.ndindex(*p.shape):\n",
    "        if a + b + c == 1:\n",
    "            p[a, b, c, x, y, z] = 1 / 3\n",
    "    return vis * p + (1 - vis) * np.ones(p.shape) / 2 ** 3\n",
    "\n",
    "\n",
    "best_rejected_vis = max_such_that_feasible_via_bisect(sdp=qtriangle_relax,\n",
    "                                                      distribution_as_scalar_function=P_W,\n",
    "                                                      bounds=(0.75, 0.8039),\n",
    "                                                      verbose=True)\n",
    "print(f\"Visibility rejection threshold: {best_rejected_vis:.4f}\")"
   ]
  },
  {
   "cell_type": "markdown",
   "metadata": {},
   "source": [
    "The critical value for the noise that we achieve, $v_{\\text{crit}}=0.7642$, is lower than the critical value for the noise that we achieved in Example 7, $v_{\\text{crit}}=0.8039$.\n",
    "\n",
    "**Warning!** The tradeoff of using LPI constraints is that the dual certificate is no longer valid for other distributions. We can still certify incompatibility of a specific distribution $P_0$ with a certain causal model with the extracted certificate $\\text{Poly}_{P_0}(P_0)>0$ when using LPI constraints, but when checking other distributions $P_1$ with the same certificate, satisfying he inequality $\\text{Poly}_{P_0}(P_1)>0$ no longer guarantees that $P_1$ is also incompatible with the same causal structure."
   ]
  },
  {
   "cell_type": "markdown",
   "metadata": {},
   "source": [
    "## Partial information support"
   ]
  },
  {
   "cell_type": "markdown",
   "metadata": {},
   "source": [
    "It is also interesting to study scenarios where not all the information about a particular distribution in the original scenario is known. Specifying particular elements of a distribution in an `InflationSDP` object is achieved via the use of the function `InflationSDP.set_values()`, which admits as input a dictionary where the keys are the variables to be assigned numerical quantities, and the corresponding values are the quantities themselves. \n",
    "\n",
    "### Example 8: Eavesdropped quantum repeater\n",
    "\n",
    "An important example is the analysis of cryptographic scenarios, where the honest parties may know their joint distribution, but they cannot know their joint distribution together with a potential adversary. One simple such scenario is considered in [[Sec. VII, 3]](https://journals.aps.org/prx/abstract/10.1103/PhysRevX.11.021043). This scenario considers the quantum repeater/entanglement swapping experiment from Example 2 but with a hidden adversary, Eve, which is eavesdropping the sources $\\rho_{AB}$ and $\\rho_{BC}$ in an attempt to extract information about the secret key Alice and Charlie are trying to establish. Using quantum inflation, one can derive strict bounds on the amount of information Eve can extract about the secret key, as detailed in [Ref. [3]](https://journals.aps.org/prx/abstract/10.1103/PhysRevX.11.021043). To implement this example with our package one would write:"
   ]
  },
  {
   "cell_type": "code",
   "execution_count": null,
   "metadata": {},
   "outputs": [],
   "source": [
    "from causalinflation import InflationSDP, InflationProblem\n",
    "import numpy as np\n",
    "\n",
    "InfProb = InflationProblem(dag={'rhoABE': ['A', 'B', 'E'],\n",
    "                                'rhoBCE': ['B', 'C', 'E']},\n",
    "                           outcomes_per_party=(2, 4, 2, 2),\n",
    "                           settings_per_party=(2, 1, 2, 1),\n",
    "                           inflation_level_per_source=(2, 2),\n",
    "                           order=['A', 'B', 'C', 'E'])\n",
    "InfSDP = InflationSDP(InfProb)\n",
    "InfSDP.generate_relaxation(InfSDP.build_columns('local1', max_monomial_length=3))\n",
    "meas = InfSDP.measurements  # accessed as meas[party][0][setting][outcome]\n",
    "\n",
    "\n",
    "def P_EveGuessing(noise=1):\n",
    "    p = np.zeros((2, 4, 2, 2, 1, 2))\n",
    "    for a, b, c, x, y, z in np.ndindex(*p.shape):\n",
    "        b0, b1 = np.unravel_index(b, (2, 2))  # 0 --> 00, 1 --> 01, 2 --> 10, 3 --> 11\n",
    "        p[a, 2 * b1 + b0, c, x, y, z] = (1 + noise ** 2 * (-1) ** (a + c) * (\n",
    "                ((-1) ** b0 + (-1) ** (b1 + x + z)) / 2)) / 2 ** 4\n",
    "    return p\n",
    "\n",
    "\n",
    "for vis in np.linspace(1, 0.85, 16):\n",
    "    p = P_EveGuessing(vis)\n",
    "\n",
    "    p0 = np.sum(p[0, :, 0, 0, 0])\n",
    "    InfSDP.set_objective(meas[0][0][0][0] * meas[2][0][0][0] * meas[3][0][0][0] / p0\n",
    "                         - meas[3][0][0][0])\n",
    "\n",
    "    known_values = {}\n",
    "\n",
    "    # 3 body terms\n",
    "    for a, b, c, x, y, z in np.ndindex(1, 3, 1, 2, 1, 2):\n",
    "        known_values[meas[0][0][x][a] * meas[1][0][y][b] * meas[2][0][z][c]] = p[a, b, c, x, y, z]\n",
    "\n",
    "    # 2 body terms\n",
    "    for a, b, x, y in np.ndindex(1, 3, 2, 1):\n",
    "        known_values[meas[0][0][x][a] * meas[1][0][y][b]] = np.sum(p[a, b, :, x, y, 0])\n",
    "    for a, c, x, z in np.ndindex(1, 1, 2, 2):\n",
    "        known_values[meas[0][0][x][a] * meas[2][0][z][c]] = np.sum(p[a, :, c, x, 0, z])\n",
    "    for b, c, y, z in np.ndindex(3, 1, 1, 2):\n",
    "        known_values[meas[1][0][y][b] * meas[2][0][z][c]] = np.sum(p[:, b, c, 0, y, z])\n",
    "\n",
    "    # 1 body terms\n",
    "    for a, x in np.ndindex(1, 2):\n",
    "        known_values[meas[0][0][x][a]] = np.sum(p[a, :, :, x, 0, 0])\n",
    "    for b, y in np.ndindex(3, 1):\n",
    "        known_values[meas[1][0][y][b]] = np.sum(p[:, b, :, 0, y, 0])\n",
    "    for c, z in np.ndindex(1, 2):\n",
    "        known_values[meas[2][0][z][c]] = np.sum(p[:, :, c, 0, 0, z])\n",
    "\n",
    "    InfSDP.set_values(known_values)\n",
    "    InfSDP.solve()  # It takes a while to solve\n",
    "    # print(vis, InfSDP.objective_value)"
   ]
  },
  {
   "cell_type": "markdown",
   "metadata": {},
   "source": [
    "After running the code above and plotting the curve:\n",
    "<center> <img src=\"./figures/repeater.PNG\" alt=\"drawing\" width=\"450\"/> </center>\n",
    "\n",
    "we recover the correct bounds from [Ref. [3]](https://journals.aps.org/prx/abstract/10.1103/PhysRevX.11.021043).\n"
   ]
  },
  {
   "cell_type": "markdown",
   "metadata": {},
   "source": [
    "### Example 9: Device independent entanglement certification\n",
    "\n",
    "As mentioned in other sections, if all operators commute (by setting the `commuting` flag to `True` when instantiating `InflationSDP`), we get a relaxation that tests causal compatibility with a classical DAG. If furthermore the DAG is that of global shared randomness, then our package implements the techniques introduced in [Ref. [4]](https://journals.aps.org/prx/abstract/10.1103/PhysRevX.7.021042). \n",
    "\n",
    "Testing compatibility of a distribution $p(abc\\ldots | xyz\\ldots)$ with a DAG with global shared randomness is the same as checking if the distribution $p(abc\\ldots | xyz\\ldots)$ is Bell-nonlocal. It is known that all distributions that are Bell-local form a set with the geometry of a polytope in the space of probability distributions. Linear programming techniques allow one to build an oracle that can decide whether a given distribution is inside or outside a given polytope. See [[Sec. II, 7]](https://journals.aps.org/rmp/abstract/10.1103/RevModPhys.86.419) for more information. For many-body systems linear programming does not scale efficiently. The NPA hierarchy with all-to-all-commuting operators is an outer approximation of the linear programming method. In particular, the set of probability distributions which lead to a feasible all-commuting NPA SDP relaxation strictly includes the local set. However, given a sufficiently high level of the hierarchy, this set becomes exactly the local set, i.e., it converges to the local polytope. For intermediate levels of the hierarchy, the approximation is less tight, but it is more efficiently implementable than the linear program.\n",
    "\n",
    "In what follows, we reproduce a simple example from [Ref. [4]](https://journals.aps.org/prx/abstract/10.1103/PhysRevX.7.021042) where we certify entanglement of the W state and the noise robustness of this technique. For this, we use tools from the [Hierarchy for nonlocality detection](https://github.com/FlavioBaccari/Hierarchy-for-nonlocality-detection) GitHub repository. This example also requires the use of the [QuTiP](https://qutip.org/) Python package to simulate measurements on the W state."
   ]
  },
  {
   "cell_type": "code",
   "execution_count": 6,
   "metadata": {},
   "outputs": [
    {
     "name": "stdout",
     "output_type": "stream",
     "text": [
      "Maximum smallest eigenvalue:    0.00911   Visibility = 0.5\n",
      "Maximum smallest eigenvalue:  -0.001149   Visibility = 0.75\n",
      "Maximum smallest eigenvalue:    0.00412   Visibility = 0.625\n",
      "Maximum smallest eigenvalue:   0.001523   Visibility = 0.6875\n",
      "Maximum smallest eigenvalue:  0.0001972   Visibility = 0.7188\n",
      "Maximum smallest eigenvalue: -0.0004732   Visibility = 0.7344\n",
      "Maximum smallest eigenvalue: -0.0001374   Visibility = 0.7266\n",
      "Maximum smallest eigenvalue:  3.007e-05   Visibility = 0.7227\n",
      "Maximum smallest eigenvalue:  -5.36e-05   Visibility = 0.7246\n",
      "Maximum smallest eigenvalue: -1.176e-05   Visibility = 0.7236\n",
      "Maximum smallest eigenvalue:  9.159e-06   Visibility = 0.7231\n",
      "Maximum smallest eigenvalue: -1.298e-06   Visibility = 0.7234\n",
      "Maximum smallest eigenvalue:  3.931e-06   Visibility = 0.7233\n",
      "Maximum smallest eigenvalue:  1.317e-06   Visibility = 0.7233\n",
      "Visibility rejection threshold: 0.7234\n"
     ]
    }
   ],
   "source": [
    "from causalinflation import InflationSDP, InflationProblem\n",
    "from causalinflation.quantum.optimization_utils import bisect\n",
    "from qutip import tensor, basis, ket2dm, expect, qeye, sigmax, sigmaz\n",
    "\n",
    "N = 7  # How many spins in the system\n",
    "outcomes_per_party = [2] * N  # 2 measurements per site\n",
    "settings_per_party = [2] * N  # 2 outcomes per site\n",
    "entcert = InflationProblem(dag={'rhoW': ['A', 'B', 'C', 'D', 'E', 'F', 'G']},\n",
    "                           outcomes_per_party=outcomes_per_party,\n",
    "                           settings_per_party=settings_per_party)\n",
    "sdp = InflationSDP(entcert, commuting=True)\n",
    "sdp.generate_relaxation('npa2')\n",
    "meas = sdp.measurements\n",
    "\n",
    "\n",
    "def get_W_reduced(N):\n",
    "    \"\"\"Generates the reduced four-body state for the N-partite W state. Since\n",
    "    the W state is symmetric, it is independent of the choice of the four\n",
    "    parties that one considers.\n",
    "    Source: https://github.com/FlavioBaccari/Hierarchy-for-nonlocality-detection\n",
    "    \"\"\"\n",
    "\n",
    "    def get_W_state(N):\n",
    "        \"\"\"Generates the density matrix for the N-partite W state.\"\"\"\n",
    "        state = tensor([basis(2, 1)] + [basis(2, 0) for _ in range(N - 1)])\n",
    "        for i in range(1, N):\n",
    "            components = [basis(2, 0) for _ in range(N)]\n",
    "            components[i] = basis(2, 1)\n",
    "            state += tensor(components)\n",
    "        return 1. / N ** 0.5 * state\n",
    "\n",
    "    w = ket2dm(get_W_state(4))\n",
    "    rest = ket2dm(tensor([basis(2, 0) for _ in range(4)]))\n",
    "\n",
    "    return 4. / N * w + (N - 4.) / N * rest\n",
    "\n",
    "\n",
    "W_state = get_W_reduced(N)\n",
    "W_operators = [[[v.proj() for v in meas.eigenstates()[1]]\n",
    "                for meas in [sigmax(), sigmaz()]]\n",
    "               for p in range(N)]\n",
    "\n",
    "noise_state = tensor([qeye(2) for _ in range(4)]) / 16\n",
    "\n",
    "\n",
    "def max_min_eig_from_vis(vis: float) -> dict:\n",
    "    known_values = {}\n",
    "    for if_p_involved in np.ndindex(*([2] * N)):\n",
    "        if sum(if_p_involved) == 0:\n",
    "            known_values[1] = 1\n",
    "        elif sum(if_p_involved) <= 4:\n",
    "            p_involved = [p for p in range(N) if if_p_involved[p]]\n",
    "            for settings in np.ndindex(*[settings_per_party[p] for p in p_involved]):\n",
    "                for outcomes in np.ndindex(*[outcomes_per_party[p] - 1 for p in\n",
    "                                             p_involved]):  # -1 because of CG notation\n",
    "                    sdpvar = np.prod([meas[p][0][x][a] for p, x, a in zip(p_involved, settings, outcomes)])\n",
    "                    projectors = [W_operators[p][x][a] for p, x, a in zip(p_involved, settings, outcomes)]\n",
    "                    for i in range(4 - sum(if_p_involved)):\n",
    "                        projectors.append(qeye(2))  # Complete with identity projectors\n",
    "                    known_values[sdpvar] = expect(tensor(projectors), vis * W_state + (1 - vis) * noise_state)\n",
    "    sdp.set_values(known_values)\n",
    "    sdp.solve(feas_as_optim=True)\n",
    "    return sdp.objective_value\n",
    "\n",
    "\n",
    "print(f\"Visibility rejection threshold: {bisect(f=max_min_eig_from_vis, bounds=(0.0, 1.0), verbose=True):.4f}\")"
   ]
  },
  {
   "cell_type": "markdown",
   "metadata": {},
   "source": [
    "We correctly recover the results for the W state visibility of $\\nu_{\\textrm{crit}}\\approx 0.723$ for $N=7$ in [[Table I, 4]](https://journals.aps.org/prx/abstract/10.1103/PhysRevX.7.021042)."
   ]
  },
  {
   "cell_type": "markdown",
   "metadata": {},
   "source": [
    "## Beyond networks\n",
    "\n",
    "### Example 10: The instrumental scenario\n",
    "\n",
    "The simplest causal scenario that exhibits a gap between classical, quantum and post-quantum correlations is the [instrumental scenario [8]](https://quantum-journal.org/papers/q-2019-09-16-186/). In the instrumental scenario we have two parties, Alice and Bob, that share a common source of correlations. While Alice can choose between different measurement settings, $x$, Bob has no choice. However, Alice is allowed to signal her output to Bob. This is depicted as a DAG in Figure a) below. For correlations arising in a standard Bell experiment, one can post-select only those where Bob's input is the same as Alice's output, $p(a,b|x,y{=}a)$. The postselection introduces one-way signaling by correlating Bob's input with Alice's output, thus simulating the instrumental scenario. This is depicted in Figure b) below. Clearly then we can project a Bell-type correlation to an instrumental-type correlation. The reverse also holds, namely instrumental-type correlations can be lifted to Bell-type correlations. Due to this, if one can prove that certain correlations, when lifted to a network-type scenario, are incompatible with said scenario, it must also be the case that the unlifted correlations are incompatible with the base scenario.  \n",
    "\n",
    "<center> <img src=\"./figures/instrumental.png\" alt=\"drawing\" width=\"650\"/> </center>\n",
    "\n",
    "The generated SDP relaxation for the instrumental scenario corresponds to that of the Bell scenario with the following modification: expectation values involving operators with a mismatch between Alice's output and Bob's input, $a\\neq y$, are left as free variables, and are not fixed when specifying a probability distribution. While in standard Bell scenarios we can fully use the so-called [Collins-Gisin notation [9]](https://arxiv.org/abs/quant-ph/0306129), which has normalisation built-in by expressing moments in the moment matrix without using the last output, in beyond-network scenarios we need to explicitly include the last output when it serves as an input to another party (and add the corresponding normalisation constraints) as it cannot be rewritten in terms of other variables. This is all done automatically by the package. \n",
    "\n",
    "In the lifted scenario, the input cardinality of children (those that are on the receiving end of one-way signalling influences) increases to accomodate the different output values of the parent nodes. For the instrumental scenario, this means that Bob's input goes from $y$ in the base scenario to $y'=(y,a)$ in the lifted scenario. The attribute `InflationProblem.effective_to_parent_settings` is a list of dictionaries which, for each party, unravels the effective setting in the lifted scenario to a tuple encoding the private setting and the parents' outputs. For example, in a network with parties Alice, Bob, Charlie and Dave, if Alice and Dave signal to Bob, then the effective setting $y'$ of Bob in the lifted scenario is $y'=(y,a,d)$ (or $y'=(y,d,a)$ if we specify specify a custom order with via the `order` optional parameter where Dave appears before Alice).\n",
    "\n",
    "As a specific application, we can show that the following distribution: \n",
    "$$p(a,b|x)= \\begin{cases}1 / 2 & \\text { if } b=a+f(x, a) \\quad \\bmod 2 \\\\ 0 & \\text { otherwise }\\end{cases}$$\n",
    "with $f(0,a)=0$, $f(1,a){=}a$, $f(2,a){=}a+1 \\bmod2$, is incompatible with the instrumental scenario with quantum sources of correlations with the following code:"
   ]
  },
  {
   "cell_type": "code",
   "execution_count": 7,
   "metadata": {},
   "outputs": [
    {
     "name": "stdout",
     "output_type": "stream",
     "text": [
      "Currently rejected value: 0.7627157252512102\n",
      "Currently rejected value: 0.7231316221697881\n",
      "Currently rejected value: 0.7167735716147439\n",
      "Currently rejected value: 0.716426000227375\n",
      "Currently rejected value: 0.7164185149914377\n",
      "Visibility rejection threshold: 0.7164\n"
     ]
    }
   ],
   "source": [
    "from causalinflation import InflationProblem, InflationSDP\n",
    "from causalinflation.quantum.optimization_utils import max_such_that_feasible_via_dual\n",
    "\n",
    "prob = InflationProblem(dag={'rhoAB': ['A', 'B'], 'A': ['B']},\n",
    "                        outcomes_per_party=(2, 2),\n",
    "                        settings_per_party=(3, 1))\n",
    "sdp = InflationSDP(prob)\n",
    "sdp.generate_relaxation('local1')\n",
    "\n",
    "\n",
    "def P(noise):\n",
    "    def f(x, a):\n",
    "        return x * (2 - x) * a + 1 / 2 * x * (x - 1) * (a + 1) % 2\n",
    "\n",
    "    p = np.zeros((2, 2, 3, 1))\n",
    "    for a, b, x, y in np.ndindex(*p.shape):\n",
    "        if b == (a + f(x, a)) % 2:\n",
    "            p[a, b, x, y] = 1 / 2\n",
    "    return noise * p + (1 - noise) * np.ones(p.shape) / 4\n",
    "\n",
    "\n",
    "optima = max_such_that_feasible_via_dual(sdp=sdp,\n",
    "                                         distribution_as_scalar_function=P,\n",
    "                                         verbose=True)\n",
    "print(f\"Visibility rejection threshold: {optima[0]:.4f}\")"
   ]
  },
  {
   "cell_type": "markdown",
   "metadata": {},
   "source": [
    "This shows that there is no realisation of the above distribution for visibilities $\\nu\\geq 0.7164$ in the instrumental scenario.\n",
    "\n",
    "One can also compute bounds for Bell functionals in beyond-network scenarios. As an example, we can derive bounds in the instrumental scenario for the Bonet Bell operator appearing in Bonet's inequality:\n",
    "$$\n",
    "I_{\\text {Bonet }}:=p(a{=}b\\vert 0)+p(b{=}0\\vert 1)+p(a{=}0, b{=}1\\vert 2) \\leq \\begin{cases}2 & \\text { Classical } \\\\ (3+\\sqrt{2}) / 2 & \\text { Quantum }\\end{cases}\n",
    "$$\n",
    "Recall that the moment matrix contains expressions involving Alice's last output, $a{=}1$, but not Bob's, as Bob is not a parent in the DAG. As such, all probabilities involving Bob's last output, $b{=}1$, need to be expressed in terms of moments that do appear in the moment matrix. In this case, $p(a, b{=}1\\vert x) = p(a \\vert x) - p(a, b{=}0\\vert x)$. At the moment this is not done automatically, but needs to be considered by the user. The code to compute the bound is as follows:"
   ]
  },
  {
   "cell_type": "code",
   "execution_count": 8,
   "metadata": {},
   "outputs": [
    {
     "name": "stdout",
     "output_type": "stream",
     "text": [
      "Bonet Bell operator ≤ 2.0000 (Classical)\n",
      "Bonet Bell operator ≤ 2.2071 (Quantum)\n"
     ]
    }
   ],
   "source": [
    "from causalinflation import InflationProblem, InflationSDP\n",
    "from sympy import Symbol\n",
    "\n",
    "prob = InflationProblem(dag={'rhoAB': ['A', 'B'], 'A': ['B']},\n",
    "                        outcomes_per_party=(2, 2),\n",
    "                        settings_per_party=(3, 1))\n",
    "sdp = InflationSDP(prob)\n",
    "sdp.generate_relaxation('local1')\n",
    "\n",
    "objective = Symbol('pAB(00|00)') + Symbol('pAB(00|10)') + Symbol('pAB(10|10)')\n",
    "objective += Symbol('pA(1|0)') - Symbol('pAB(10|00)')  # 'pAB(01|00)' \n",
    "objective += Symbol('pA(0|2)') - Symbol('pAB(00|20)')  # 'pAB(01|20)'\n",
    "\n",
    "sdp = InflationSDP(prob, commuting=True)\n",
    "sdp.generate_relaxation('local1')\n",
    "sdp.set_objective(objective, direction='max')\n",
    "sdp.solve()\n",
    "print(f\"Bonet Bell operator ≤ {sdp.objective_value:.4f} (Classical)\")\n",
    "\n",
    "sdp = InflationSDP(prob)\n",
    "sdp.generate_relaxation('local1')\n",
    "sdp.set_objective(objective, direction='max')\n",
    "sdp.solve()\n",
    "print(f\"Bonet Bell operator ≤ {sdp.objective_value:.4f} (Quantum)\")"
   ]
  },
  {
   "cell_type": "markdown",
   "metadata": {},
   "source": [
    "## Probabilitic support compatibility\n",
    "\n",
    " @eliewolfe @apozas should we add this section?\n",
    "\n",
    "Hardy's paradox \"is the simplest form of Bell's theorem\". It is a proof without inequalities that certain correlations are incompatible with local realism based only on possibilistic arguments: it only assumes whether certain events are possible (positive probability) or impossible (zero probability) in order to reach a contradiction [[10]](https://arxiv.org/abs/1105.1819). In the spirit of Hardy-type paradoxes, one can extend the quantum inflation technique to tackle compatibility of a possibilistic support with a given causal structure. Standard quantum inflation cannot handle support problems numerically because one cannot distinguish with floating point precision between $0$ and a number that is sufficiently close to zero. One approach to circumvent this problem is to scale the moment matrix by an appropriate positive factor. \n",
    "\n",
    "Consider an SDP relaxation testing compatibility that is feasible and let $\\Gamma^*$ be the optimal analytical solution. If we divide $\\Gamma^*$ by the smallest non-zero element of $\\Gamma^*$, $\\epsilon$, then moments that are identical to zero (e.g., those which involve impossible events) will be mapped to zero. However, all other moments will be mapped either to the interval $[1,\\infty)$ if they are positive moments, or to $(-\\infty, \\infty)$ if they can be negative. The expectation value of the identity will also be mapped to $[1,\\infty)$,  $\\langle 1 \\rangle \\to \\langle 1 \\rangle/\\epsilon$, and it will upper bound all other moments in the moment matrix. Notice that instead of finding the optimal solution of the original SDP and rescaling it, we can solve the rescaled SDP from the beginning. To get back the original moment matrix whose moments can be interpreted as probabilities, we can divide $\\Gamma^*/\\epsilon$ by the numerical value found for the identity moment, $\\langle 1 \\rangle^*/\\epsilon$. Given that this scaling is one to one, infeasibility of the rescaled SDP implies infeasibility for the original SDP and viceversa. Furthermore, in the rescaled SDP moments that are identically zero can be distinguished from non-zero moments, and as such, the rescaled SDP can be solved numerically.\n",
    "\n",
    "All the constraints that the rescaled SDP must fulfill are imposed automatically by the package by setting the flag `supports_problem=True` when instantiating `InflationSDP`.\n",
    "\n",
    "#### Example 11: Possibilistic support compatibility\n",
    "\n",
    "As an example, one can show that any distribution that has the same support as the distribution from Example 10 is incompatbile with the instrumental scenario:"
   ]
  },
  {
   "cell_type": "code",
   "execution_count": 9,
   "metadata": {},
   "outputs": [
    {
     "data": {
      "text/plain": "'infeasible'"
     },
     "execution_count": 9,
     "metadata": {},
     "output_type": "execute_result"
    }
   ],
   "source": [
    "from causalinflation import InflationProblem, InflationSDP\n",
    "import numpy as np\n",
    "\n",
    "prob = InflationProblem(dag={'rhoAB': ['A', 'B'], 'A': ['B']},\n",
    "                        outcomes_per_party=(2, 2),\n",
    "                        settings_per_party=(3, 1))\n",
    "\n",
    "sdp = InflationSDP(prob, supports_problem=True)\n",
    "sdp.generate_relaxation('local1')\n",
    "\n",
    "\n",
    "def P(noise):\n",
    "    def f(x, a):\n",
    "        return x * (2 - x) * a + 1 / 2 * x * (x - 1) * (a + 1) % 2\n",
    "\n",
    "    p = np.zeros((2, 2, 3, 1))\n",
    "    for a, b, x, y in np.ndindex(*p.shape):\n",
    "        if b == (a + f(x, a)) % 2:\n",
    "            p[a, b, x, y] = 1 / 2\n",
    "    return noise * p + (1 - noise) * np.ones(p.shape) / 4\n",
    "\n",
    "\n",
    "sdp.set_distribution(P(1))\n",
    "sdp.solve()\n",
    "sdp.status"
   ]
  },
  {
   "cell_type": "markdown",
   "metadata": {},
   "source": [
    "## References\n",
    "\n",
    "[1] *[E. Wolfe,  R. W. Spekkens, and T. Fritz. Journal of Causal Inference, vol. 7, no. 2, 2019, pp. 20170020.](https://www.degruyter.com/document/doi/10.1515/jci-2017-0020/html?lang=en)*\n",
    "\n",
    "[2] *[E. Wolfe, A. Pozas-Kerstjens, M. Grinberg, D. Rosset, A. Acín, and Miguel Navascués Phys. Rev. X 11, 021043](https://journals.aps.org/prx/abstract/10.1103/PhysRevX.11.021043)*\n",
    "\n",
    "[3] *[M. Navascués et al 2008 New J. Phys. 10 073013](https://iopscience.iop.org/article/10.1088/1367-2630/10/7/073013)*\n",
    "\n",
    "[4] *[F. Baccari, D. Cavalcanti, P. Wittek, and A. Acín\n",
    "Phys. Rev. X 7, 021042](https://journals.aps.org/prx/abstract/10.1103/PhysRevX.7.021042)*\n",
    "\n",
    "[5] *[S. Popescu, and D. Rohrlich, Found Phys 24, 379–385 (1994).](https://link.springer.com/article/10.1007/BF02058098)*\n",
    "\n",
    "[6] *[A. Pozas-Kerstjens, N. Gisin, and M. O. Renou, (2022). arXiv preprint arXiv:2203.16543.](https://arxiv.org/abs/2203.16543)*\n",
    "\n",
    "[7] *[N. Brunner, D. Cavalcanti, S. Pironio, V. Scarani, and S. Wehner\n",
    "Rev. Mod. Phys. 86, 419](https://journals.aps.org/rmp/abstract/10.1103/RevModPhys.86.419)*\n",
    "\n",
    "[8] *[T. Van Himbeeck, J. Bohr Brask, S. Pironio, R. Ramanathan, A. Belén Sainz, and E. Wolfe, Quantum 3, 186 (2019)](https://quantum-journal.org/papers/q-2019-09-16-186/)*.\n",
    "\n",
    "[9] *[D. Collins, and N. Gisin 2004 J. Phys. A: Math. Gen. 37 1775](https://arxiv.org/abs/quant-ph/0306129)*\n",
    "\n",
    "[10] *[S. Mansfield and, T. Fritz. Found Phys 42, 709–719 (2012)](https://arxiv.org/abs/1105.1819)*\n"
   ]
  },
  {
   "cell_type": "code",
   "execution_count": null,
   "metadata": {},
   "outputs": [],
   "source": [
    "import causalinflation, qutip\n",
    "\n",
    "causalinflation.about()\n",
    "print('QuTiP version: ', qutip.__version__)"
   ]
  }
 ],
 "metadata": {
  "kernelspec": {
   "display_name": "Python 3.10.4 ('myenv')",
   "language": "python",
   "name": "python3"
  },
  "language_info": {
   "codemirror_mode": {
    "name": "ipython",
    "version": 3
   },
   "file_extension": ".py",
   "mimetype": "text/x-python",
   "name": "python",
   "nbconvert_exporter": "python",
   "pygments_lexer": "ipython3",
   "version": "3.10.4"
  },
  "vscode": {
   "interpreter": {
    "hash": "b9d9d82ce614342c99c73b6bb2461ce41dfad241e1082458cbcf020875f9158b"
   }
  }
 },
 "nbformat": 4,
 "nbformat_minor": 2
}

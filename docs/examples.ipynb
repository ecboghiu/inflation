{
 "cells": [
  {
   "cell_type": "markdown",
   "metadata": {},
   "source": [
    "# Examples"
   ]
  },
  {
   "cell_type": "markdown",
   "metadata": {},
   "source": [
    "In this tutorial, we will show different problems that the causalinflation package can solve."
   ]
  },
  {
   "cell_type": "markdown",
   "metadata": {},
   "source": [
    "## Causal compatibility problems\n",
    "\n",
    "The causal compatibility problem aims to answer the question of whether a given probability distribution of outcomes of measurements is compatible with a given causal model. For the following examples, we consider compatibility with a quantum causal model. \n",
    "\n",
    "*TODO*: explain more"
   ]
  },
  {
   "cell_type": "code",
   "execution_count": 20,
   "metadata": {},
   "outputs": [],
   "source": [
    "import causalinflation as cinf\n",
    "from causalinflation.quantum.InflationSDP import InflationSDP\n",
    "from causalinflation.InflationProblem import InflationProblem\n",
    "\n",
    "from examples_utils import feasibility_bisection\n"
   ]
  },
  {
   "cell_type": "markdown",
   "metadata": {},
   "source": [
    "#### The PR box\n",
    "\n",
    "TODO: break the code and introduce the problem\n",
    "\n",
    "add bisection function hidden from the documentation, maybe in example_utils.py"
   ]
  },
  {
   "cell_type": "code",
   "execution_count": 21,
   "metadata": {},
   "outputs": [
    {
     "name": "stdout",
     "output_type": "stream",
     "text": [
      "Critical visibility:     0.7071\n",
      "Infeasibility certificate: \n",
      " -201487.332*p(00|00) - 201493.109*p(00|01) - 201493.109*p(00|10) + 201492.612*p(00|11) + 201489.909*pA(0|0) + 1.0*pA(0|1) + 201489.909*pB(0|0) + 1.0*pB(0|1) + 41739.738 ≥ 0\n"
     ]
    }
   ],
   "source": [
    "from causalinflation.useful_distributions import P_PRbox_array\n",
    "\n",
    "InfProb = InflationProblem( dag={\"h1\": [\"v1\", \"v2\"]},\n",
    "                            outcomes_per_party=[2, 2],\n",
    "                            settings_per_party=[2, 2],\n",
    "                            inflation_level_per_source=[1],\n",
    "                            names=['A', 'B'])\n",
    "InfSDP = InflationSDP(InfProb, commuting=False, verbose=0)\n",
    "InfSDP.generate_relaxation(column_specification='npa1')\n",
    "\n",
    "InfSDP, critical_vis = feasibility_bisection(InfSDP, P_PRbox_array, verbose=0)\n",
    "\n",
    "print(\"Critical visibility:\", \"{:10.4g}\".format(critical_vis))\n",
    "print(\"Infeasibility certificate: \\n\", InfSDP.dual_certificate_as_symbols_probs,\n",
    "                                       \"≥\", 0)"
   ]
  },
  {
   "cell_type": "markdown",
   "metadata": {},
   "source": []
  },
  {
   "cell_type": "markdown",
   "metadata": {},
   "source": [
    "#### The 2PR distribution in the bilocal scenario\n",
    "\n",
    "TODO: break the code and introduce the problem"
   ]
  },
  {
   "cell_type": "code",
   "execution_count": 22,
   "metadata": {},
   "outputs": [
    {
     "name": "stdout",
     "output_type": "stream",
     "text": [
      "max(min eigval):  1.393e-09 \tvisibility = 0 0.5\n",
      "Critical visibility:       0.75\n"
     ]
    },
    {
     "ename": "AttributeError",
     "evalue": "'int' object has no attribute 'dual_certificate_as_symbols_probs'",
     "output_type": "error",
     "traceback": [
      "\u001b[1;31m---------------------------------------------------------------------------\u001b[0m",
      "\u001b[1;31mAttributeError\u001b[0m                            Traceback (most recent call last)",
      "\u001b[1;32m~\\AppData\\Local\\Temp/ipykernel_30420/222825797.py\u001b[0m in \u001b[0;36m<module>\u001b[1;34m\u001b[0m\n\u001b[0;32m     14\u001b[0m \u001b[1;33m\u001b[0m\u001b[0m\n\u001b[0;32m     15\u001b[0m \u001b[0mprint\u001b[0m\u001b[1;33m(\u001b[0m\u001b[1;34m\"Critical visibility:\"\u001b[0m\u001b[1;33m,\u001b[0m \u001b[1;34m\"{:10.4g}\"\u001b[0m\u001b[1;33m.\u001b[0m\u001b[0mformat\u001b[0m\u001b[1;33m(\u001b[0m\u001b[0mcritical_vis\u001b[0m\u001b[1;33m)\u001b[0m\u001b[1;33m)\u001b[0m\u001b[1;33m\u001b[0m\u001b[1;33m\u001b[0m\u001b[0m\n\u001b[1;32m---> 16\u001b[1;33m print(\"Infeasibility certificate: \\n\", InfSDP.dual_certificate_as_symbols_probs,\n\u001b[0m\u001b[0;32m     17\u001b[0m                                        \"≥\", 0)\n",
      "\u001b[1;31mAttributeError\u001b[0m: 'int' object has no attribute 'dual_certificate_as_symbols_probs'"
     ]
    }
   ],
   "source": [
    "from causalinflation.useful_distributions import P_2PR_array\n",
    "\n",
    "InfProb = InflationProblem( dag={\"h1\": [\"v1\", \"v2\"],\n",
    "                                 \"h2\": [\"v2\", \"v3\"]},\n",
    "                            outcomes_per_party=[2, 2, 2],\n",
    "                            settings_per_party=[2, 2, 2],\n",
    "                            inflation_level_per_source=[2, 2],\n",
    "                            names=['A', 'B', 'C'])\n",
    "\n",
    "InfSDP = InflationSDP(InfProb, commuting=True, verbose=0)\n",
    "InfSDP.generate_relaxation(column_specification='npa3', max_monomial_length=2)\n",
    "\n",
    "InfSDP, critical_vis = feasibility_bisection(InfSDP, P_2PR_array, verbose=1)\n",
    "\n",
    "print(\"Critical visibility:\", \"{:10.4g}\".format(critical_vis))\n",
    "print(\"Infeasibility certificate: \\n\", InfSDP.dual_certificate_as_symbols_probs,\n",
    "                                       \"≥\", 0)"
   ]
  },
  {
   "cell_type": "code",
   "execution_count": null,
   "metadata": {},
   "outputs": [
    {
     "data": {
      "text/plain": [
       "0"
      ]
     },
     "execution_count": 15,
     "metadata": {},
     "output_type": "execute_result"
    }
   ],
   "source": [
    "InfSDP"
   ]
  },
  {
   "cell_type": "markdown",
   "metadata": {},
   "source": [
    "#### The W distribution\n",
    "\n",
    "TODO: break the code and introduce the problem"
   ]
  },
  {
   "cell_type": "code",
   "execution_count": null,
   "metadata": {},
   "outputs": [
    {
     "name": "stdout",
     "output_type": "stream",
     "text": [
      "max(min eigval):   0.004188 \tvisibility = 0 0.5\n",
      "max(min eigval):   0.001165 \tvisibility = 1 0.75\n",
      "max(min eigval):  -0.001274 \tvisibility = 2 0.875\n",
      "max(min eigval):  0.0006713 \tvisibility = 3 0.8125\n",
      "max(min eigval):  0.0001666 \tvisibility = 4 0.8438\n",
      "max(min eigval): -0.0004739 \tvisibility = 5 0.8594\n",
      "max(min eigval): -0.0001339 \tvisibility = 6 0.8516\n",
      "max(min eigval):  2.187e-05 \tvisibility = 7 0.8477\n",
      "max(min eigval): -5.472e-05 \tvisibility = 8 0.8496\n",
      "max(min eigval): -1.609e-05 \tvisibility = 9 0.8486\n",
      "max(min eigval):  2.972e-06 \tvisibility = 10 0.8481\n",
      "max(min eigval): -6.541e-06 \tvisibility = 11 0.8484\n",
      "max(min eigval): -1.779e-06 \tvisibility = 12 0.8483\n",
      "max(min eigval):  5.974e-07 \tvisibility = 13 0.8482\n",
      "Final values and last valid certificate:\n",
      "max(min eigval):  5.974e-07 \tvm = 14     0.8482\n",
      "145.768*p(000|000)*pA(0|0) + 145.769*p(000|000)*pB(0|0) + 145.757*p(000|000)*pC(0|0) + 921.574*p(000|000) - 122.504*pA(0|0)**2 - 112.285*pA(0|0)*pAB(00|00) - 112.149*pA(0|0)*pAC(00|00) - 553.411*pA(0|0)*pB(0|0)*pC(0|0) + 1293.356*pA(0|0)*pB(0|0) - 580.673*pA(0|0)*pBC(00|00) + 1293.124*pA(0|0)*pC(0|0) - 1105.698*pA(0|0) + 313.48*pAB(00|00)**2 + 202.786*pAB(00|00)*pAC(00|00) - 112.258*pAB(00|00)*pB(0|0) + 202.78*pAB(00|00)*pBC(00|00) - 580.667*pAB(00|00)*pC(0|0) + 1.066*pAB(00|00) + 313.433*pAC(00|00)**2 - 580.747*pAC(00|00)*pB(0|0) + 202.818*pAC(00|00)*pBC(00|00) - 112.177*pAC(00|00)*pC(0|0) + 1.0*pAC(00|00) - 122.527*pB(0|0)**2 - 112.227*pB(0|0)*pBC(00|00) + 1293.293*pB(0|0)*pC(0|0) - 1105.759*pB(0|0) + 313.504*pBC(00|00)**2 - 112.338*pBC(00|00)*pC(0|0) + 1.058*pBC(00|00) - 122.482*pC(0|0)**2 - 1105.672*pC(0|0) + 1142.473 ≥ 0\n"
     ]
    }
   ],
   "source": [
    "from causalinflation.useful_distributions import P_W_array\n",
    "\n",
    "\n",
    "InfProb = InflationProblem(dag={\"h2\": [\"v1\", \"v2\"],\n",
    "                                \"h3\": [\"v1\", \"v3\"],\n",
    "                                \"h1\": [\"v2\", \"v3\"]},\n",
    "                           outcomes_per_party=[2, 2, 2],\n",
    "                           settings_per_party=[1, 1, 1],\n",
    "                           inflation_level_per_source=[2, 2, 2],\n",
    "                           names=['A', 'B', 'C'])\n",
    "\n",
    "InfSDP = InflationSDP(InfProb, commuting=False, verbose=0)\n",
    "InfSDP.generate_relaxation(column_specification='npa2')\n",
    "\n",
    "tol_vis = 1e-4\n",
    "v0, v1 = 0, 1\n",
    "vm = (v0 + v1)/2\n",
    "\n",
    "InfSDP.verbose = 0\n",
    "\n",
    "iteration = 0\n",
    "certificate = 0\n",
    "while abs(v1 - v0) >= tol_vis and iteration < 20:\n",
    "    p = P_W_array(visibility=vm)\n",
    "    InfSDP.set_distribution(p, use_lpi_constraints=True)\n",
    "    InfSDP.solve()\n",
    "\n",
    "    print(\"max(min eigval):\", \"{:10.4g}\".format(\n",
    "        InfSDP.primal_objective), \"\\tvisibility =\", iteration, \"{:.4g}\".format(vm))\n",
    "    iteration += 1\n",
    "    if InfSDP.primal_objective >= 0:\n",
    "        v0 = vm\n",
    "        vm = (v0 + v1)/2\n",
    "    elif InfSDP.primal_objective < 0:\n",
    "        v1 = vm\n",
    "        vm = (v0 + v1)/2\n",
    "        certificate = InfSDP.dual_certificate_as_symbols_probs\n",
    "    if abs(InfSDP.primal_objective) <= 1e-7:\n",
    "        break\n",
    "\n",
    "print(\"Final values and last valid certificate:\")\n",
    "print(\"max(min eigval):\", \"{:10.4g}\".format(\n",
    "    InfSDP.primal_objective), \"\\tvm =\", iteration, \"{:10.4g}\".format(vm))\n",
    "print(certificate, \"≥\", 0)\n"
   ]
  },
  {
   "cell_type": "markdown",
   "metadata": {},
   "source": [
    "## Optimisation problems"
   ]
  },
  {
   "cell_type": "markdown",
   "metadata": {},
   "source": [
    "Given a function of the probability distribution, we want to find the maximum over the set of probability distributions compatible with the causal model. This type of problem can also be tackled with causalinflation by optimising over the semidefinite relaxation of the problem.\n",
    "\n",
    "TODO: refine statement"
   ]
  },
  {
   "cell_type": "markdown",
   "metadata": {},
   "source": [
    "#### The Svetlichny distribution\n",
    "\n",
    "TODO: break the code and introduce the problem"
   ]
  },
  {
   "cell_type": "code",
   "execution_count": null,
   "metadata": {},
   "outputs": [],
   "source": [
    "from causalinflation.quantum.general_tools import to_numbers, to_name\n",
    "import numpy as np\n",
    "import itertools\n",
    "import sympy as sp"
   ]
  },
  {
   "cell_type": "code",
   "execution_count": null,
   "metadata": {},
   "outputs": [
    {
     "name": "stdout",
     "output_type": "stream",
     "text": [
      "5.656854245790322\n"
     ]
    }
   ],
   "source": [
    "InfProb = InflationProblem( dag={\"h1\": [\"v1\", \"v2\"],\n",
    "                                 \"h2\": [\"v1\", \"v3\"],\n",
    "                                 \"h3\": [\"v2\", \"v3\"]},\n",
    "                            outcomes_per_party=[2, 2, 2],\n",
    "                            settings_per_party=[2, 2, 2],\n",
    "                            inflation_level_per_source=[2, 2, 2],\n",
    "                            names=['A', 'B', 'C'] )\n",
    "\n",
    "InfSDP = InflationSDP(InfProb, commuting=False, verbose=0)\n",
    "\n",
    "InfSDP.build_columns('physical222', max_monomial_length=2)\n",
    "cols_S2 = InfSDP.generating_monomials\n",
    "InfSDP.build_columns('local1')\n",
    "cols_loc1 = InfSDP.generating_monomials\n",
    "\n",
    "cols_S2_name = [to_name(np.array(m), InfProb.names) for m in cols_S2[1:]]\n",
    "cols_loc1_name = [to_name(np.array(m), InfProb.names) for m in cols_loc1[1:]]\n",
    "cols = cols_S2_name\n",
    "for m in cols_loc1_name:\n",
    "    if m not in cols_S2_name:\n",
    "        cols.append(m)\n",
    "#cols = cols_S2_name.union(cols_loc1_name)\n",
    "cols_num = [[0]]\n",
    "for m in cols:\n",
    "    cols_num.append(to_numbers(m, InfProb.names))\n",
    "\n",
    "InfSDP.generate_relaxation(column_specification=[[], [0], [1], [2],\n",
    "                                                 [0, 0], [0, 1], [1, 1],\n",
    "                                                 [0, 2], [2, 2], [1, 2]])\n",
    "\n",
    "measurements = InfSDP.measurements \n",
    "A0 = sp.S.One - 2*measurements[0][0][0][0]\n",
    "A1 = sp.S.One - 2*measurements[0][0][1][0]\n",
    "B0 = sp.S.One - 2*measurements[1][0][0][0]\n",
    "B1 = sp.S.One - 2*measurements[1][0][1][0]\n",
    "C0 = sp.S.One - 2*measurements[2][0][0][0]\n",
    "C1 = sp.S.One - 2*measurements[2][0][1][0]\n",
    "objective = sp.expand(A1*B0*C0 + A0*B1*C0 + A0*B0*C1 - A1*B1*C1 - \n",
    "                      A0*B1*C1 - A1*B0*C1 - A1*B1*C0 + A0*B0*C0 )\n",
    "\n",
    "InfSDP.set_objective(objective=objective)  # By default it maximizes\n",
    "\n",
    "InfSDP.solve(interpreter=\"MOSEKFusion\")\n",
    "\n",
    "print(InfSDP.primal_objective)\n"
   ]
  },
  {
   "cell_type": "markdown",
   "metadata": {},
   "source": [
    "#### The distance to a particular distribution\n",
    "\n",
    "TODO: break the code and introduce the problem"
   ]
  },
  {
   "cell_type": "code",
   "execution_count": null,
   "metadata": {},
   "outputs": [],
   "source": [
    "from causalinflation.useful_distributions import P_W_array\n"
   ]
  },
  {
   "cell_type": "code",
   "execution_count": null,
   "metadata": {},
   "outputs": [
    {
     "name": "stdout",
     "output_type": "stream",
     "text": [
      "0.33333333121984077\n"
     ]
    }
   ],
   "source": [
    "outcomes_per_party = [2, 2, 2]\n",
    "settings_per_party = [1, 1, 1]\n",
    "InfProb = InflationProblem( dag={\"h1\": [\"v1\", \"v2\"],\n",
    "                                 \"h2\": [\"v1\", \"v3\"],\n",
    "                                 \"h3\": [\"v2\", \"v3\"]},\n",
    "                            outcomes_per_party=outcomes_per_party,\n",
    "                            settings_per_party=settings_per_party,\n",
    "                            inflation_level_per_source=[2, 2, 2],\n",
    "                            names=['A', 'B', 'C'] )\n",
    "\n",
    "InfSDP = InflationSDP(InfProb, commuting=False, verbose = 0)\n",
    "InfSDP.generate_relaxation(column_specification='local1',)\n",
    "\n",
    "p_W = P_W_array(visibility=1.0)\n",
    "\n",
    "measurements = InfSDP.measurements  # This reads as measurements[party][inflation_source][setting][outcome]. TODO remove \"inflation_source\" as the user doesnt care\n",
    "\n",
    "sum_abc_pW_squared = np.multiply(p_W,p_W).sum()\n",
    "\n",
    "sum_abc_p_obs_times_p_W = 0\n",
    "sum_abc_p_obs_squared = 0\n",
    "\n",
    "for a, b, c in itertools.product(*[range(o) for o in outcomes_per_party]):\n",
    "    # < A_11 * A_22 * B_11 * B_22 * C_11 * C_22 >\n",
    "    p_obs_squared = 1\n",
    "    p_obs_squared *= measurements[0][0][0][a] * measurements[0][3][0][a] if a==0 else (1-measurements[0][0][0][0]) * (1-measurements[0][3][0][0])\n",
    "    p_obs_squared *= measurements[1][0][0][b] * measurements[1][3][0][b] if b==0 else (1-measurements[1][0][0][0]) * (1-measurements[1][3][0][0])\n",
    "    p_obs_squared *= measurements[2][0][0][c] * measurements[2][3][0][c] if c==0 else (1-measurements[2][0][0][0]) * (1-measurements[2][3][0][0])\n",
    "\n",
    "    sum_abc_p_obs_squared += p_obs_squared\n",
    "\n",
    "    # p_W(a,b,c) * < A_11 * B_11 * C_11 >\n",
    "    p_obs_times_p_W = p_W[a, b, c, 0, 0, 0]\n",
    "    p_obs_times_p_W *= measurements[0][0][0][0] if a==0 else (1-measurements[0][0][0][0])\n",
    "    p_obs_times_p_W *= measurements[1][0][0][0] if b==0 else (1-measurements[1][0][0][0])\n",
    "    p_obs_times_p_W *= measurements[2][0][0][0] if c==0 else (1-measurements[2][0][0][0])\n",
    "\n",
    "    sum_abc_p_obs_times_p_W += p_obs_times_p_W\n",
    "\n",
    "\n",
    "objective = sum_abc_pW_squared + sum_abc_p_obs_squared - 2 * sum_abc_p_obs_times_p_W\n",
    "objective = sp.expand(objective)\n",
    "\n",
    "InfSDP.set_objective(objective=objective, direction='min')  # By default it maximizes\n",
    "InfSDP.solve(interpreter=\"MOSEKFusion\")\n",
    "\n",
    "print(InfSDP.primal_objective)"
   ]
  },
  {
   "cell_type": "markdown",
   "metadata": {},
   "source": [
    "## Appendix: How to customize the generating set\n",
    "\n",
    "In this tutorial we will showcase how to customize the generating set of monomials.\n",
    "\n",
    "We can use the built-in functions to construct a generating set according to several hierarchies. To showcase this, let us first look at a simple scenario of only two parties, Alice and Bob, sharing a quantum state."
   ]
  },
  {
   "cell_type": "code",
   "execution_count": null,
   "metadata": {},
   "outputs": [],
   "source": [
    "InfProb = InflationProblem(dag= {\"h1\": [\"v1\", \"v2\"]},\n",
    "                           outcomes_per_party=[2, 2],\n",
    "                           settings_per_party=[2, 2],\n",
    "                           inflation_level_per_source=[1])\n",
    "InfSDP = InflationSDP(InfProb, commuting=False, verbose=0)"
   ]
  },
  {
   "cell_type": "markdown",
   "metadata": {},
   "source": [
    "These are all the measurement operators:"
   ]
  },
  {
   "cell_type": "code",
   "execution_count": null,
   "metadata": {},
   "outputs": [
    {
     "data": {
      "text/plain": [
       "[[[[A_1_0_0], [A_1_1_0]]], [[[B_1_0_0], [B_1_1_0]]]]"
      ]
     },
     "execution_count": 24,
     "metadata": {},
     "output_type": "execute_result"
    }
   ],
   "source": [
    "meas = InfSDP.measurements\n",
    "meas"
   ]
  },
  {
   "cell_type": "markdown",
   "metadata": {},
   "source": [
    "As a reminder, the indices are interpreted as follows: the last two give the measurement setting and measurement output, and the rest represent on which copy of the source the operator is acting. For example, `A_1_1_0` represents the projection onto copy 1 of source 1 with measurement setting $x=1$ and measurement outcome $a=0$.\n",
    "\n",
    "Now let us look at a few examples of hierarchies. The first is the NPA levels"
   ]
  },
  {
   "cell_type": "code",
   "execution_count": null,
   "metadata": {},
   "outputs": [
    {
     "name": "stdout",
     "output_type": "stream",
     "text": [
      "[1, A_1_0_0, A_1_1_0, B_1_0_0, B_1_1_0, A_1_0_0*B_1_0_0, A_1_0_0*B_1_1_0, A_1_1_0*B_1_0_0, A_1_1_0*B_1_1_0]\n"
     ]
    }
   ],
   "source": [
    "InfSDP.build_columns(column_specification='local1')\n",
    "print(InfSDP.generating_monomials_sym)"
   ]
  }
 ],
 "metadata": {
  "interpreter": {
   "hash": "5c2f8743b7bffe768e49b7326944f1db750a54ae5a22907e70233feb4ab21afd"
  },
  "kernelspec": {
   "display_name": "Python 3.8.5 ('base')",
   "language": "python",
   "name": "python3"
  },
  "language_info": {
   "codemirror_mode": {
    "name": "ipython",
    "version": 3
   },
   "file_extension": ".py",
   "mimetype": "text/x-python",
   "name": "python",
   "nbconvert_exporter": "python",
   "pygments_lexer": "ipython3",
   "version": "3.8.5"
  },
  "orig_nbformat": 4
 },
 "nbformat": 4,
 "nbformat_minor": 2
}

{
 "cells": [
  {
   "cell_type": "code",
   "execution_count": 207,
   "metadata": {},
   "outputs": [],
   "source": [
    "import os\n",
    "import sys\n",
    "# Locate the script in UnifiedInflation/examples and add to path one folder before, that is, UnifiedInflation/\n",
    "# in order to be able to import quantuminflation\n",
    "# ! Note: I found online that \"__file__\" sometimes can be problematic, So I'm using the solution provided in\n",
    "# https://stackoverflow.com/questions/2632199/how-do-i-get-the-path-of-the-current-executed-file-in-python?lq=1\n",
    "from inspect import getsourcefile\n",
    "from os.path import abspath\n",
    "from tabnanny import verbose\n",
    "\n",
    "#cws = abspath(getsourcefile(lambda:0))\n",
    "cws = os.getcwd()\n",
    "cws = os.sep.join(cws.split(os.sep)[:-1])  # Remove the script filename to get the directory of the script\n",
    "cws = cws + os.sep + os.pardir  # Go one folder above UnifiedInflation/examples -> UnifiedInflation/\n",
    "sys.path.append(cws)\n",
    "###############################################################################\n",
    "\n",
    "import itertools\n",
    "import pickle\n",
    "\n",
    "import numpy as np\n",
    "from quantuminflation.InflationProblem import InflationProblem\n",
    "from quantuminflation.InflationSDP import InflationSDP\n",
    "from quantuminflation.useful_distributions import *\n",
    "from quantuminflation.general_tools import to_numbers\n",
    "\n",
    "from quantuminflation.fast_npa import calculate_momentmatrix\n",
    "import itertools\n",
    "\n",
    "from ncpol2sdpa.nc_utils import apply_substitutions\n",
    "import sympy as sp"
   ]
  },
  {
   "cell_type": "markdown",
   "metadata": {},
   "source": [
    "# Testing\n",
    "\n",
    "Check if $U_{0|0}$, $U_{0|1}$ and $V$ are valid NBF over AQ. We'll try to find the maximum and minimum over AQ.\n",
    "\n",
    "First $U_{0|0}$, $U_{0|1}$\n",
    "\n",
    "!! After checking the first time, we renormalize to machine precision."
   ]
  },
  {
   "cell_type": "markdown",
   "metadata": {},
   "source": [
    "Now lets check $V$"
   ]
  },
  {
   "cell_type": "markdown",
   "metadata": {},
   "source": [
    "## Check CHSH with the SDP"
   ]
  },
  {
   "cell_type": "code",
   "execution_count": 213,
   "metadata": {},
   "outputs": [
    {
     "name": "stderr",
     "output_type": "stream",
     "text": [
      "Calculating moment matrix    : 100%|██████████| 9/9 [00:00<00:00, 4503.01it/s]\n",
      "Writing momentmatrix to file : 100%|██████████| 9/9 [00:00<00:00, 9002.80it/s]\n",
      "Writing monomials to file    : 100%|██████████| 16/16 [00:00<?, ?it/s]\n",
      "Factorizing monomials        : 100%|██████████| 16/16 [00:00<00:00, 7999.63it/s]\n",
      "Reassigning monomial variables: 100%|██████████| 16/16 [00:00<?, ?it/s]\n",
      "Reassigning moment matrix indices: 100%|██████████| 9/9 [00:00<?, ?it/s]"
     ]
    },
    {
     "name": "stdout",
     "output_type": "stream",
     "text": [
      "2 - 4*A_1_0_0 + 4*A_1_0_0*B_1_0_0 + 4*A_1_0_0*B_1_1_0 + 4*A_1_1_0*B_1_0_0 - 4*A_1_1_0*B_1_1_0 - 4*B_1_0_0\n",
      "minimum over AQ of CHSH 2.8284271790023405\n"
     ]
    },
    {
     "name": "stderr",
     "output_type": "stream",
     "text": [
      "\n"
     ]
    }
   ],
   "source": [
    "InfProb = InflationProblem(hypergraph=[[1, 1]], outcomes_per_party=[2,2], settings_per_party=[2,2], inflation_level_per_source=[1],names=['A', 'B'])\n",
    "InfSDP = InflationSDP(InfProb, commuting=False, verbose=0)\n",
    "InfSDP.generate_relaxation( column_specification='local1',\n",
    "                            max_monomial_length=False,\n",
    "                            find_physical_monomials=False,\n",
    "                            use_linear_constraints=False,\n",
    "                            sandwich_positivity=False,\n",
    "                            load_from_file=False,\n",
    "                            filename_label=filename_label)\n",
    "meas = InfSDP.measurements\n",
    "A0, A1, B0, B1 = 1-2*meas[0][0][0][0], 1-2*meas[0][0][1][0], 1-2*meas[1][0][0][0], 1-2*meas[1][0][1][0]\n",
    "obj =  A0*B0+A0*B1+A1*B0-A1*B1\n",
    "obj = sp.expand(obj)\n",
    "print(obj)\n",
    "InfSDP.set_objective(objective=+obj)\n",
    "InfSDP.solve(interpreter='CVXPY')  # By default it maximizes\n",
    "print(\"minimum over AQ of CHSH\", InfSDP.primal_objective)"
   ]
  }
 ],
 "metadata": {
  "interpreter": {
   "hash": "8ca5f4b8f3343db6edb86a1d0a5bc165075f77ad762f9b1b6ace696555900136"
  },
  "kernelspec": {
   "display_name": "Python 3.9.7 ('base')",
   "language": "python",
   "name": "python3"
  },
  "language_info": {
   "codemirror_mode": {
    "name": "ipython",
    "version": 3
   },
   "file_extension": ".py",
   "mimetype": "text/x-python",
   "name": "python",
   "nbconvert_exporter": "python",
   "pygments_lexer": "ipython3",
   "version": "3.9.7"
  }
 },
 "nbformat": 4,
 "nbformat_minor": 2
}

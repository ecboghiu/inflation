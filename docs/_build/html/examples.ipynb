{
 "cells": [
  {
   "cell_type": "markdown",
   "metadata": {},
   "source": [
    "# Examples and features\n",
    "\n",
    "Here we will showcase different types of problems that the package can solve. The examples can also be downloaded as a Jupyter notebook from the [GitHub repository](https://github.com/ecboghiu/inflation).\n",
    "\n",
    "We begin by importing the functions that we will need:"
   ]
  },
  {
   "cell_type": "code",
   "execution_count": 1,
   "metadata": {},
   "outputs": [],
   "source": [
    "from causalinflation import InflationProblem, InflationSDP\n",
    "from examples_utils import bisection, P_W_array, P_2PR_array, P_PRbox_array"
   ]
  },
  {
   "cell_type": "markdown",
   "metadata": {},
   "source": [
    "## Feasibility problems and extraction of certificates\n",
    "\n",
    "### Example 1: Infeasibility of the W distribution in the quantum triangle scenario \n",
    "\n",
    "Consider determining if the following distribution, the so-called \"W distribution\" (due to its similarity to the [W state](https://journals.aps.org/pra/abstract/10.1103/PhysRevA.62.062314)), is compatible with the triangle scenario:\n",
    "\n",
    "$$ P_{A B C}=\\frac{[100]+[010]+[001]}{3}, \\quad \\text {i.e.,} \\quad P_{A B C}(a b c)= \\begin{cases}\\frac{1}{3} & \\text { if } a+b+c=1, \\\\ 0 & \\text { otherwise. }\\end{cases} $$\n",
    "\n",
    "It is known that it is [incompatible with the classical triangle scenario](https://www.degruyter.com/document/doi/10.1515/jci-2017-0020/html), however with quantum inflation, once can also show that it is incompatible with the quantum triangle scenario, depicted in the following figure:\n",
    "\n",
    "<center> <img src=\"./figures/quantum_triangle.PNG\" alt=\"drawing\" width=\"250\"/> </center>\n",
    "\n",
    "To show this, we can generate the semidefinite relaxation of NPA level 2 corresponding to a second order quantum inflation:"
   ]
  },
  {
   "cell_type": "code",
   "execution_count": 2,
   "metadata": {},
   "outputs": [],
   "source": [
    "qtriangle = InflationProblem(dag={\"rho_AB\": [\"A\", \"B\"],\n",
    "                                  \"rho_BC\": [\"B\", \"C\"],\n",
    "                                  \"rho_AC\": [\"A\", \"C\"]}, \n",
    "                             outcomes_per_party=[2, 2, 2],\n",
    "                             settings_per_party=[1, 1, 1],\n",
    "                             inflation_level_per_source=[2, 2, 2])\n",
    "sdprelax = InflationSDP(qtriangle)\n",
    "sdprelax.generate_relaxation('npa2')"
   ]
  },
  {
   "cell_type": "markdown",
   "metadata": {},
   "source": [
    "With the `set_distribution` method we set the entries of the moment matrix that depend on the probability distribution, and we attempt to solve the program with the `solve()` method:"
   ]
  },
  {
   "cell_type": "code",
   "execution_count": 3,
   "metadata": {},
   "outputs": [
    {
     "data": {
      "text/plain": [
       "'infeasible'"
      ]
     },
     "execution_count": 3,
     "metadata": {},
     "output_type": "execute_result"
    }
   ],
   "source": [
    "sdprelax.set_distribution(P_W_array)\n",
    "sdprelax.solve()\n",
    "sdprelax.status"
   ]
  },
  {
   "cell_type": "markdown",
   "metadata": {},
   "source": [
    "The problem status is reported as infeasible, therefore this serves as a proof that the W distribution is incompatible with the quantum triangle scenario. \n",
    "\n",
    "#### Certificate extraction\n",
    "\n",
    "We can furthermore recover a certificate of infeasibility as a polynomial inequality in the probabilities, $\\text{Poly}(p(abc|xyz) \\geq 0$ . This means that any other correlations vector $p'(abc|xyz)$ that also satisfies the inequality, $\\text{Poly}(p'(abc|xyz) \\geq 0$, is guaranteed to lead to an infeasible SDP. There are built-in methods to extract the symbolic form of $\\text{Poly}(p(abc|xyz))$:"
   ]
  },
  {
   "cell_type": "code",
   "execution_count": 4,
   "metadata": {},
   "outputs": [
    {
     "data": {
      "text/latex": [
       "$\\displaystyle 0.46 p(000|000) p_{A}(0|0) + 0.456 p(000|000) p_{B}(0|0) + 0.457 p(000|000) p_{C}(0|0) + 0.616 p(000|000) + 0.232 p_{AB}(00|00)^{2} + 0.103 p_{AB}(00|00) p_{AC}(00|00) + 0.046 p_{AB}(00|00) p_{A}(0|0) + 0.096 p_{AB}(00|00) p_{BC}(00|00) + 0.041 p_{AB}(00|00) p_{B}(0|0) - 0.365 p_{AB}(00|00) p_{C}(0|0) + 0.131 p_{AB}(00|00) + 0.231 p_{AC}(00|00)^{2} + 0.046 p_{AC}(00|00) p_{A}(0|0) + 0.095 p_{AC}(00|00) p_{BC}(00|00) - 0.363 p_{AC}(00|00) p_{B}(0|0) + 0.045 p_{AC}(00|00) p_{C}(0|0) + 0.13 p_{AC}(00|00) - 0.454 p_{A}(0|0)^{2} - 0.365 p_{A}(0|0) p_{BC}(00|00) + 1.0 p_{A}(0|0) p_{B}(0|0) p_{C}(0|0) - 0.732 p_{A}(0|0) p_{B}(0|0) - 0.731 p_{A}(0|0) p_{C}(0|0) + 0.371 p_{A}(0|0) + 0.228 p_{BC}(00|00)^{2} + 0.042 p_{BC}(00|00) p_{B}(0|0) + 0.044 p_{BC}(00|00) p_{C}(0|0) + 0.129 p_{BC}(00|00) - 0.443 p_{B}(0|0)^{2} - 0.726 p_{B}(0|0) p_{C}(0|0) + 0.365 p_{B}(0|0) - 0.446 p_{C}(0|0)^{2} + 0.369 p_{C}(0|0) + 0.481$"
      ],
      "text/plain": [
       "0.46*p(000|000)*p_{A}(0|0) + 0.456*p(000|000)*p_{B}(0|0) + 0.457*p(000|000)*p_{C}(0|0) + 0.616*p(000|000) + 0.232*p_{AB}(00|00)**2 + 0.103*p_{AB}(00|00)*p_{AC}(00|00) + 0.046*p_{AB}(00|00)*p_{A}(0|0) + 0.096*p_{AB}(00|00)*p_{BC}(00|00) + 0.041*p_{AB}(00|00)*p_{B}(0|0) - 0.365*p_{AB}(00|00)*p_{C}(0|0) + 0.131*p_{AB}(00|00) + 0.231*p_{AC}(00|00)**2 + 0.046*p_{AC}(00|00)*p_{A}(0|0) + 0.095*p_{AC}(00|00)*p_{BC}(00|00) - 0.363*p_{AC}(00|00)*p_{B}(0|0) + 0.045*p_{AC}(00|00)*p_{C}(0|0) + 0.13*p_{AC}(00|00) - 0.454*p_{A}(0|0)**2 - 0.365*p_{A}(0|0)*p_{BC}(00|00) + 1.0*p_{A}(0|0)*p_{B}(0|0)*p_{C}(0|0) - 0.732*p_{A}(0|0)*p_{B}(0|0) - 0.731*p_{A}(0|0)*p_{C}(0|0) + 0.371*p_{A}(0|0) + 0.228*p_{BC}(00|00)**2 + 0.042*p_{BC}(00|00)*p_{B}(0|0) + 0.044*p_{BC}(00|00)*p_{C}(0|0) + 0.129*p_{BC}(00|00) - 0.443*p_{B}(0|0)**2 - 0.726*p_{B}(0|0)*p_{C}(0|0) + 0.365*p_{B}(0|0) - 0.446*p_{C}(0|0)**2 + 0.369*p_{C}(0|0) + 0.481"
      ]
     },
     "execution_count": 4,
     "metadata": {},
     "output_type": "execute_result"
    }
   ],
   "source": [
    "sdprelax.certificate_as_probs(clean=True)"
   ]
  },
  {
   "cell_type": "markdown",
   "metadata": {},
   "source": [
    "In the above, lower indices indicate marginals. For example, $p_{AC}(ac|xz) := \\sum_b p(abc|xyz)$. Note that due to no-signaling, in this example the marginal is independent of the setting $y$.\n",
    "\n",
    " Finally, given that we only have two outcomes, we can also express the certificate in \"correlator form\", where the correlators are defined as \n",
    " \n",
    " $$\\left\\langle A_{x} \\right\\rangle =\\sum_{a\\in \\{0,1\\}} (-1)^{a} \\, p_{A}(a|x)$$ \n",
    " $$\\left\\langle A_{x} B_{y} \\right\\rangle =\\sum_{a, b \\in \\{0,1\\}} (-1)^{a+b} \\, p_{AB}(ab|xy)$$\n",
    " $$\\left\\langle A_{x} B_{y} C_{z}\\right\\rangle =\\sum_{a, b, c \\in \\{0,1\\}} (-1)^{a+b+c} \\, p(abc|xyz)$$ \n",
    " \n",
    " where the omitted 2-body and 1-body correlators have similar definitions:"
   ]
  },
  {
   "cell_type": "code",
   "execution_count": 5,
   "metadata": {},
   "outputs": [
    {
     "data": {
      "text/latex": [
       "$\\displaystyle 0.02875 \\langle A_{0} B_{0} C_{0} \\rangle \\langle A_{0} \\rangle + 0.0285 \\langle A_{0} B_{0} C_{0} \\rangle \\langle B_{0} \\rangle + 0.0285625 \\langle A_{0} B_{0} C_{0} \\rangle \\langle C_{0} \\rangle - 0.1628125 \\langle A_{0} B_{0} C_{0} \\rangle + 0.0145 \\langle A_{0} B_{0} \\rangle^{2} + 0.0064375 \\langle A_{0} B_{0} \\rangle \\langle A_{0} C_{0} \\rangle - 0.0699375 \\langle A_{0} B_{0} \\rangle \\langle A_{0} \\rangle + 0.006 \\langle A_{0} B_{0} \\rangle \\langle B_{0} C_{0} \\rangle - 0.068625 \\langle A_{0} B_{0} \\rangle \\langle B_{0} \\rangle + 0.004625 \\langle A_{0} B_{0} \\rangle \\langle C_{0} \\rangle + 0.20225 \\langle A_{0} B_{0} \\rangle + 0.0144375 \\langle A_{0} C_{0} \\rangle^{2} - 0.0698125 \\langle A_{0} C_{0} \\rangle \\langle A_{0} \\rangle + 0.0059375 \\langle A_{0} C_{0} \\rangle \\langle B_{0} C_{0} \\rangle + 0.0045 \\langle A_{0} C_{0} \\rangle \\langle B_{0} \\rangle - 0.069 \\langle A_{0} C_{0} \\rangle \\langle C_{0} \\rangle + 0.2025625 \\langle A_{0} C_{0} \\rangle - 0.037875 \\langle A_{0} \\rangle^{2} + 0.0049375 \\langle A_{0} \\rangle \\langle B_{0} C_{0} \\rangle - 0.125 \\langle A_{0} \\rangle \\langle B_{0} \\rangle \\langle C_{0} \\rangle - 0.0335 \\langle A_{0} \\rangle \\langle B_{0} \\rangle - 0.0330625 \\langle A_{0} \\rangle \\langle C_{0} \\rangle + 0.0456249999999999 \\langle A_{0} \\rangle + 0.01425 \\langle B_{0} C_{0} \\rangle^{2} - 0.06825 \\langle B_{0} C_{0} \\rangle \\langle B_{0} \\rangle - 0.0685 \\langle B_{0} C_{0} \\rangle \\langle C_{0} \\rangle + 0.200625 \\langle B_{0} C_{0} \\rangle - 0.037125 \\langle B_{0} \\rangle^{2} - 0.0328125 \\langle B_{0} \\rangle \\langle C_{0} \\rangle + 0.0449374999999999 \\langle B_{0} \\rangle - 0.0371875 \\langle C_{0} \\rangle^{2} + 0.0433124999999999 \\langle C_{0} \\rangle + 0.493750000000001$"
      ],
      "text/plain": [
       "0.02875*\\langle A_{0} B_{0} C_{0} \\rangle*\\langle A_{0} \\rangle + 0.0285*\\langle A_{0} B_{0} C_{0} \\rangle*\\langle B_{0} \\rangle + 0.0285625*\\langle A_{0} B_{0} C_{0} \\rangle*\\langle C_{0} \\rangle - 0.1628125*\\langle A_{0} B_{0} C_{0} \\rangle + 0.0145*\\langle A_{0} B_{0} \\rangle**2 + 0.0064375*\\langle A_{0} B_{0} \\rangle*\\langle A_{0} C_{0} \\rangle - 0.0699375*\\langle A_{0} B_{0} \\rangle*\\langle A_{0} \\rangle + 0.006*\\langle A_{0} B_{0} \\rangle*\\langle B_{0} C_{0} \\rangle - 0.068625*\\langle A_{0} B_{0} \\rangle*\\langle B_{0} \\rangle + 0.004625*\\langle A_{0} B_{0} \\rangle*\\langle C_{0} \\rangle + 0.20225*\\langle A_{0} B_{0} \\rangle + 0.0144375*\\langle A_{0} C_{0} \\rangle**2 - 0.0698125*\\langle A_{0} C_{0} \\rangle*\\langle A_{0} \\rangle + 0.0059375*\\langle A_{0} C_{0} \\rangle*\\langle B_{0} C_{0} \\rangle + 0.0045*\\langle A_{0} C_{0} \\rangle*\\langle B_{0} \\rangle - 0.069*\\langle A_{0} C_{0} \\rangle*\\langle C_{0} \\rangle + 0.2025625*\\langle A_{0} C_{0} \\rangle - 0.037875*\\langle A_{0} \\rangle**2 + 0.0049375*\\langle A_{0} \\rangle*\\langle B_{0} C_{0} \\rangle - 0.125*\\langle A_{0} \\rangle*\\langle B_{0} \\rangle*\\langle C_{0} \\rangle - 0.0335*\\langle A_{0} \\rangle*\\langle B_{0} \\rangle - 0.0330625*\\langle A_{0} \\rangle*\\langle C_{0} \\rangle + 0.0456249999999999*\\langle A_{0} \\rangle + 0.01425*\\langle B_{0} C_{0} \\rangle**2 - 0.06825*\\langle B_{0} C_{0} \\rangle*\\langle B_{0} \\rangle - 0.0685*\\langle B_{0} C_{0} \\rangle*\\langle C_{0} \\rangle + 0.200625*\\langle B_{0} C_{0} \\rangle - 0.037125*\\langle B_{0} \\rangle**2 - 0.0328125*\\langle B_{0} \\rangle*\\langle C_{0} \\rangle + 0.0449374999999999*\\langle B_{0} \\rangle - 0.0371875*\\langle C_{0} \\rangle**2 + 0.0433124999999999*\\langle C_{0} \\rangle + 0.493750000000001"
      ]
     },
     "execution_count": 5,
     "metadata": {},
     "output_type": "execute_result"
    }
   ],
   "source": [
    "sdprelax.certificate_as_correlators(clean=True)"
   ]
  },
  {
   "cell_type": "markdown",
   "metadata": {},
   "source": [
    "### Example 2: Critical visibility of the 2PR distribution in the quantum tripartite-line scenario\n",
    "\n",
    "It is known that the 2PR distribution, defined as:\n",
    "\n",
    "$$ P_{\\text{2PR}}(abc|xyz) := \\frac{1+ (-1)^{a+b+c+xy+yz}}{8} $$\n",
    "\n",
    "is incompatible with the tripartite-line scenario (also called \"quantum bilocal scenario\"), whose DAG is depicted in the following figure:\n",
    "\n",
    "<center> <img src=\"./figures/bilocal_1.PNG\" alt=\"drawing\" width=\"400\"/> </center>\n",
    "\n",
    "This can be shown by running a feasibility program, as in Example 1. We might also be interested in studying how much noise this distribution can tolerate before the relaxation no longer identifies the distribution as incompatible. One simple model of noise is that of a probabilistic mixture with the uniform distribution:\n",
    "\n",
    "$$ P_{\\text{2PR,v}} := v P_{\\text{2PR}}  + (1-v)/8 $$\n",
    "\n",
    "A simple approach would be to vary the parameter $v$ from $v{=}1$ to $v{=}0$ and find the $v_{\\text{crit}}$ for which the problem status changes from infeasible to feasible. However, there is a more robust method available.\n",
    "\n",
    "#### Feasibility as an optimisation\n",
    "\n",
    "A more numerically robust approach is to convert feasibility problems to optimisation problems. Instead of imposing that the moment matrix $\\Gamma$ of the SDP relaxation is posivite semidefinite, we can maximize the minimum eigenvalue of $\\Gamma$ and check its sign. Clearly, if the result of the optimisation is negative, then one cannot find a matrix $\\Gamma$ that is positive semidefinite, thus the original program is infeasible. \n",
    "\n",
    "By setting the flag `feas_as_optim` to `True` in the `InflationSDP.solve()` method, feasibility problems are converted to optimisation problems. The result is stored in `InflationSDP.objective_value`. \n",
    "\n",
    "We encode the inflation scenario and generate the relaxation corresponding to NPA level 2:"
   ]
  },
  {
   "cell_type": "code",
   "execution_count": 6,
   "metadata": {},
   "outputs": [],
   "source": [
    "qbilocal = InflationProblem(dag={\"rho_AB\": [\"A\", \"B\"],\n",
    "                                 \"rho_BC\": [\"B\", \"C\"]},\n",
    "                            outcomes_per_party=[2, 2, 2],\n",
    "                            settings_per_party=[2, 2, 2],\n",
    "                            inflation_level_per_source=[2, 2])\n",
    "qbilocal_relax = InflationSDP(qbilocal)\n",
    "qbilocal_relax.generate_relaxation('npa2')"
   ]
  },
  {
   "cell_type": "markdown",
   "metadata": {},
   "source": [
    "And next we run a simple bisection to find the $v_{\\text{crit}}$ for which the maximum minimum eigenvalue is 0. The bisection is implemented in an auxiliary file:"
   ]
  },
  {
   "cell_type": "code",
   "execution_count": 7,
   "metadata": {},
   "outputs": [
    {
     "data": {
      "text/plain": [
       "0.500030517578125"
      ]
     },
     "execution_count": 7,
     "metadata": {},
     "output_type": "execute_result"
    }
   ],
   "source": [
    "sdp, v_crit = bisection(qbilocal_relax, P_2PR_array)\n",
    "v_crit"
   ]
  },
  {
   "cell_type": "markdown",
   "metadata": {},
   "source": [
    "We correctly recover the known critical visibility of the 2PR distribution in the quantum tripartite-line scenario, namely $v>\\frac{1}{2}$."
   ]
  },
  {
   "cell_type": "markdown",
   "metadata": {},
   "source": [
    "## Optimization of Bell operators\n",
    "\n",
    "One can use inflation techniques to not only run causal compatibility problems, but also to optimize over the generated relaxation, and therefore get upper bounds on the values of various Bell operators."
   ]
  },
  {
   "cell_type": "markdown",
   "metadata": {},
   "source": [
    "### Example 3. Upper bounds on Mermin's inequality\n",
    "\n",
    "Let us consider Mermin's inequality, written in the correlator form introduced in Example 1:\n",
    "\n",
    "$$ \\text{Mermin} = \\langle A_1 B_0 C_0 \\rangle +  \\langle A_0 B_1 C_0 \\rangle +  \\langle A_0 B_0 C_1 \\rangle -  \\langle A_1 B_1 C_1 \\rangle $$\n",
    "\n",
    "It is known that the algebraic maximum of 4 is achieved in the tripartite scenario both with global shared randomness and also global non-signaling sources. However, one can see a difference between quantum and general no-signaling sources when restricting to the triangle scenario from Example 1.\n",
    "\n",
    "First we generate the relaxation corresponding to a second order inflation of the triangle of NPA level 2: "
   ]
  },
  {
   "cell_type": "code",
   "execution_count": 8,
   "metadata": {},
   "outputs": [],
   "source": [
    "qtriangle = InflationProblem(dag={\"rho_AB\": [\"A\", \"B\"],\n",
    "                                  \"rho_BC\": [\"B\", \"C\"],\n",
    "                                  \"rho_AC\": [\"A\", \"C\"]}, \n",
    "                             outcomes_per_party=[2, 2, 2],\n",
    "                             settings_per_party=[2, 2, 2],\n",
    "                             inflation_level_per_source=[2, 2, 2])\n",
    "sdprelax = InflationSDP(qtriangle)\n",
    "sdprelax.generate_relaxation('npa2')"
   ]
  },
  {
   "cell_type": "markdown",
   "metadata": {},
   "source": [
    "We implement the objective function after extracting the measurement operators and solve the program:"
   ]
  },
  {
   "cell_type": "code",
   "execution_count": 9,
   "metadata": {},
   "outputs": [
    {
     "data": {
      "text/plain": [
       "3.999999995695141"
      ]
     },
     "execution_count": 9,
     "metadata": {},
     "output_type": "execute_result"
    }
   ],
   "source": [
    "mmnts = sdprelax.measurements\n",
    "A0, B0, C0, A1, B1, C1 = (1-2*mmnts[party][0][setting][0] for setting in range(2) for party in range(3))\n",
    "\n",
    "sdprelax.set_objective(objective = A1*B0*C0 + A0*B1*C0 + A0*B0*C1 - A1*B1*C1)\n",
    "sdprelax.solve()\n",
    "\n",
    "sdprelax.objective_value"
   ]
  },
  {
   "cell_type": "markdown",
   "metadata": {},
   "source": [
    "Notice that we get a value that is within numerical precision the algebraic maximum of 4. To improve on this result, we will need to do a tighter SDP relaxation.\n",
    "\n",
    "#### Customising the generating set for the semidefinite relaxation\n",
    "\n",
    "To get a tighter SDP relaxation, we will add more monomoials to the generating set. Namely, we will use the union of the monomoials corresponding to NPA level 2 and local level 1.\n",
    "\n",
    "The so-called \"local levels\" are a different choice of generating set for the moment matrix. Whereas NPA level $n$ is the $n$-times cartesian product (without duplicated elements) of the set of measurements of the parties together with the identity, local level $n$ refers to a generating set with all the products up to $n$ operators per party. For more details, see [Physical Review X 11.2 (2021): 021043](https://journals.aps.org/prx/abstract/10.1103/PhysRevX.11.021043).\n",
    "\n",
    "In what follows, we use the built-in method `build_columns` to generate the columns corresponding to NPA level 2 and local level 1. Then we do a union, generate the relaxation and again, solve the program. As it will now take a bit longer, we increase the verbosity level to see the progress: "
   ]
  },
  {
   "cell_type": "code",
   "execution_count": 10,
   "metadata": {},
   "outputs": [],
   "source": [
    "npa2   = sdprelax.build_columns('npa2')\n",
    "local1 = sdprelax.build_columns('local1')\n",
    "\n",
    "generatingset = npa2\n",
    "for mon in local1:\n",
    "     if mon not in generatingset:\n",
    "         generatingset.append(mon)\n",
    "\n",
    "sdprelax.generate_relaxation(generatingset)\n",
    "sdprelax.set_objective(objective = A1*B0*C0 + A0*B1*C0 + A0*B0*C1 - A1*B1*C1)\n",
    "\n",
    "sdprelax.verbose = 1\n",
    "# sdprelax.solve()\n",
    "# sdprelax.objective_value"
   ]
  },
  {
   "cell_type": "markdown",
   "metadata": {},
   "source": [
    "After running the above, we can certify then that the Mermin inequality cannot have a value larger than $3.085$ for the quantum triangle causal scenario. "
   ]
  },
  {
   "cell_type": "markdown",
   "metadata": {},
   "source": [
    "## Optimisation over classical distributions and feasibility problems \n",
    "\n",
    "With quantum inflation, we can also optimize over a relaxation of the set of distributions compatible with a classical DAG. This works by imposing at the level of the SDP relaxation the constraint that all operators defining the moments commute. The effect of this constraint is that previously different variables in the moment matrix become identical. For example, $\\langle A_{x} A_{x'} \\rangle \\neq \\langle A_{x'} A_{x} \\rangle$ in general in quantum mechanics, but if we assume all operators commute, then they become equal. \n",
    "\n",
    "To enable this feauture one simply adds the flag `commuting=True` when instantiating the `InflationSDP` object. "
   ]
  },
  {
   "cell_type": "markdown",
   "metadata": {},
   "source": [
    "### Example 4: Critical visibility of the 2PR distribution in the *classical* tripartite-line scenario\n",
    "\n",
    "As an example, we find the critical visibility of the $P_{\\text{2PR}}$ distribution from Example 2, but in the classical tripartite line scenario with a second order inflation, and with the local level 1 generating set for the SDP relaxation:"
   ]
  },
  {
   "cell_type": "code",
   "execution_count": 11,
   "metadata": {},
   "outputs": [
    {
     "data": {
      "text/plain": [
       "0.353546142578125"
      ]
     },
     "execution_count": 11,
     "metadata": {},
     "output_type": "execute_result"
    }
   ],
   "source": [
    "qbilocal = InflationProblem(dag={\"rho_AB\": [\"A\", \"B\"], \"rho_BC\": [\"B\", \"C\"]},\n",
    "                            outcomes_per_party=[2, 2, 2],\n",
    "                            settings_per_party=[2, 2, 2],\n",
    "                            inflation_level_per_source=[2, 2])\n",
    "qbilocal_relax = InflationSDP(qbilocal, commuting=True)\n",
    "qbilocal_relax.generate_relaxation('local1')\n",
    "sdp, v_crit = bisection(qbilocal_relax, P_2PR_array, verbose=0)\n",
    "v_crit"
   ]
  },
  {
   "cell_type": "markdown",
   "metadata": {},
   "source": [
    "This relaxation of the set of distributions classically simulable in the tripartite line scenario certifies then the incompatibility of the $P_{\\text{2PR}}$ distribution for $v>0.3536$. This does not completely certify incompatibility down to the known critical threshold of $v_{\\text{crit}}=\\frac{1}{4}$, but we expect tighter relaxations, which are computationally more expensive, might recover this value. \n",
    "\n",
    "For optimisation problems, one can run the exact same program as in Example 3, but with the flag `commuting` set to `True`."
   ]
  },
  {
   "cell_type": "markdown",
   "metadata": {},
   "source": [
    "## Standard NPA\n",
    "\n",
    "If the DAG corresponds to a single global shared source scenario, then doing an inflation does not grant any advantage. In this case, the semidefinite programming relaxation defaults to being the same as the [NPA hierarcy](https://iopscience.iop.org/article/10.1088/1367-2630/10/7/073013). If we set the `commuting` flag to `True` then this is a relaxation of the set of distributions classically with global shared randomness, as introduced in [Phys. Rev. X 7, 021042](https://journals.aps.org/prx/abstract/10.1103/PhysRevX.7.021042). We will show this with two simple examples."
   ]
  },
  {
   "cell_type": "markdown",
   "metadata": {},
   "source": [
    "### Example 5: Critical visibility of the PR box in the standard Bell scenario with quantum sources\n",
    "\n",
    "We recover the critical visibility of $v_{\\text{crit}}=\\frac{1}{\\sqrt{2}}$ for a [Popeschu-Rohrlich box](https://link.springer.com/article/10.1007/BF02058098) in the Bell scenario.  "
   ]
  },
  {
   "cell_type": "code",
   "execution_count": 12,
   "metadata": {},
   "outputs": [
    {
     "name": "stdout",
     "output_type": "stream",
     "text": [
      "Critical visibility:  0.707122802734375\n"
     ]
    },
    {
     "data": {
      "text/latex": [
       "$\\displaystyle - 0.25 \\langle A_{0} B_{0} \\rangle - 0.25 \\langle A_{0} B_{1} \\rangle - 0.25 \\langle A_{1} B_{0} \\rangle + 0.25 \\langle A_{1} B_{1} \\rangle + 0.707$"
      ],
      "text/plain": [
       "-0.25*\\langle A_{0} B_{0} \\rangle - 0.25*\\langle A_{0} B_{1} \\rangle - 0.25*\\langle A_{1} B_{0} \\rangle + 0.25*\\langle A_{1} B_{1} \\rangle + 0.707"
      ]
     },
     "execution_count": 12,
     "metadata": {},
     "output_type": "execute_result"
    }
   ],
   "source": [
    "bellscenario = InflationProblem(dag={\"rho_AB\": [\"A\", \"B\"]},\n",
    "                                outcomes_per_party=[2, 2], \n",
    "                                settings_per_party=[2, 2])\n",
    "bellscenario_relax = InflationSDP(bellscenario)\n",
    "bellscenario_relax.generate_relaxation('npa1')\n",
    "sdp, v_crit = bisection(bellscenario_relax, P_PRbox_array, verbose=0)\n",
    "print(\"Critical visibility: \", v_crit)\n",
    "sdp.certificate_as_correlators(clean=True)"
   ]
  },
  {
   "cell_type": "markdown",
   "metadata": {},
   "source": [
    "Notice that the dual certificate that we extract in correlator form (which has been renormalised and rounded numerically) is the CHSH inequality tangent to the quantum set of correlations."
   ]
  },
  {
   "cell_type": "markdown",
   "metadata": {},
   "source": [
    "### Example 6: Optimising the CHSH inequality in the Bell scenario\n",
    "\n",
    "To find upper bounds on the values for the CHSH Bell operator, recovered in Example 5, we run a similar program to that in Example 2:"
   ]
  },
  {
   "cell_type": "code",
   "execution_count": 13,
   "metadata": {},
   "outputs": [
    {
     "data": {
      "text/plain": [
       "2.8284271751751255"
      ]
     },
     "execution_count": 13,
     "metadata": {},
     "output_type": "execute_result"
    }
   ],
   "source": [
    "bellscenario_relax = InflationSDP(bellscenario)\n",
    "bellscenario_relax.generate_relaxation('npa1')\n",
    "\n",
    "mmnts = bellscenario_relax.measurements\n",
    "A0, B0, A1, B1 = (1-2*mmnts[party][0][setting][0] for setting in range(2) for party in range(2))\n",
    "\n",
    "bellscenario_relax.set_objective(A0*B0 + A0*B1 + A1*B0 - A1*B1)\n",
    "bellscenario_relax.solve()\n",
    "bellscenario_relax.objective_value"
   ]
  },
  {
   "cell_type": "markdown",
   "metadata": {},
   "source": [
    "We correctly recover the Tsirelson bound for the CHSH inequality."
   ]
  },
  {
   "cell_type": "markdown",
   "metadata": {},
   "source": [
    "## SDP hierarchy of \"physical moments\"\n",
    "\n",
    "For the generation of the semidefinite programming relaxation, besides NPA levels and local levels, we also implement a hierachy of \"physical moments\" of level $n$. This is a subset of local level $n$ of all the monomials for which all operators in that monomial commute due to non-overlapping support in the inflated graph."
   ]
  },
  {
   "cell_type": "markdown",
   "metadata": {},
   "source": [
    "### Example 7: Critical visibility of the W distribution with the physical moments hierarchy\n",
    "\n",
    " As an application, we show how we can recover the critical visibility $v_{\\text{crit}}\\approx=0.8038$ of the W distribution in the triangle causal scenario achieved with the generating set corresponding to local level 2 with monomials of maximum length 4, as shown in [Physical Review X 11.2 (2021): 021043](https://journals.aps.org/prx/abstract/10.1103/PhysRevX.11.021043). This corresponds to a moment matrix of size 1175x1175. However, by using the second level of the physical moments hierarchy of monomials up to length 4, we recover the same results with a smaller moment matrix:"
   ]
  },
  {
   "cell_type": "code",
   "execution_count": 14,
   "metadata": {},
   "outputs": [
    {
     "data": {
      "text/plain": [
       "0.803863525390625"
      ]
     },
     "execution_count": 14,
     "metadata": {},
     "output_type": "execute_result"
    }
   ],
   "source": [
    "qtriangle = InflationProblem(dag={\"rho_AB\": [\"A\", \"B\"],\n",
    "                                  \"rho_BC\": [\"B\", \"C\"],\n",
    "                                  \"rho_AC\": [\"A\", \"C\"],},\n",
    "                            outcomes_per_party=[2, 2, 2],\n",
    "                            settings_per_party=[1, 1, 1],\n",
    "                            inflation_level_per_source=[2, 2, 2])\n",
    "qtriangle_relax = InflationSDP(qtriangle)\n",
    "cols = qtriangle_relax.build_columns('physical2', max_monomial_length=4)\n",
    "qtriangle_relax.generate_relaxation(cols)\n",
    "\n",
    "sdp, v_crit = bisection(qtriangle_relax, P_W_array)\n",
    "v_crit"
   ]
  },
  {
   "cell_type": "markdown",
   "metadata": {},
   "source": [
    "We recover the same critical visibility of $v_{\\text{crit}}\\approx 0.8039$ a moment matrix of size 287x287 as opposed to 1175x1175, which leads to a signfificant gain in performance."
   ]
  },
  {
   "cell_type": "markdown",
   "metadata": {},
   "source": [
    "## Linearized polynomial identification (LPI) constraints\n",
    "\n",
    "LPI constraints were introduced in [arXiv:2203.16543](https://arxiv.org/abs/2203.16543). They are proportionality constraints between different entries of the moment matrix. Due to nature of the inflated graph, many of the moments in the moment matrix factorise into products of other moments. \n",
    "\n",
    "As a simplified example, consider the moment $\\langle A^{110}_{xa} B^{202}_{x'a'} B^{201}_{yb} \\rangle$ in the inflated triangle of order two. In the triangle, we have three sources, $\\rho_{AB}$, $\\rho_{AC}$ and $\\rho_{BC}$. The upper indices in the operators of the previous moment indicate on which copy of the sources the operator is acting. The value 0 means that the party does not measure the corresponding source. For example, $B^{201}_{yb}$ represents Bob measuring outcome $b$ of setting $y$ on copy 2 of $\\rho_{AB}$ and copy 1 of $\\rho_{BC}$. Notice that because of the non-overlapping support of some of the moments, the moment factorises as follows:\n",
    "\n",
    "$$\\langle A^{110}_{xa} B^{202}_{x'a'} B^{201}_{yb} \\rangle = \\langle A^{110}_{xa} \\rangle \\langle B^{202}_{x'a'} B^{201}_{yb} \\rangle $$ \n",
    "\n",
    "The moment $\\langle A^{110}_{xa} \\rangle$ is known to be equal to $p_A(a|x)$, but  $\\langle B^{202}_{x'a'} B^{201}_{yb} \\rangle$ is unknown. Therefore, we have a linear proportionality relationship between the variables $\\langle A^{110}_{xa} B^{202}_{x'a'} B^{201}_{yb} \\rangle$ and $\\langle B^{202}_{x'a'} B^{201}_{yb} \\rangle$.\n",
    "\n",
    "Proportionality constraints of these form can be automatically implemented by setting `use_lpi_constraints` to `True` when using the `set_distribution()` method."
   ]
  },
  {
   "cell_type": "markdown",
   "metadata": {},
   "source": [
    "### Example 8: Critical visibility of the W distribution with the physical moments hierarchy and LPI constraints\n",
    "\n",
    "We will now show how using LPI constraints lead to tighter relaxations. For example, we can certify incompatiblity with the triangle for noisier W distributions than before."
   ]
  },
  {
   "cell_type": "code",
   "execution_count": 15,
   "metadata": {},
   "outputs": [
    {
     "data": {
      "text/plain": [
       "0.765045166015625"
      ]
     },
     "execution_count": 15,
     "metadata": {},
     "output_type": "execute_result"
    }
   ],
   "source": [
    "qtriangle = InflationProblem(dag={\"rho_AB\": [\"A\", \"B\"],\n",
    "                                  \"rho_BC\": [\"B\", \"C\"],\n",
    "                                  \"rho_AC\": [\"A\", \"C\"],},\n",
    "                            outcomes_per_party=[2, 2, 2],\n",
    "                            settings_per_party=[1, 1, 1],\n",
    "                            inflation_level_per_source=[2, 2, 2])\n",
    "qtriangle_relax = InflationSDP(qtriangle)\n",
    "cols = qtriangle_relax.build_columns('physical2', max_monomial_length=4)\n",
    "qtriangle_relax.generate_relaxation(cols)\n",
    "\n",
    "sdp, v_crit = bisection(qtriangle_relax, P_W_array, use_lpi_constraints=True)\n",
    "v_crit"
   ]
  },
  {
   "cell_type": "markdown",
   "metadata": {},
   "source": [
    "The critical value for the noise that we achieve, $v_{\\text{crit}}=0.7650$, is lower than the critical value for the noise that we achieved in Example 7, $v_{\\text{crit}}=0.8039$.\n",
    "\n",
    "**Warning!** The tradeoff of using LPI constraints is that the dual certificate is no longer valid for other distributions. We can still certify incompatibility of a specific distribution $P_0$ with a certain causal model with the extracted certificate $\\text{Poly}_{P_0}(P_0)>0$ when using LPI constraints, but if attempt to check other distributions $P_1$ with the same certificate, satisfying he inequality $\\text{Poly}_{P_0}(P_1)>0$ no longer guarantees that $P_1$ is also incompatible with the same causal structure, as was the case in the other scenarios (e.g., in Example 1)."
   ]
  }
 ],
 "metadata": {
  "interpreter": {
   "hash": "00a39c23cf09218597099894b042ffa9fa6ee7ec336d8d61c9bbb23befd995be"
  },
  "kernelspec": {
   "display_name": "Python 3.8.5 ('base')",
   "language": "python",
   "name": "python3"
  },
  "language_info": {
   "codemirror_mode": {
    "name": "ipython",
    "version": 3
   },
   "file_extension": ".py",
   "mimetype": "text/x-python",
   "name": "python",
   "nbconvert_exporter": "python",
   "pygments_lexer": "ipython3",
   "version": "3.8.5"
  }
 },
 "nbformat": 4,
 "nbformat_minor": 2
}

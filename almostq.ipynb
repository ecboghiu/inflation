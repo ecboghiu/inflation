{
 "cells": [
  {
   "cell_type": "code",
   "execution_count": 207,
   "metadata": {},
   "outputs": [],
   "source": [
    "import os\n",
    "import sys\n",
    "# Locate the script in UnifiedInflation/examples and add to path one folder before, that is, UnifiedInflation/\n",
    "# in order to be able to import quantuminflation\n",
    "# ! Note: I found online that \"__file__\" sometimes can be problematic, So I'm using the solution provided in\n",
    "# https://stackoverflow.com/questions/2632199/how-do-i-get-the-path-of-the-current-executed-file-in-python?lq=1\n",
    "from inspect import getsourcefile\n",
    "from os.path import abspath\n",
    "from tabnanny import verbose\n",
    "\n",
    "#cws = abspath(getsourcefile(lambda:0))\n",
    "cws = os.getcwd()\n",
    "cws = os.sep.join(cws.split(os.sep)[:-1])  # Remove the script filename to get the directory of the script\n",
    "cws = cws + os.sep + os.pardir  # Go one folder above UnifiedInflation/examples -> UnifiedInflation/\n",
    "sys.path.append(cws)\n",
    "###############################################################################\n",
    "\n",
    "import itertools\n",
    "import pickle\n",
    "\n",
    "import numpy as np\n",
    "from quantuminflation.InflationProblem import InflationProblem\n",
    "from quantuminflation.InflationSDP import InflationSDP\n",
    "from quantuminflation.useful_distributions import *\n",
    "from quantuminflation.general_tools import to_numbers\n",
    "\n",
    "from quantuminflation.fast_npa import calculate_momentmatrix\n",
    "import itertools\n",
    "\n",
    "from ncpol2sdpa.nc_utils import apply_substitutions\n",
    "import sympy as sp"
   ]
  },
  {
   "cell_type": "markdown",
   "metadata": {},
   "source": [
    "Calculate the objective function. First we encode $U_{0|0}$, $U_{0|1}$ and $V$. From the paper:\n",
    "\n",
    "$\\begin{aligned} U_{0 \\mid 0}(p)=& 1-p_{A}(0 \\mid 1)-p_{B}(0 \\mid 1)+2 p(00 \\mid 11) \\\\ U_{0 \\mid 1}(p)=& 1-0.0329 p_{B}(0 \\mid 0)-0.7117 p_{B}(0 \\mid 2) \\\\ &-0.0329 p_{A}(0 \\mid 0)-0.8418 p(0,0 \\mid 0,0) \\\\ &+0.6359 p(0,0 \\mid 0,2)-0.7117 p_{A}(0 \\mid 2) \\\\ &+0.6359 p(0,0 \\mid 2,0)+0.4360 p(0,0 \\mid 2,2) \\end{aligned}$\n",
    "\n",
    "$\\begin{aligned} V(p)=& 0.1590+0.8372 p_{B}(0 \\mid 0)+0.0031 p_{B}(0 \\mid 1) \\\\ &-0.1544 p_{A}(0 \\mid 0)-0.6132 p(0,0 \\mid 0,0) \\\\ &+0.5547 p(0,0 \\mid 0,1)+0.5884 p_{A}(0 \\mid 1) \\\\ &-0.5902 p(0,0 \\mid 1,0)-0.7404 p(0,0 \\mid 11) \\end{aligned}$"
   ]
  },
  {
   "cell_type": "code",
   "execution_count": 208,
   "metadata": {},
   "outputs": [],
   "source": [
    "# The U first\n",
    "\n",
    "### The first input\n",
    "outs_cardinality_ef = [2, 2]\n",
    "ins_cardinality_ef  = [3, 3]\n",
    "number_alpha = 2\n",
    "number_eta = 2\n",
    "U = np.zeros((number_alpha, number_eta, *outs_cardinality_ef, *ins_cardinality_ef), dtype=np.longdouble)\n",
    "\n",
    "U[0,0,:,:,0,0] += 1\n",
    "U[0,0,0,:,1,0] += -1\n",
    "U[0,0,:,0,0,1] += -1\n",
    "U[0,0,0,0,1,1] += 2\n",
    "\n",
    "U[1,0,:,:,0,0] += 1\n",
    "U[1,0,:,:,:,:] -= U[0,0,:,:,:,:]\n",
    "\n",
    "U_01 = np.zeros((*outs_cardinality_ef,*ins_cardinality_ef))\n",
    "U[0,1,:,:,0,0] += 1\n",
    "\n",
    "U[0,1,:,0,0,0] += -0.0329\n",
    "U[0,1,:,0,0,2] += -0.7117\n",
    "\n",
    "U[0,1,0,:,0,0] += -0.0329\n",
    "U[0,1,0,:,2,0] += -0.7117\n",
    "\n",
    "U[0,1,0,0,0,0] += -0.8418\n",
    "U[0,1,0,0,0,2] += +0.6359\n",
    "U[0,1,0,0,2,0] += +0.6359\n",
    "U[0,1,0,0,2,2] += +0.4360\n",
    "\n",
    "U[1,1,:,:,0,0] += 1\n",
    "U[1,1,:,:,:,:] -= U[0,1,:,:,:,:]\n",
    "\n",
    "# The V\n",
    "outs_cardinality_ug = [U.shape[0], 2]\n",
    "ins_cardinality_ug  = [U.shape[1], 2]\n",
    "\n",
    "V = np.zeros((*outs_cardinality_ug,*ins_cardinality_ug), dtype=np.longdouble)  # V[alpha,c,eta,z]\n",
    "V[:,:,0,0] += +0.1590\n",
    "\n",
    "V[0,:,0,0] += -0.1544\n",
    "V[0,:,1,0] += +0.5884\n",
    "\n",
    "V[:,0,0,0] += +0.8372\n",
    "V[:,0,0,1] += +0.0031\n",
    "V[0,0,0,0] += -0.6132\n",
    "V[0,0,0,1] += +0.5547\n",
    "V[0,0,1,0] += -0.5902\n",
    "V[0,0,1,1] += -0.7404"
   ]
  },
  {
   "cell_type": "markdown",
   "metadata": {},
   "source": [
    "Do the index contraction for the W"
   ]
  },
  {
   "cell_type": "code",
   "execution_count": 209,
   "metadata": {},
   "outputs": [],
   "source": [
    "#W = np.einsum('AcEz,AEabxy->abcxyz', V2[:-1,:,:,:], U)\n",
    "W = np.einsum('AcEz,AEabxy->abcxyz', V[:,:,:,:], U)"
   ]
  },
  {
   "cell_type": "markdown",
   "metadata": {},
   "source": [
    "Define an auxiliary scenario. We need to run a trivial problem to compile the functions. This will be improved later."
   ]
  },
  {
   "cell_type": "code",
   "execution_count": 210,
   "metadata": {},
   "outputs": [
    {
     "name": "stdout",
     "output_type": "stream",
     "text": [
      "Currently needed to run a trivial problem to precompile the functions, this can be changed later\n"
     ]
    },
    {
     "name": "stderr",
     "output_type": "stream",
     "text": [
      "Calculating moment matrix    : 100%|██████████| 2/2 [00:00<?, ?it/s]\n"
     ]
    }
   ],
   "source": [
    "InfProb = InflationProblem( hypergraph=[[1, 1]],outcomes_per_party=[2, 2],settings_per_party=[1, 1],inflation_level_per_source=[1])\n",
    "print('Currently needed to run a trivial problem to precompile the functions, this can be changed later')\n",
    "InfSDP = InflationSDP(InfProb, verbose=0)\n",
    "InfSDP._build_columns([[],[0]])\n",
    "cols_small = [np.array(col, dtype=np.uint8) for col in InfSDP.generating_monomials]\n",
    "momentmatrix, vardic = calculate_momentmatrix(cols_small, np.array(InfSDP.names))"
   ]
  },
  {
   "cell_type": "markdown",
   "metadata": {},
   "source": [
    "# Testing\n",
    "\n",
    "Check if $U_{0|0}$, $U_{0|1}$ and $V$ are valid NBF over AQ. We'll try to find the maximum and minimum over AQ.\n",
    "\n",
    "First $U_{0|0}$, $U_{0|1}$\n",
    "\n",
    "!! After checking the first time, we renormalize to machine precision."
   ]
  },
  {
   "cell_type": "code",
   "execution_count": 211,
   "metadata": {},
   "outputs": [
    {
     "name": "stderr",
     "output_type": "stream",
     "text": [
      "Calculating moment matrix    : 100%|██████████| 16/16 [00:00<00:00, 1777.86it/s]\n",
      "Writing momentmatrix to file : 100%|██████████| 16/16 [00:00<00:00, 5329.48it/s]\n",
      "Writing monomials to file    : 100%|██████████| 57/57 [00:00<?, ?it/s]\n",
      "Factorizing monomials        : 100%|██████████| 57/57 [00:00<00:00, 11398.65it/s]\n",
      "Reassigning monomial variables: 100%|██████████| 57/57 [00:00<?, ?it/s]\n",
      "Reassigning moment matrix indices: 100%|██████████| 16/16 [00:00<00:00, 16012.61it/s]\n"
     ]
    },
    {
     "name": "stdout",
     "output_type": "stream",
     "text": [
      "U_00 = 1.0 - 1.0*A_1_1_0 + 2.0*A_1_1_0*B_1_1_0 - 1.0*B_1_1_0\n",
      "minimum over AQ of U_00 -1.4420064919917763e-08\n",
      "Maximum over AQ of U_00 1.0000000128535476\n",
      "U_10 = 1.0*A_1_1_0 - 2.0*A_1_1_0*B_1_1_0 + 1.0*B_1_1_0\n",
      "minimum over AQ of U_10 -1.2853547667126446e-08\n",
      "Maximum over AQ of U_10 1.000000014420065\n",
      "U_01 = 1.0 - 0.0329*A_1_0_0 - 0.8418*A_1_0_0*B_1_0_0 + 0.6359*A_1_0_0*B_1_2_0 - 0.7117*A_1_2_0 + 0.6359*A_1_2_0*B_1_0_0 + 0.436*A_1_2_0*B_1_2_0 - 0.0329*B_1_0_0 - 0.7117*B_1_2_0\n",
      "minimum over AQ of U_01 1.5576856671417616e-05\n",
      "Maximum over AQ of U_01 1.0000207289194862\n",
      "U_11 = 0.0329*A_1_0_0 + 0.8418*A_1_0_0*B_1_0_0 - 0.6359*A_1_0_0*B_1_2_0 + 0.7117*A_1_2_0 - 0.6359*A_1_2_0*B_1_0_0 - 0.436*A_1_2_0*B_1_2_0 + 0.0329*B_1_0_0 + 0.7117*B_1_2_0\n",
      "minimum over AQ of U_11 -2.0728919393495328e-05\n",
      "Maximum over AQ of U_11 0.9999844231346401\n"
     ]
    }
   ],
   "source": [
    "InfProb = InflationProblem( hypergraph=[[1, 1]],\n",
    "                            outcomes_per_party=outs_cardinality_ef,\n",
    "                            settings_per_party=ins_cardinality_ef,\n",
    "                            inflation_level_per_source=[1],\n",
    "                            names=['A', 'B'])\n",
    "InfSDP = InflationSDP(InfProb, commuting=False, verbose=0)\n",
    "filename_label = 'AQ_U'\n",
    "InfSDP.generate_relaxation( column_specification='local1',\n",
    "                            max_monomial_length=False,\n",
    "                            find_physical_monomials=False,\n",
    "                            use_linear_constraints=False,\n",
    "                            sandwich_positivity=False,\n",
    "                            load_from_file=False,\n",
    "                            filename_label=filename_label)\n",
    "meas = InfSDP.measurements\n",
    "for eta, alpha in itertools.product(range(2), repeat=2):\n",
    "    obj = 0\n",
    "    for a,b,x,y in itertools.product(*[range(i) for i in U.shape[2:]]):\n",
    "        Pi_A = meas[0][0][x][a] if a == 0 else sp.S.One - meas[0][0][x][0]\n",
    "        Pi_B = meas[1][0][y][b] if b == 0 else sp.S.One - meas[1][0][y][0]\n",
    "        obj += U[alpha,eta,a,b,x,y]*Pi_A*Pi_B\n",
    "    # if (alpha, eta) == (0, 1):\n",
    "    #     obj -= 0.8\n",
    "\n",
    "    obj = sp.expand(obj)\n",
    "    print(\"U_\"+str(alpha)+str(eta)+\" =\", obj)\n",
    "    InfSDP.set_objective(objective=-obj)\n",
    "    InfSDP.solve()  # By default it maximizes\n",
    "    minimo = InfSDP.primal_objective\n",
    "    print(\"minimum over AQ of U_\"+str(alpha)+str(eta), -InfSDP.primal_objective)\n",
    "    InfSDP.set_objective(objective=obj)\n",
    "    InfSDP.solve()  # By default it maximizes\n",
    "    print(\"Maximum over AQ of U_\"+str(alpha)+str(eta), InfSDP.primal_objective)\n",
    "    maximo = InfSDP.primal_objective\n",
    "    # Add the minimum and divide by the difference between the maximum and minimum\n",
    "    # U[alpha,eta,:,:,0,0] += minimo\n",
    "    # U[alpha,eta,:,:,:,:] /= maximo - minimo\n",
    "\n",
    "# obj = (1 +\n",
    "#         -0.0329*meas[1][0][0][0] +\n",
    "#         -0.7117*meas[1][0][2][0] +\n",
    "#         -0.0329*meas[0][0][0][0] +\n",
    "#         -0.7117*meas[0][0][2][0] +\n",
    "#         -0.8418*meas[0][0][0][0]*meas[1][0][0][0] +\n",
    "#         +0.6359*meas[0][0][0][0]*meas[1][0][2][0] +\n",
    "#         +0.6359*meas[0][0][2][0]*meas[1][0][0][0] +\n",
    "#         +0.4360*meas[0][0][2][0]*meas[1][0][2][0] )\n",
    "# obj = sp.expand(obj)\n",
    "# InfSDP.set_objective(objective=-obj)\n",
    "# print(obj)\n",
    "# InfSDP.solve()  # By default it maximizes\n",
    "# print(\"Minimum over AQ of V\", InfSDP.primal_objective)\n",
    "# InfSDP.set_objective(objective=obj)\n",
    "# InfSDP.solve()  # By default it maximizes\n",
    "# print(\"Maximum over AQ of V\", InfSDP.primal_objective)"
   ]
  },
  {
   "cell_type": "markdown",
   "metadata": {},
   "source": [
    "Now lets check $V$"
   ]
  },
  {
   "cell_type": "code",
   "execution_count": 212,
   "metadata": {},
   "outputs": [
    {
     "name": "stderr",
     "output_type": "stream",
     "text": [
      "Calculating moment matrix    : 100%|██████████| 9/9 [00:00<00:00, 3001.65it/s]\n",
      "Writing momentmatrix to file : 100%|██████████| 9/9 [00:00<00:00, 8998.51it/s]\n",
      "Writing monomials to file    : 100%|██████████| 16/16 [00:00<?, ?it/s]\n",
      "Factorizing monomials        : 100%|██████████| 16/16 [00:00<00:00, 8002.49it/s]\n",
      "Reassigning monomial variables: 100%|██████████| 16/16 [00:00<00:00, 16004.98it/s]\n",
      "Reassigning moment matrix indices: 100%|██████████| 9/9 [00:00<?, ?it/s]"
     ]
    },
    {
     "name": "stdout",
     "output_type": "stream",
     "text": [
      "0.159 - 0.1544*A_1_0_0 - 0.6132*A_1_0_0*B_1_0_0 + 0.5547*A_1_0_0*B_1_1_0 + 0.5884*A_1_1_0 - 0.5902*A_1_1_0*B_1_0_0 - 0.7404*A_1_1_0*B_1_1_0 + 0.8372*B_1_0_0 + 0.0031*B_1_1_0\n",
      "minimum over AQ of V_ -2.5077128465444964e-06\n",
      "Maximum over AQ of V_ 0.9999673614230343\n",
      "0\n"
     ]
    },
    {
     "name": "stderr",
     "output_type": "stream",
     "text": [
      "\n"
     ]
    }
   ],
   "source": [
    "InfProb = InflationProblem( hypergraph=[[1, 1]],\n",
    "                            outcomes_per_party=outs_cardinality_ug,\n",
    "                            settings_per_party=ins_cardinality_ug,\n",
    "                            inflation_level_per_source=[1],\n",
    "                            names=['A', 'B'])\n",
    "InfSDP = InflationSDP(InfProb, commuting=False, verbose=0)\n",
    "filename_label = 'AQ_V'\n",
    "InfSDP.generate_relaxation( column_specification='local1',\n",
    "                            max_monomial_length=False,\n",
    "                            find_physical_monomials=False,\n",
    "                            use_linear_constraints=False,\n",
    "                            sandwich_positivity=False,\n",
    "                            load_from_file=False,\n",
    "                            filename_label=filename_label)\n",
    "meas = InfSDP.measurements\n",
    "\n",
    "obj = 0\n",
    "for a,b,x,y in itertools.product(*[range(i) for i in V.shape]):\n",
    "    Pi_A = meas[0][0][x][a] if a == 0 else 1-meas[0][0][x][0]\n",
    "    Pi_B = meas[1][0][y][b] if b == 0 else 1-meas[1][0][y][0]\n",
    "    obj += V[a,b,x,y]*Pi_A*Pi_B\n",
    "obj = sp.expand(obj)\n",
    "print(obj)\n",
    "InfSDP.set_objective(objective=-obj)\n",
    "InfSDP.solve()  # By default it maximizes\n",
    "print(\"minimum over AQ of V_\", -InfSDP.primal_objective)\n",
    "minimo = InfSDP.primal_objective\n",
    "InfSDP.set_objective(objective=obj)\n",
    "InfSDP.solve()  # By default it maximizes\n",
    "print(\"Maximum over AQ of V_\", InfSDP.primal_objective)\n",
    "maximo = InfSDP.primal_objective\n",
    "# V[:,:,0,0] += minimo\n",
    "# V[:,:,:,:] /= maximo - minimo\n",
    "\n",
    "\n",
    "obj1 = (0.1590 +\n",
    "        +0.8372*meas[1][0][0][0] +\n",
    "        +0.0031*meas[1][0][1][0] +\n",
    "        -0.1544*meas[0][0][0][0] +\n",
    "        +0.5884*meas[0][0][1][0] +\n",
    "        -0.6132*meas[0][0][0][0]*meas[1][0][0][0] +\n",
    "        +0.5547*meas[0][0][0][0]*meas[1][0][1][0] +\n",
    "        -0.5902*meas[0][0][1][0]*meas[1][0][0][0] +\n",
    "        -0.7404*meas[0][0][1][0]*meas[1][0][1][0]  ) \n",
    "print(obj1-obj)\n",
    "# print(obj)\n",
    "# InfSDP.set_objective(objective=-obj)\n",
    "# InfSDP.solve()  # By default it maximizes\n",
    "# print(\"minimum over AQ of V\", InfSDP.primal_objective)\n",
    "# InfSDP.set_objective(objective=obj)\n",
    "# InfSDP.solve()  # By default it maximizes\n",
    "# print(\"Maximum over AQ of V\", InfSDP.primal_objective)"
   ]
  },
  {
   "cell_type": "markdown",
   "metadata": {},
   "source": [
    "## Check CHSH with the SDP"
   ]
  },
  {
   "cell_type": "code",
   "execution_count": 213,
   "metadata": {},
   "outputs": [
    {
     "name": "stderr",
     "output_type": "stream",
     "text": [
      "Calculating moment matrix    : 100%|██████████| 9/9 [00:00<00:00, 4503.01it/s]\n",
      "Writing momentmatrix to file : 100%|██████████| 9/9 [00:00<00:00, 9002.80it/s]\n",
      "Writing monomials to file    : 100%|██████████| 16/16 [00:00<?, ?it/s]\n",
      "Factorizing monomials        : 100%|██████████| 16/16 [00:00<00:00, 7999.63it/s]\n",
      "Reassigning monomial variables: 100%|██████████| 16/16 [00:00<?, ?it/s]\n",
      "Reassigning moment matrix indices: 100%|██████████| 9/9 [00:00<?, ?it/s]"
     ]
    },
    {
     "name": "stdout",
     "output_type": "stream",
     "text": [
      "2 - 4*A_1_0_0 + 4*A_1_0_0*B_1_0_0 + 4*A_1_0_0*B_1_1_0 + 4*A_1_1_0*B_1_0_0 - 4*A_1_1_0*B_1_1_0 - 4*B_1_0_0\n",
      "minimum over AQ of CHSH 2.8284271790023405\n"
     ]
    },
    {
     "name": "stderr",
     "output_type": "stream",
     "text": [
      "\n"
     ]
    }
   ],
   "source": [
    "InfProb = InflationProblem(hypergraph=[[1, 1]], outcomes_per_party=[2,2], settings_per_party=[2,2], inflation_level_per_source=[1],names=['A', 'B'])\n",
    "InfSDP = InflationSDP(InfProb, commuting=False, verbose=0)\n",
    "InfSDP.generate_relaxation( column_specification='local1',\n",
    "                            max_monomial_length=False,\n",
    "                            find_physical_monomials=False,\n",
    "                            use_linear_constraints=False,\n",
    "                            sandwich_positivity=False,\n",
    "                            load_from_file=False,\n",
    "                            filename_label=filename_label)\n",
    "meas = InfSDP.measurements\n",
    "A0, A1, B0, B1 = 1-2*meas[0][0][0][0], 1-2*meas[0][0][1][0], 1-2*meas[1][0][0][0], 1-2*meas[1][0][1][0]\n",
    "obj =  A0*B0+A0*B1+A1*B0-A1*B1\n",
    "obj = sp.expand(obj)\n",
    "print(obj)\n",
    "InfSDP.set_objective(objective=+obj)\n",
    "InfSDP.solve(interpreter='CVXPY')  # By default it maximizes\n",
    "print(\"minimum over AQ of CHSH\", InfSDP.primal_objective)"
   ]
  },
  {
   "cell_type": "markdown",
   "metadata": {},
   "source": [
    "Do the index contraction for the W"
   ]
  },
  {
   "cell_type": "code",
   "execution_count": 214,
   "metadata": {},
   "outputs": [],
   "source": [
    "#W = np.einsum('AcEz,AEabxy->abcxyz', V2[:-1,:,:,:], U)\n",
    "W = np.einsum('AcEz,AEabxy->abcxyz', V[:,:,:,:], U)"
   ]
  },
  {
   "cell_type": "markdown",
   "metadata": {},
   "source": [
    "Define an auxiliary scenario. We need to run a trivial problem to compile the functions. This will be improved later."
   ]
  },
  {
   "cell_type": "markdown",
   "metadata": {},
   "source": [
    "# Functions for Collins Gisin notation"
   ]
  },
  {
   "cell_type": "code",
   "execution_count": 215,
   "metadata": {},
   "outputs": [],
   "source": [
    "from quantuminflation.general_tools import find_permutation, apply_substitutions\n",
    "from ncpol2sdpa.nc_utils import flatten"
   ]
  },
  {
   "cell_type": "markdown",
   "metadata": {},
   "source": [
    "### From probabilitiy to CG\n"
   ]
  },
  {
   "cell_type": "code",
   "execution_count": 216,
   "metadata": {},
   "outputs": [],
   "source": [
    "def prob_to_CG_2parties(prob, outcomes_per_party, settings_per_party):\n",
    "    dims = np.multiply(np.array(outcomes_per_party)-1, np.array(settings_per_party)) + 1\n",
    "    p_CG = np.zeros(dims)\n",
    "    for a, b in itertools.product(*[range(d) for d in dims]):\n",
    "        if a == 0 and b == 0:\n",
    "            p_CG[0, 0] = 1\n",
    "        if a != 0 and b == 0:\n",
    "            a_, x = np.unravel_index(a-1, (outcomes_per_party[0]-1,settings_per_party[0]))\n",
    "            p_CG[a, 0] = np.sum(prob[a_,:,x,0])\n",
    "        if a == 0 and b != 0:\n",
    "            b_, y = np.unravel_index(b-1, (outcomes_per_party[1]-1,settings_per_party[1]))\n",
    "            p_CG[0, b] = np.sum(prob[:,b_,0,y])\n",
    "        if a != 0 and b != 0:\n",
    "            a_, x = np.unravel_index(a-1, (outcomes_per_party[0]-1,settings_per_party[0]))\n",
    "            b_, y = np.unravel_index(b-1, (outcomes_per_party[1]-1,settings_per_party[1]))\n",
    "            p_CG[a, b] = prob[a_,b_,x,y]\n",
    "    return p_CG\n",
    "\n",
    "def prob_to_CG_3parties(prob, outcomes_per_party, settings_per_party):\n",
    "    dims = np.multiply(np.array(outcomes_per_party)-1, np.array(settings_per_party)) + 1\n",
    "    p_CG = np.zeros(dims)\n",
    "    for a, b, c in itertools.product(*[range(d) for d in dims]):\n",
    "        if a == 0 and b == 0 and c == 0:\n",
    "            p_CG[0, 0, 0] = 1\n",
    "        if a != 0 and b == 0 and c == 0:\n",
    "            a_, x = np.unravel_index(a-1, (outcomes_per_party[0]-1,settings_per_party[0]))\n",
    "            p_CG[a, 0, 0] = np.sum(prob[a_,:,:,x,0,0])\n",
    "        if a == 0 and b != 0 and c == 0:\n",
    "            b_, y = np.unravel_index(b-1, (outcomes_per_party[1]-1,settings_per_party[1]))\n",
    "            p_CG[0, b, 0] = np.sum(prob[:,b_,:,0,y,0])\n",
    "        if a == 0 and b == 0 and c != 0:\n",
    "            c_, z = np.unravel_index(c-1, (outcomes_per_party[2]-1,settings_per_party[2]))\n",
    "            p_CG[0, 0, c] = np.sum(prob[:,:,c_,0,0,z])\n",
    "        if a != 0 and b != 0 and c == 0:\n",
    "            a_, x = np.unravel_index(a-1, (outcomes_per_party[0]-1,settings_per_party[0]))\n",
    "            b_, y = np.unravel_index(b-1, (outcomes_per_party[1]-1,settings_per_party[1]))\n",
    "            p_CG[a, b, 0] = np.sum(prob[a_,b_,:,x,y,0])\n",
    "        if a != 0 and b == 0 and c != 0:\n",
    "            a_, x = np.unravel_index(a-1, (outcomes_per_party[0]-1,settings_per_party[0]))\n",
    "            c_, z = np.unravel_index(c-1, (outcomes_per_party[2]-1,settings_per_party[2]))\n",
    "            p_CG[a, 0, c] = np.sum(prob[a_,:,c_,x,0,z])\n",
    "        if a == 0 and b != 0 and c != 0:\n",
    "            b_, y = np.unravel_index(b-1, (outcomes_per_party[1]-1,settings_per_party[1]))\n",
    "            c_, z = np.unravel_index(c-1, (outcomes_per_party[2]-1,settings_per_party[2]))\n",
    "            p_CG[0, b, c] = np.sum(prob[:,b_,c_,0,y,z])\n",
    "        if a != 0 and b != 0 and c != 0:\n",
    "            a_, x = np.unravel_index(a-1, (outcomes_per_party[0]-1,settings_per_party[0]))\n",
    "            b_, y = np.unravel_index(b-1, (outcomes_per_party[1]-1,settings_per_party[1]))\n",
    "            c_, z = np.unravel_index(c-1, (outcomes_per_party[2]-1,settings_per_party[2]))\n",
    "            p_CG[a, b, c] = prob[a_,b_,c_,x,y,z]\n",
    "    return p_CG\n",
    "\n",
    "# outcomes_per_party = [2, 2, 2]\n",
    "# settings_per_party = [2, 2, 2]\n",
    "# prob = np.ones([2,2,2,2,2,2])/8\n",
    "# prob_to_CG_2parties(prob, outcomes_per_party, settings_per_party)\n",
    "\n",
    "# outcomes_per_party = [2, 2]\n",
    "# settings_per_party = [2, 2]\n",
    "# prob = np.ones([2,2,2,2])/4\n",
    "# prob_to_CG_2parties(prob, outcomes_per_party, settings_per_party)"
   ]
  },
  {
   "cell_type": "markdown",
   "metadata": {},
   "source": [
    "### From CG to probability"
   ]
  },
  {
   "cell_type": "code",
   "execution_count": 311,
   "metadata": {},
   "outputs": [],
   "source": [
    "def CG_to_prob_2party(p_CG, outcomes_per_party, settings_per_party):\n",
    "    prob = np.zeros((*outcomes_per_party, *settings_per_party))\n",
    "    for a, b, x, y in itertools.product(*[range(i) for i in (*outcomes_per_party, *settings_per_party)]):\n",
    "        if a != outcomes_per_party[0]-1 and b != outcomes_per_party[1]-1:\n",
    "            # An alternative to ravel_multi_index is to just output outcomes_per_party[0]*a+x and outcomes_per_party[1]*b+y, which is faster,\n",
    "            # but in my mind this code is more flexible. If performance is an issue when converting\n",
    "            # from Collins Gisin to normal probability, the straight multiplication should be used as it is is 1000x faster.\n",
    "            # But I don't forsee this being a bottleneck.\n",
    "            ax = np.ravel_multi_index([a,x],[outcomes_per_party[0],settings_per_party[0]])\n",
    "            by = np.ravel_multi_index([b,y],[outcomes_per_party[1],settings_per_party[1]])\n",
    "            prob[a, b, x, y] = p_CG[1+ax, 1+by]\n",
    "\n",
    "        if a == outcomes_per_party[0]-1 and b != outcomes_per_party[1]-1:\n",
    "            by = np.ravel_multi_index([b,y],[outcomes_per_party[1],settings_per_party[1]])\n",
    "            suma = 0\n",
    "            for a_ in range(outcomes_per_party[0]-1):\n",
    "                ax = np.ravel_multi_index([a_,x],[outcomes_per_party[0],settings_per_party[0]])\n",
    "                suma += p_CG[1+ax, 1+by]\n",
    "            prob[a, b, x, y] = p_CG[0, 1+by] - suma\n",
    "\n",
    "        if a != outcomes_per_party[0]-1 and b == outcomes_per_party[1]-1:\n",
    "            ax = np.ravel_multi_index([a,x],[outcomes_per_party[0],settings_per_party[0]])\n",
    "            suma = 0\n",
    "            for b_ in range(outcomes_per_party[1]-1):\n",
    "                by = np.ravel_multi_index([b_,y],[outcomes_per_party[1],settings_per_party[1]])\n",
    "                suma += p_CG[1+ax, 1+by]\n",
    "            prob[a, b, x, y] = p_CG[1+ax, 0] - suma\n",
    "\n",
    "        if a == outcomes_per_party[0]-1 and b == outcomes_per_party[1]-1:\n",
    "            suma_A = 0\n",
    "            for a_ in range(outcomes_per_party[0]-1):\n",
    "                ax = np.ravel_multi_index([a_,x],[outcomes_per_party[0],settings_per_party[0]])\n",
    "                suma_A += p_CG[1+ax, 0]\n",
    "\n",
    "            suma_B = 0\n",
    "            for b_ in range(outcomes_per_party[1]-1):\n",
    "                by = np.ravel_multi_index([b_,y],[outcomes_per_party[1],settings_per_party[1]])\n",
    "                suma_B += p_CG[0, 1+by]\n",
    "\n",
    "            suma_AB = 0\n",
    "            for a_ in range(outcomes_per_party[0]-1):\n",
    "                for b_ in range(outcomes_per_party[1]-1):\n",
    "                    ax = np.ravel_multi_index([a_,x],[outcomes_per_party[0],settings_per_party[0]])\n",
    "                    by = np.ravel_multi_index([b_,y],[outcomes_per_party[1],settings_per_party[1]])\n",
    "                    suma_AB += p_CG[1+ax, 1+by]\n",
    "\n",
    "            prob[a, b, x, y] = 1 - suma_A - suma_B + suma_AB\n",
    "    #assert np.allclose(prob.sum(axis=(0,1)), 1)\n",
    "    return prob"
   ]
  },
  {
   "cell_type": "code",
   "execution_count": 312,
   "metadata": {},
   "outputs": [],
   "source": [
    "def CG_to_prob_3party(p_CG, outcomes_per_party, settings_per_party):\n",
    "    prob = np.zeros((*outcomes_per_party, *settings_per_party))\n",
    "    a_last, b_last, c_last = outcomes_per_party[0]-1, outcomes_per_party[1]-1, outcomes_per_party[2]-1\n",
    "    for a, b, c, x, y, z in itertools.product(*[range(i) for i in (*outcomes_per_party, *settings_per_party)]):\n",
    "        ax = a*outcomes_per_party[0] + x #np.ravel_multi_index([a,x],[outcomes_per_party[0],settings_per_party[0]])\n",
    "        by = b*outcomes_per_party[1] + y #np.ravel_multi_index([b,y],[outcomes_per_party[1],settings_per_party[1]])\n",
    "        cz = c*outcomes_per_party[2] + z #np.ravel_multi_index([c,z],[outcomes_per_party[2],settings_per_party[2]])\n",
    "        if a != a_last and b != b_last and c != c_last:\n",
    "            prob[a, b, c, x, y, z] = p_CG[1+ax, 1+by, 1+cz]\n",
    "\n",
    "        if a == a_last and b != b_last and c != c_last:\n",
    "            suma = sum([p_CG[1+a_*outcomes_per_party[0]+x, 1+by, 1+cz] for a_ in range(a_last)])  # Sum over all a_ except the last\n",
    "            prob[a, b, c, x, y, z] = p_CG[0, 1+by, 1+cz] - suma\n",
    "\n",
    "        if a != a_last and b == b_last and c != c_last:\n",
    "            suma = sum([p_CG[1+ax, 1+b_*outcomes_per_party[1]+y, 1+cz] for b_ in range(b_last)])  \n",
    "            prob[a, b, c, x, y, z] = p_CG[1+ax, 0, 1+cz] - suma\n",
    "\n",
    "        if a != a_last and b != b_last and c == c_last:\n",
    "            suma = sum([p_CG[1+ax, 1+by, 1+c_*outcomes_per_party[2]+z] for c_ in range(c_last)])  \n",
    "            prob[a, b, c, x, y, z] = p_CG[1+ax, 1+by, 0] - suma\n",
    "        \n",
    "        if a == a_last and b == b_last and c != c_last:\n",
    "            suma_A  = sum([p_CG[1+a_*outcomes_per_party[0]+x, 0, 1+cz] for a_ in range(a_last)]) \n",
    "            suma_B  = sum([p_CG[0, 1+b_*outcomes_per_party[1]+y, 1+cz] for b_ in range(b_last)]) \n",
    "            suma_AB = sum([p_CG[1+a_*outcomes_per_party[0]+x, 1+b_*outcomes_per_party[1]+y, 1+cz] for b_ in range(b_last) for a_ in range(a_last)])\n",
    "            prob[a, b, c, x, y, z] = p_CG[0, 0, 1+cz] - suma_A - suma_B + suma_AB\n",
    "\n",
    "        if a == a_last and b != b_last and c == c_last:\n",
    "            suma_A  = sum([p_CG[1+a_*outcomes_per_party[0]+x, 1+by, 0] for a_ in range(a_last)]) \n",
    "            suma_C  = sum([p_CG[0, 1+by, 1+c_*outcomes_per_party[2]+z] for c_ in range(c_last)]) \n",
    "            suma_AC = sum([p_CG[1+a_*outcomes_per_party[0]+x, 1+by, 1+c_*outcomes_per_party[2]+z] for a_ in range(a_last) for c_ in range(c_last)])\n",
    "            prob[a, b, c, x, y, z] = p_CG[0, 1+by, 0] - suma_A - suma_C + suma_AC\n",
    "\n",
    "        if a != a_last and b == b_last and c == c_last:\n",
    "            suma_B  = sum([p_CG[1+ax, 1+b_*outcomes_per_party[1]+y, 0] for b_ in range(b_last)]) \n",
    "            suma_C  = sum([p_CG[1+ax, 0, 1+c_*outcomes_per_party[2]+z] for c_ in range(c_last)]) \n",
    "            suma_BC = sum([p_CG[1+ax, 1+b_*outcomes_per_party[1]+y, 1+c_*outcomes_per_party[2]+z] for b_ in range(b_last) for c_ in range(c_last)])\n",
    "            prob[a, b, c, x, y, z] = p_CG[1+ax, 0, 0] - suma_B - suma_C + suma_BC\n",
    "\n",
    "        if a == a_last and b == b_last and c == c_last:\n",
    "            suma_A   = sum([p_CG[1+a_*outcomes_per_party[0]+x, 0, 0] for a_ in range(a_last)]) \n",
    "            suma_B   = sum([p_CG[0, 1+b_*outcomes_per_party[1]+y, 0] for b_ in range(b_last)]) \n",
    "            suma_C   = sum([p_CG[0, 0, 1+c_*outcomes_per_party[2]+z] for c_ in range(c_last)]) \n",
    "            suma_AB  = sum([p_CG[1+a_*outcomes_per_party[0]+x, 1+b_*outcomes_per_party[1]+y, 0] for b_ in range(b_last) for a_ in range(a_last)])\n",
    "            suma_AC  = sum([p_CG[1+a_*outcomes_per_party[0]+x, 0, 1+c_*outcomes_per_party[2]+z] for a_ in range(a_last) for c_ in range(c_last)])\n",
    "            suma_BC  = sum([p_CG[0, 1+b_*outcomes_per_party[1]+y, 1+c_*outcomes_per_party[2]+z] for b_ in range(b_last) for c_ in range(c_last)])\n",
    "            suma_ABC = sum([p_CG[1+a_*outcomes_per_party[0]+x, 1+b_*outcomes_per_party[1]+y, 1+c_*outcomes_per_party[2]+z] for a_ in range(a_last) for b_ in range(b_last) for c_ in range(c_last)])\n",
    "            prob[a, b, c, x, y, z] = 1 - suma_A - suma_B - suma_C + suma_AB + suma_AC + suma_BC - suma_ABC\n",
    "\n",
    "    assert np.allclose(prob.sum(axis=(0,1,2)), 1)\n",
    "    return prob"
   ]
  },
  {
   "cell_type": "code",
   "execution_count": 334,
   "metadata": {},
   "outputs": [],
   "source": [
    "def extract_p_CG_from_AQ_SDP(momentmatrix_solution, measurements, columns, outcomes_per_party, settings_per_party):\n",
    "    p_CG_0 = momentmatrix_solution[0,:]\n",
    "    dims = np.multiply(np.array(outcomes_per_party)-1, np.array(settings_per_party)) + 1\n",
    "    nr_parties = len(outcomes_per_party)\n",
    "    if nr_parties == 2:\n",
    "        correct_order = np.zeros(dims, dtype=object)\n",
    "        for a,b in itertools.product(*[range(i) for i in dims]):\n",
    "            prod = 1\n",
    "            if a != 0:\n",
    "                a_, x = np.unravel_index(a-1, (outcomes_per_party[0]-1,settings_per_party[0]))\n",
    "                prod *= measurements[0][0][x][a_]\n",
    "            if b != 0:\n",
    "                b_, y = np.unravel_index(b-1, (outcomes_per_party[1]-1,settings_per_party[1]))\n",
    "                prod *= measurements[1][0][y][b_]\n",
    "            correct_order[a,b] = prod\n",
    "    elif nr_parties == 3:\n",
    "        correct_order = np.zeros(dims, dtype=object)\n",
    "        for a,b,c in itertools.product(*[range(i) for i in dims]):\n",
    "            prod = 1\n",
    "            if a != 0:\n",
    "                a_, x = np.unravel_index(a-1, (outcomes_per_party[0]-1,settings_per_party[0]))\n",
    "                prod *= measurements[0][0][x][a_]\n",
    "            if b != 0:\n",
    "                b_, y = np.unravel_index(b-1, (outcomes_per_party[1]-1,settings_per_party[1]))\n",
    "                prod *= measurements[1][0][y][b_]\n",
    "            if c != 0:\n",
    "                c_, z = np.unravel_index(c-1, (outcomes_per_party[2]-1,settings_per_party[2]))\n",
    "                prod *= measurements[2][0][z][c_]\n",
    "            correct_order[a,b,c] = prod\n",
    "\n",
    "    perm = find_permutation(columns, correct_order.flatten())\n",
    "    p_CG_permuted = np.array([p_CG_0[perm[i]] for i in range(len(p_CG_0))])\n",
    "    p_CG = p_CG_permuted.reshape(correct_order.shape)\n",
    "    return p_CG\n",
    "\n",
    "def p_CG_in_SDP_vector_AQ_SDP(p_CG_in, measurements, columns, outcomes_per_party, settings_per_party):\n",
    "    p_CG_in = p_CG_in.flatten()\n",
    "    dims = np.multiply(np.array(outcomes_per_party)-1, np.array(settings_per_party)) + 1\n",
    "    nr_parties = len(outcomes_per_party)\n",
    "    if nr_parties == 2:\n",
    "        correct_order = np.zeros(dims, dtype=object)\n",
    "        for a,b in itertools.product(*[range(i) for i in dims]):\n",
    "            prod = 1\n",
    "            if a != 0:\n",
    "                a_, x = np.unravel_index(a-1, (outcomes_per_party[0]-1,settings_per_party[0]))\n",
    "                prod *= measurements[0][0][x][a_]\n",
    "            if b != 0:\n",
    "                b_, y = np.unravel_index(b-1, (outcomes_per_party[1]-1,settings_per_party[1]))\n",
    "                prod *= measurements[1][0][y][b_]\n",
    "            correct_order[a,b] = prod\n",
    "    elif nr_parties == 3:\n",
    "        correct_order = np.zeros(dims, dtype=object)\n",
    "        for a,b,c in itertools.product(*[range(i) for i in dims]):\n",
    "            prod = 1\n",
    "            if a != 0:\n",
    "                a_, x = np.unravel_index(a-1, (outcomes_per_party[0]-1,settings_per_party[0]))\n",
    "                prod *= measurements[0][0][x][a_]\n",
    "            if b != 0:\n",
    "                b_, y = np.unravel_index(b-1, (outcomes_per_party[1]-1,settings_per_party[1]))\n",
    "                prod *= measurements[1][0][y][b_]\n",
    "            if c != 0:\n",
    "                c_, z = np.unravel_index(c-1, (outcomes_per_party[2]-1,settings_per_party[2]))\n",
    "                prod *= measurements[2][0][z][c_]\n",
    "            correct_order[a,b,c] = prod\n",
    "\n",
    "    perm = find_permutation( correct_order.flatten(), columns)\n",
    "    p_CG_permuted = np.array([p_CG_in[perm[i]] for i in range(len(p_CG_in))])\n",
    "    #p_CG = p_CG_permuted.reshape(correct_order.shape)\n",
    "    return p_CG_permuted"
   ]
  },
  {
   "cell_type": "code",
   "execution_count": 219,
   "metadata": {},
   "outputs": [
    {
     "name": "stderr",
     "output_type": "stream",
     "text": [
      "Calculating moment matrix: 100%|██████████| 9/9 [00:00<00:00, 1799.79it/s]\n",
      "Writing momentmatrix to file : 100%|██████████| 9/9 [00:00<00:00, 8998.51it/s]\n",
      "Writing monomials to file    : 100%|██████████| 15/15 [00:00<?, ?it/s]\n",
      "Factorizing monomials        : 100%|██████████| 15/15 [00:00<00:00, 14979.66it/s]\n",
      "Reassigning monomial variables: 100%|██████████| 15/15 [00:00<?, ?it/s]\n",
      "Reassigning moment matrix indices: 100%|██████████| 9/9 [00:00<00:00, 9007.10it/s]"
     ]
    },
    {
     "name": "stdout",
     "output_type": "stream",
     "text": [
      "4*A_1_0_0*B_1_0_0 + 4*A_1_0_0*B_1_1_0 - 4*A_1_0_0 + 4*A_1_1_0*B_1_0_0 - 4*A_1_1_0*B_1_1_0 - 4*B_1_0_0 + 2\n",
      "minimum over AQ of CHSH 2.0000000484582166\n"
     ]
    },
    {
     "name": "stderr",
     "output_type": "stream",
     "text": [
      "\n"
     ]
    },
    {
     "data": {
      "text/plain": [
       "(array([[1.        , 0.45298065, 0.47846019],\n",
       "        [0.45295239, 0.32969124, 0.33501134],\n",
       "        [0.47845363, 0.33500597, 0.09377549]]),\n",
       " array([[1, B_1_0_0, B_1_1_0],\n",
       "        [A_1_0_0, A_1_0_0*B_1_0_0, A_1_0_0*B_1_1_0],\n",
       "        [A_1_1_0, A_1_1_0*B_1_0_0, A_1_1_0*B_1_1_0]], dtype=object))"
      ]
     },
     "execution_count": 219,
     "metadata": {},
     "output_type": "execute_result"
    }
   ],
   "source": [
    "outcomes_per_party = [2, 2]\n",
    "settings_per_party = [2, 2]\n",
    "InfProb = InflationProblem(hypergraph=[[1, 1]], \n",
    "                             outcomes_per_party=outcomes_per_party,\n",
    "                             settings_per_party=settings_per_party,\n",
    "                             inflation_level_per_source=[1], names=['A', 'B'])\n",
    "InfSDP = InflationSDP(InfProb, commuting=True, verbose=0)\n",
    "InfSDP.generate_relaxation( column_specification='local1',\n",
    "                            max_monomial_length=False,\n",
    "                            find_physical_monomials=False,\n",
    "                            use_linear_constraints=False,\n",
    "                            sandwich_positivity=False,\n",
    "                            load_from_file=False,\n",
    "                            filename_label=filename_label)\n",
    "meas = InfSDP.measurements\n",
    "A0, A1, B0, B1 = 1-2*meas[0][0][0][0], 1-2*meas[0][0][1][0], 1-2*meas[1][0][0][0], 1-2*meas[1][0][1][0]\n",
    "obj =  A0*B0+A0*B1+A1*B0-A1*B1\n",
    "obj = sp.expand(obj)\n",
    "print(obj)\n",
    "InfSDP.set_objective(objective=+obj)\n",
    "InfSDP.solve(interpreter='MOSEKFusion', solverparameters={'solve_dual':True})  # By default it maximizes\n",
    "print(\"minimum over AQ of CHSH\", InfSDP.primal_objective)\n",
    "\n",
    "\n",
    "Gamma = InfSDP.solution_object['G']\n",
    "generating_set = InfSDP.generating_monomials\n",
    "p_CG_0 = Gamma[0,:]\n",
    "#CG_shape = [3*1+1,3*1+1,2*1+1]\n",
    "#p_CG = p_CG.reshape(CG_shape)  # In collins gisin notaton\n",
    "\n",
    "meas = InfSDP.measurements\n",
    "dims = np.multiply(np.array(outcomes_per_party)-1, np.array(settings_per_party)) + 1\n",
    "correct_order = np.zeros(dims, dtype=object)\n",
    "for a,b in itertools.product(*[range(i) for i in dims]):\n",
    "    prod = 1\n",
    "    if a != 0:\n",
    "        a_, x = np.unravel_index(a-1, (outcomes_per_party[0]-1,settings_per_party[0]))\n",
    "        prod *= meas[0][0][x][a_]\n",
    "    if b != 0:\n",
    "        b_, y = np.unravel_index(b-1, (outcomes_per_party[1]-1,settings_per_party[1]))\n",
    "        prod *= meas[1][0][y][b_]\n",
    "    correct_order[a,b] = prod\n",
    "\n",
    "perm = find_permutation(InfSDP.generating_monomials_sym, correct_order.flatten())\n",
    "p_CG_permuted = np.array([p_CG_0[perm[i]] for i in range(len(p_CG_0))])\n",
    "p_CG = p_CG_permuted.reshape(correct_order.shape)\n",
    "# p_CG[0,0]\n",
    "# p_CG_0, p_CG_permuted, InfSDP.generating_monomials_sym\n",
    "p_CG, correct_order"
   ]
  },
  {
   "cell_type": "markdown",
   "metadata": {},
   "source": [
    "# Now we do the real scenario"
   ]
  },
  {
   "cell_type": "code",
   "execution_count": 220,
   "metadata": {},
   "outputs": [],
   "source": [
    "from quantuminflation.general_tools import find_permutation, apply_substitutions\n",
    "from ncpol2sdpa.nc_utils import flatten\n",
    "import cvxpy as cp"
   ]
  },
  {
   "cell_type": "code",
   "execution_count": 224,
   "metadata": {},
   "outputs": [
    {
     "name": "stdout",
     "output_type": "stream",
     "text": [
      "InflationProblem with [[1, 1, 1]] as hypergraph, (2, 2, 2) outcomes per party, (3, 3, 2) settings per party and [1] inflation copies per source.\n",
      "Column structure: 1+A+B+C+AB+AC+BC+ABC\n",
      "Number of columns: 48\n"
     ]
    },
    {
     "name": "stderr",
     "output_type": "stream",
     "text": [
      "Calculating moment matrix    : 100%|██████████| 48/48 [00:00<00:00, 545.45it/s]\n",
      "Writing momentmatrix to file : 100%|██████████| 48/48 [00:00<00:00, 2399.97it/s]\n",
      "Writing monomials to file    : 100%|██████████| 273/273 [00:00<00:00, 273280.43it/s]\n",
      "Calculating symmetries       : 100%|██████████| 1/1 [00:00<00:00, 17.86it/s]\n",
      "Applying symmetries          : 100%|██████████| 2/2 [00:00<00:00, 666.66it/s]\n",
      "Factorizing monomials        : 100%|██████████| 273/273 [00:00<00:00, 10501.05it/s]\n",
      "Simplifying monomials        : 100%|██████████| 47/47 [00:00<00:00, 330.99it/s]\n"
     ]
    },
    {
     "name": "stdout",
     "output_type": "stream",
     "text": [
      "Number of known, semi-known and unknown variables = 47 0 226\n",
      "Number of positive/physical unknown variables = 0\n"
     ]
    },
    {
     "name": "stderr",
     "output_type": "stream",
     "text": [
      "Reassigning monomial variables: 100%|██████████| 273/273 [00:00<00:00, 274130.95it/s]\n",
      "Reassigning moment matrix indices: 100%|██████████| 48/48 [00:00<00:00, 15997.35it/s]\n"
     ]
    },
    {
     "name": "stdout",
     "output_type": "stream",
     "text": [
      "Problem\n",
      "  Name                   : InfSDP          \n",
      "  Objective sense        : max             \n",
      "  Type                   : CONIC (conic optimization problem)\n",
      "  Constraints            : 1178            \n",
      "  Cones                  : 0               \n",
      "  Scalar variables       : 276             \n",
      "  Matrix variables       : 1               \n",
      "  Integer variables      : 0               \n",
      "\n",
      "Optimizer started.\n",
      "Presolve started.\n",
      "Linear dependency checker started.\n",
      "Linear dependency checker terminated.\n",
      "Eliminator started.\n",
      "Freed constraints in eliminator : 0\n",
      "Eliminator terminated.\n",
      "Eliminator started.\n",
      "Freed constraints in eliminator : 0\n",
      "Eliminator terminated.\n",
      "Eliminator - tries                  : 2                 time                   : 0.00            \n",
      "Lin. dep.  - tries                  : 1                 time                   : 0.02            \n",
      "Lin. dep.  - number                 : 0               \n",
      "Presolve terminated. Time: 0.02    \n",
      "Problem\n",
      "  Name                   : InfSDP          \n",
      "  Objective sense        : max             \n",
      "  Type                   : CONIC (conic optimization problem)\n",
      "  Constraints            : 1178            \n",
      "  Cones                  : 0               \n",
      "  Scalar variables       : 276             \n",
      "  Matrix variables       : 1               \n",
      "  Integer variables      : 0               \n",
      "\n",
      "Optimizer  - threads                : 10              \n",
      "Optimizer  - solved problem         : the primal      \n",
      "Optimizer  - Constraints            : 1176\n",
      "Optimizer  - Cones                  : 1\n",
      "Optimizer  - Scalar variables       : 274               conic                  : 274             \n",
      "Optimizer  - Semi-definite variables: 1                 scalarized             : 1176            \n",
      "Factor     - setup time             : 0.03              dense det. time        : 0.00            \n",
      "Factor     - ML order time          : 0.01              GP order time          : 0.00            \n",
      "Factor     - nonzeros before factor : 6.93e+05          after factor           : 6.93e+05        \n",
      "Factor     - dense dim.             : 2                 flops                  : 5.49e+08        \n",
      "ITE PFEAS    DFEAS    GFEAS    PRSTATUS   POBJ              DOBJ              MU       TIME  \n",
      "0   1.0e+00  1.2e+00  1.0e+00  0.00e+00   -5.930000000e-01  -5.930000000e-01  1.0e+00  0.05  \n",
      "1   1.2e-01  1.4e-01  8.6e-03  4.71e-01   -4.549301729e-03  7.151137344e-02   1.2e-01  0.09  \n",
      "2   1.8e-02  2.2e-02  1.0e-03  1.90e+00   1.819928149e-02   2.270940132e-02   1.8e-02  0.13  \n",
      "3   3.0e-03  3.7e-03  3.8e-05  1.10e+00   6.067315856e-03   7.197180340e-03   3.0e-03  0.14  \n",
      "4   5.1e-04  6.2e-04  3.4e-06  8.28e-01   4.422639313e-03   4.631585860e-03   5.1e-04  0.17  \n",
      "5   1.9e-04  2.3e-04  9.0e-07  8.45e-01   3.512721202e-03   3.588162622e-03   1.9e-04  0.20  \n",
      "6   5.6e-06  6.8e-06  2.8e-09  9.54e-01   2.847476513e-03   2.850264721e-03   5.6e-06  0.23  \n",
      "7   2.0e-07  2.4e-07  1.2e-11  9.79e-01   2.826028331e-03   2.826134734e-03   2.0e-07  0.27  \n",
      "8   4.5e-08  4.4e-08  1.3e-12  1.01e+00   2.825312375e-03   2.825330146e-03   3.2e-08  0.28  \n",
      "9   2.8e-09  4.5e-09  1.1e-14  1.00e+00   2.825214074e-03   2.825215097e-03   1.8e-09  0.31  \n",
      "Optimizer terminated. Time: 0.33    \n",
      "\n",
      "\n",
      "Interior-point solution summary\n",
      "  Problem status  : PRIMAL_AND_DUAL_FEASIBLE\n",
      "  Solution status : OPTIMAL\n",
      "  Primal.  obj: 2.8252140738e-03    nrm: 1e+00    Viol.  con: 1e-09    var: 0e+00    barvar: 0e+00  \n",
      "  Dual.    obj: 2.8252150974e-03    nrm: 3e+00    Viol.  con: 0e+00    var: 1e-09    barvar: 2e-09  \n",
      "-0.002825214073822524\n"
     ]
    },
    {
     "data": {
      "text/plain": [
       "(array([[[1.        , 0.22684014, 0.09583572],\n",
       "         [0.0479266 , 0.34813555, 0.34813556],\n",
       "         [0.33313559, 0.4536352 , 0.50003946],\n",
       "         [0.15548943, 0.09583573, 0.23391091]],\n",
       " \n",
       "        [[0.23391089, 0.02622295, 0.06391691],\n",
       "         [0.04149851, 0.04551215, 0.03627695],\n",
       "         [0.27947417, 0.17408594, 0.12781529],\n",
       "         [0.16136222, 0.06391692, 0.14029101]],\n",
       " \n",
       "        [[0.4536352 , 0.50003944, 0.32268502],\n",
       "         [0.46780652, 0.22684013, 0.15548943],\n",
       "         [0.17408593, 0.13646818, 0.12781529],\n",
       "         [0.16136222, 0.06187293, 0.07255239]],\n",
       " \n",
       "        [[0.06187293, 0.07255239, 0.02024839],\n",
       "         [0.04792661, 0.04551215, 0.05915016],\n",
       "         [0.03094307, 0.03627695, 0.05915016],\n",
       "         [0.03094306, 0.03354753, 0.04799816]]]),\n",
       " array([[[1, C_1_0_0, C_1_1_0],\n",
       "         [B_1_0_0, B_1_0_0*C_1_0_0, B_1_0_0*C_1_1_0],\n",
       "         [B_1_1_0, B_1_1_0*C_1_0_0, B_1_1_0*C_1_1_0],\n",
       "         [B_1_2_0, B_1_2_0*C_1_0_0, B_1_2_0*C_1_1_0]],\n",
       " \n",
       "        [[A_1_0_0, A_1_0_0*C_1_0_0, A_1_0_0*C_1_1_0],\n",
       "         [A_1_0_0*B_1_0_0, A_1_0_0*B_1_0_0*C_1_0_0,\n",
       "          A_1_0_0*B_1_0_0*C_1_1_0],\n",
       "         [A_1_0_0*B_1_1_0, A_1_0_0*B_1_1_0*C_1_0_0,\n",
       "          A_1_0_0*B_1_1_0*C_1_1_0],\n",
       "         [A_1_0_0*B_1_2_0, A_1_0_0*B_1_2_0*C_1_0_0,\n",
       "          A_1_0_0*B_1_2_0*C_1_1_0]],\n",
       " \n",
       "        [[A_1_1_0, A_1_1_0*C_1_0_0, A_1_1_0*C_1_1_0],\n",
       "         [A_1_1_0*B_1_0_0, A_1_1_0*B_1_0_0*C_1_0_0,\n",
       "          A_1_1_0*B_1_0_0*C_1_1_0],\n",
       "         [A_1_1_0*B_1_1_0, A_1_1_0*B_1_1_0*C_1_0_0,\n",
       "          A_1_1_0*B_1_1_0*C_1_1_0],\n",
       "         [A_1_1_0*B_1_2_0, A_1_1_0*B_1_2_0*C_1_0_0,\n",
       "          A_1_1_0*B_1_2_0*C_1_1_0]],\n",
       " \n",
       "        [[A_1_2_0, A_1_2_0*C_1_0_0, A_1_2_0*C_1_1_0],\n",
       "         [A_1_2_0*B_1_0_0, A_1_2_0*B_1_0_0*C_1_0_0,\n",
       "          A_1_2_0*B_1_0_0*C_1_1_0],\n",
       "         [A_1_2_0*B_1_1_0, A_1_2_0*B_1_1_0*C_1_0_0,\n",
       "          A_1_2_0*B_1_1_0*C_1_1_0],\n",
       "         [A_1_2_0*B_1_2_0, A_1_2_0*B_1_2_0*C_1_0_0,\n",
       "          A_1_2_0*B_1_2_0*C_1_1_0]]], dtype=object))"
      ]
     },
     "execution_count": 224,
     "metadata": {},
     "output_type": "execute_result"
    }
   ],
   "source": [
    "InfProb = InflationProblem( hypergraph=[[1, 1, 1]],\n",
    "                            outcomes_per_party=W.shape[:3],\n",
    "                            settings_per_party=W.shape[3:],\n",
    "                            inflation_level_per_source=[1],\n",
    "                            names=['A', 'B', 'C'])\n",
    "\n",
    "InfSDP = InflationSDP(InfProb, commuting=False, verbose=2)\n",
    "filename_label = 'AQ'\n",
    "InfSDP.generate_relaxation( column_specification= [[], [0], [1], [2], [0, 1], [0, 2], [1, 2], [0, 1, 2]],\n",
    "                            max_monomial_length=False,\n",
    "                            find_physical_monomials=False,\n",
    "                            use_linear_constraints=False,\n",
    "                            sandwich_positivity=False,\n",
    "                            load_from_file=False,\n",
    "                            filename_label=filename_label)\n",
    "\n",
    "# Going to calculate $W$ 'by hand' s.t. I avoid possible problems from using einsum.\n",
    "# W = np.zeros(W.shape)\n",
    "# for a,b,c,x,y,z in itertools.product(*[range(i) for i in W.shape]):\n",
    "#     for alpha, eta in itertools.product(*[range(i) for i in (outs_cardinality_ug[0], ins_cardinality_ug[0])]):\n",
    "#         W[a,b,c,x,y,z] += U[alpha,eta,a,b,x,y]*V[alpha,c,eta,z]\n",
    "\n",
    "meas = InfSDP.measurements\n",
    "\n",
    "obj = 0\n",
    "for a,b,c,x,y,z in itertools.product(*[range(i) for i in W.shape]):\n",
    "    #print(a,b,c,x,y,z)\n",
    "    Pi_A = meas[0][0][x][0]\n",
    "    if a == 1:\n",
    "        Pi_A = sp.S.One - meas[0][0][x][0]\n",
    "    Pi_B = meas[1][0][y][0]\n",
    "    if b == 1:\n",
    "        Pi_B = sp.S.One - meas[1][0][y][0]\n",
    "    Pi_C = meas[2][0][z][0]\n",
    "    if c == 1:\n",
    "        Pi_C = sp.S.One - meas[2][0][z][0]\n",
    "    #Pi_B = meas[1][0][y][b] if b == 0 else sp.S.One - meas[1][0][y][0]\n",
    "    #Pi_C = meas[2][0][z][c] if c == 0 else sp.S.One - meas[2][0][z][0]\n",
    "    obj += sp.expand(W[a,b,c,x,y,z]*Pi_A*Pi_B*Pi_C)\n",
    "\n",
    "A0 = meas[0][0][0][0]\n",
    "A1 = meas[0][0][1][0]\n",
    "A2 = meas[0][0][2][0]\n",
    "\n",
    "B0 = meas[1][0][0][0]\n",
    "B1 = meas[1][0][1][0]\n",
    "B2 = meas[1][0][2][0]\n",
    "\n",
    "C0 = meas[2][0][0][0]\n",
    "C1 = meas[2][0][1][0]\n",
    "\n",
    "obj = sp.expand(obj)\n",
    "InfSDP.use_linear_constraints = False\n",
    "InfSDP.set_objective(objective=-obj)\n",
    "\n",
    "InfSDP.solve(interpreter='MOSEKFusion', solverparameters={'solve_dual': False})  # By default it maximizes\n",
    "\n",
    "#InfSDP.write_to_file('inflationMATLAB_'+filename_label+'.mat')\n",
    "\n",
    "print(-InfSDP.primal_objective)\n",
    "\n",
    "Gamma = InfSDP.solution_object['G']\n",
    "generating_set = InfSDP.generating_monomials\n",
    "p_CG = Gamma[0,:]\n",
    "#CG_shape = [3*1+1,3*1+1,2*1+1]\n",
    "#p_CG = p_CG.reshape(CG_shape)  # In collins gisin notaton\n",
    "\n",
    "meas = InfSDP.measurements\n",
    "correct_order = np.zeros(np.multiply(np.array(W.shape[:3])-1, np.array(W.shape[3:]))+1,dtype=object)\n",
    "for a,b,c in itertools.product(*[range(i) for i in np.multiply(np.array(W.shape[:3])-1, np.array(W.shape[3:]))+1]):\n",
    "    prod = 1\n",
    "    if a != 0:\n",
    "        a_, x = np.unravel_index(a-1, (W.shape[0],W.shape[3]))\n",
    "        prod *= meas[0][0][x][a_]\n",
    "    if b != 0:\n",
    "        b_, y = np.unravel_index(b-1, (W.shape[1],W.shape[4]))\n",
    "        prod *= meas[1][0][y][b_]\n",
    "    if c != 0:\n",
    "        c_, z = np.unravel_index(c-1, (W.shape[2],W.shape[5]))\n",
    "        prod *= meas[2][0][z][c_]\n",
    "    correct_order[a,b,c] = prod\n",
    "\n",
    "perm = find_permutation(correct_order.flatten(), InfSDP.generating_monomials_sym)\n",
    "p_CG_permuted = np.array([p_CG[perm[i]] for i in range(len(p_CG))])\n",
    "p_CG = p_CG_permuted.reshape(correct_order.shape)\n",
    "p_CG, correct_order"
   ]
  },
  {
   "cell_type": "markdown",
   "metadata": {},
   "source": [
    "# Now we can find the U and V above with a seesaw"
   ]
  },
  {
   "cell_type": "markdown",
   "metadata": {},
   "source": [
    "Get the SDP matrix structure for the AQ set for U and V"
   ]
  },
  {
   "cell_type": "code",
   "execution_count": 225,
   "metadata": {},
   "outputs": [],
   "source": [
    "import scipy"
   ]
  },
  {
   "cell_type": "markdown",
   "metadata": {},
   "source": [
    "First a function that optimizes over AQ probabilities given V and Us."
   ]
  },
  {
   "cell_type": "code",
   "execution_count": 324,
   "metadata": {},
   "outputs": [
    {
     "name": "stderr",
     "output_type": "stream",
     "text": [
      "Calculating moment matrix    : 100%|██████████| 48/48 [00:00<00:00, 578.33it/s]\n",
      "Writing momentmatrix to file : 100%|██████████| 48/48 [00:00<00:00, 2285.57it/s]\n",
      "Writing monomials to file    : 100%|██████████| 273/273 [00:00<00:00, 273737.75it/s]\n",
      "Factorizing monomials        : 100%|██████████| 273/273 [00:00<00:00, 10112.38it/s]\n",
      "Reassigning monomial variables: 100%|██████████| 273/273 [00:00<00:00, 273150.05it/s]\n",
      "Reassigning moment matrix indices: 100%|██████████| 48/48 [00:00<00:00, 48175.78it/s]\n"
     ]
    }
   ],
   "source": [
    "outcomes_per_party = [2, 2, 2]\n",
    "settings_per_party = [3, 3, 2]\n",
    "InfProblem = InflationProblem(  hypergraph=[[1, 1, 1]], outcomes_per_party=outcomes_per_party,\n",
    "                                settings_per_party=settings_per_party, inflation_level_per_source=[1], names=['A', 'B', 'C'])\n",
    "InfSDP_3p = InflationSDP(InfProblem, commuting=False, verbose=0)\n",
    "InfSDP_3p.generate_relaxation( column_specification= 'local1', max_monomial_length=False, find_physical_monomials=False,\n",
    "                            use_linear_constraints=False, sandwich_positivity=False,  load_from_file=False, use_numba=True)\n",
    "\n",
    "def opt_over_AQ_p(InfSDP_3p, V, U):\n",
    "    W = np.einsum('AcEz,AEabxy->abcxyz', V, U)\n",
    "    outcomes_per_party = W.shape[:3]\n",
    "    settings_per_party = W.shape[3:]\n",
    "    meas = InfSDP_3p.measurements\n",
    "    obj = 0\n",
    "    for a,b,c,x,y,z in itertools.product(*[range(i) for i in W.shape]):\n",
    "        Pi_A = meas[0][0][x][0]\n",
    "        if a == 1:\n",
    "            Pi_A = sp.S.One - meas[0][0][x][0]\n",
    "        Pi_B = meas[1][0][y][0]\n",
    "        if b == 1:\n",
    "            Pi_B = sp.S.One - meas[1][0][y][0]\n",
    "        Pi_C = meas[2][0][z][0]\n",
    "        if c == 1:\n",
    "            Pi_C = sp.S.One - meas[2][0][z][0]\n",
    "        obj += sp.expand(W[a,b,c,x,y,z]*Pi_A*Pi_B*Pi_C)\n",
    "\n",
    "    InfSDP_3p.set_objective(objective=-obj)  # By default it maximizes\n",
    "    InfSDP_3p.solve(interpreter='MOSEKFusion', solverparameters={'solve_dual': True})  \n",
    "    p_CG = extract_p_CG_from_AQ_SDP(InfSDP.solution_object['G'], meas, InfSDP_3p.generating_monomials_sym, outcomes_per_party, settings_per_party)\n",
    "    #print(-InfSDP.primal_objective)\n",
    "    return p_CG, InfSDP.solution_object['G'][0,:], -InfSDP.primal_objective\n",
    "\n",
    "p_CG, p_CG_raw, optval = opt_over_AQ_p(InfSDP_3p, V, U)\n",
    "#p_CG, optval\n",
    "p = CG_to_prob_3party(p_CG, outcomes_per_party, settings_per_party)"
   ]
  },
  {
   "cell_type": "code",
   "execution_count": 339,
   "metadata": {},
   "outputs": [
    {
     "name": "stderr",
     "output_type": "stream",
     "text": [
      "Calculating moment matrix    : 100%|██████████| 9/9 [00:00<00:00, 3003.80it/s]\n",
      "Writing momentmatrix to file : 100%|██████████| 9/9 [00:00<00:00, 9002.80it/s]\n",
      "Writing monomials to file    : 100%|██████████| 16/16 [00:00<?, ?it/s]\n",
      "Factorizing monomials        : 100%|██████████| 16/16 [00:00<00:00, 8003.44it/s]\n",
      "Reassigning monomial variables: 100%|██████████| 16/16 [00:00<?, ?it/s]\n",
      "Reassigning moment matrix indices: 100%|██████████| 9/9 [00:00<00:00, 8992.08it/s]\n"
     ]
    },
    {
     "data": {
      "text/plain": [
       "(-0.36356411516951304,\n",
       " array([ 4.99999983e-01, -4.69313604e-01, -5.65745067e-02,  1.74348033e-07,\n",
       "        -9.31854695e-01, -1.65205475e-07,  1.02588763e+00, -8.62558911e-08,\n",
       "        -5.16828804e-01]))"
      ]
     },
     "execution_count": 339,
     "metadata": {},
     "output_type": "execute_result"
    }
   ],
   "source": [
    "outcomes_per_party = [2, 2]\n",
    "settings_per_party = [2, 2]\n",
    "InfSDP_V = InflationSDP(InflationProblem(outcomes_per_party=outcomes_per_party,settings_per_party=settings_per_party))\n",
    "InfSDP_V.generate_relaxation(column_specification='local1',load_from_file=False)\n",
    "\n",
    "known_vars = [0, 1]\n",
    "positionsmatrix = InfSDP_V.momentmatrix\n",
    "\n",
    "# objective = {key: float(val) for key, val in objective.items()}\n",
    "\n",
    "nr_variables = np.max(positionsmatrix) + 1\n",
    "nr_known = len(known_vars)\n",
    "nr_unknown = nr_variables - nr_known\n",
    "\n",
    "Iden = scipy.sparse.eye(positionsmatrix.shape[0]) #cp.diag(np.ones(positionsmatrix.shape[0]))\n",
    "F0 = scipy.sparse.lil_matrix(positionsmatrix.shape)\n",
    "for variable in range(nr_known):\n",
    "    F0[np.where(positionsmatrix == variable)] = known_vars[variable]\n",
    "F_list = []\n",
    "for var in range(nr_known, nr_variables):\n",
    "    F = scipy.sparse.lil_matrix(positionsmatrix.shape)\n",
    "    F[np.where(positionsmatrix == var)] = 1\n",
    "    F_list.append(F)\n",
    "\n",
    "#def opt_over_AQ_V(InfSDP_2p_V, U, p):\n",
    "omega_alpha_c_eta_z = np.einsum('AEabxy,abcxyz->AcEz', U, p)\n",
    "omega_alpha_c_eta_z_CG = prob_to_CG_2parties(omega_alpha_c_eta_z, outcomes_per_party, settings_per_party)\n",
    "omega_alpha_c_eta_z_CG_raw = p_CG_in_SDP_vector_AQ_SDP(omega_alpha_c_eta_z_CG, InfSDP_V.measurements, InfSDP_V.generating_monomials_sym, outcomes_per_party, settings_per_party)\n",
    "\n",
    "# meas = InfSDP_V.measurements\n",
    "# obj = 0\n",
    "# Vshape = [*outcomes_per_party, *settings_per_party]\n",
    "# for alpha,c,eta,z in itertools.product(*[range(i) for i in Vshape]):\n",
    "#     Pi_A = 1-sum([meas[0][0][eta][o_] for o_ in range(Vshape[0]-1)]) if alpha==(Vshape[0]-1) else meas[0][0][eta][alpha] \n",
    "#     Pi_C = 1-sum([meas[1][0][z  ][o_] for o_ in range(Vshape[1]-1)]) if c==(Vshape[1]-1) else meas[1][0][z][c] \n",
    "#     obj += sp.expand(omega_alpha_c_eta_z[alpha,c,eta,z]*Pi_A*Pi_C)\n",
    "# obj = sp.expand(obj)\n",
    "# InfSDP_V.set_objective(objective=obj)\n",
    "# objective = InfSDP_V._objective_as_dict\n",
    "# objective\n",
    "\n",
    "Z = cp.Variable(positionsmatrix.shape, PSD=True)\n",
    "Y = cp.Variable(positionsmatrix.shape, PSD=True)\n",
    "\n",
    "dim = omega_alpha_c_eta_z_CG.size\n",
    "v_i = cp.Variable(dim)\n",
    "\n",
    "Fi_observable   = F_list[:dim]\n",
    "Fi_unobservable = F_list[dim:]\n",
    "\n",
    "constraints = [ *[cp.trace(F0 @ Z) == v_i[0]],\n",
    "                *[cp.trace(Fi @ Z) == v_i[i]  for i, Fi in enumerate(Fi_observable)],\n",
    "                *[cp.trace(Fi @ Z) == 0       for Fi in Fi_unobservable],\n",
    "                *[cp.trace(F0 @ Y) == 1-v_i[0]],\n",
    "                *[cp.trace(Fi @ Y) == -v_i[i] for i, Fi in enumerate(Fi_observable)],\n",
    "                *[cp.trace(Fi @ Y) == 0       for Fi in Fi_unobservable]]\n",
    "\n",
    "obj = v_i @ omega_alpha_c_eta_z_CG_raw\n",
    "\n",
    "prob = cp.Problem(cp.Minimize(obj), constraints)\n",
    "\n",
    "sol = prob.solve(solver=cp.MOSEK, verbose=False)\n",
    "obj.value, v_i.value\n"
   ]
  },
  {
   "cell_type": "code",
   "execution_count": 356,
   "metadata": {},
   "outputs": [
    {
     "name": "stderr",
     "output_type": "stream",
     "text": [
      "Calculating moment matrix    : 100%|██████████| 9/9 [00:00<00:00, 3005.23it/s]\n",
      "Writing momentmatrix to file : 100%|██████████| 9/9 [00:00<00:00, 9009.24it/s]\n",
      "Writing monomials to file    : 100%|██████████| 16/16 [00:00<00:00, 15963.10it/s]\n",
      "Factorizing monomials        : 100%|██████████| 16/16 [00:00<00:00, 15982.11it/s]\n",
      "Reassigning monomial variables: 100%|██████████| 16/16 [00:00<00:00, 16039.40it/s]\n",
      "Reassigning moment matrix indices: 100%|██████████| 9/9 [00:00<?, ?it/s]"
     ]
    },
    {
     "name": "stdout",
     "output_type": "stream",
     "text": [
      "[1, A_1_0_0, A_1_1_0, B_1_0_0, B_1_1_0, A_1_0_0*B_1_0_0, A_1_0_0*B_1_1_0, A_1_1_0*B_1_0_0, A_1_1_0*B_1_1_0]\n"
     ]
    },
    {
     "name": "stderr",
     "output_type": "stream",
     "text": [
      "\n"
     ]
    },
    {
     "ename": "TypeError",
     "evalue": "set_objective() missing 1 required positional argument: 'objective'",
     "output_type": "error",
     "traceback": [
      "\u001b[1;31m---------------------------------------------------------------------------\u001b[0m",
      "\u001b[1;31mTypeError\u001b[0m                                 Traceback (most recent call last)",
      "\u001b[1;32m~\\AppData\\Local\\Temp/ipykernel_56468/3584160172.py\u001b[0m in \u001b[0;36m<module>\u001b[1;34m\u001b[0m\n\u001b[0;32m     10\u001b[0m     \u001b[0mprint\u001b[0m\u001b[1;33m(\u001b[0m\u001b[0mInfSDP\u001b[0m\u001b[1;33m.\u001b[0m\u001b[0m_objective_as_dict\u001b[0m\u001b[1;33m)\u001b[0m\u001b[1;33m\u001b[0m\u001b[1;33m\u001b[0m\u001b[0m\n\u001b[0;32m     11\u001b[0m \u001b[1;33m\u001b[0m\u001b[0m\n\u001b[1;32m---> 12\u001b[1;33m \u001b[0mcheck_if_valid_AQ_effect\u001b[0m\u001b[1;33m(\u001b[0m\u001b[0mv_i\u001b[0m\u001b[1;33m.\u001b[0m\u001b[0mvalue\u001b[0m\u001b[1;33m,\u001b[0m \u001b[0moutcomes_per_party\u001b[0m\u001b[1;33m,\u001b[0m \u001b[0msettings_per_party\u001b[0m\u001b[1;33m)\u001b[0m\u001b[1;33m\u001b[0m\u001b[1;33m\u001b[0m\u001b[0m\n\u001b[0m",
      "\u001b[1;32m~\\AppData\\Local\\Temp/ipykernel_56468/3584160172.py\u001b[0m in \u001b[0;36mcheck_if_valid_AQ_effect\u001b[1;34m(effect_in_CG_raw, outcomes_per_party, settings_per_party)\u001b[0m\n\u001b[0;32m      4\u001b[0m     \u001b[0mprint\u001b[0m\u001b[1;33m(\u001b[0m\u001b[0mInfSDP\u001b[0m\u001b[1;33m.\u001b[0m\u001b[0mgenerating_monomials_sym\u001b[0m\u001b[1;33m)\u001b[0m\u001b[1;33m\u001b[0m\u001b[1;33m\u001b[0m\u001b[0m\n\u001b[0;32m      5\u001b[0m     \u001b[0mobj\u001b[0m \u001b[1;33m=\u001b[0m \u001b[0msum\u001b[0m\u001b[1;33m(\u001b[0m\u001b[1;33m[\u001b[0m\u001b[0meffect_in_CG_raw\u001b[0m\u001b[1;33m[\u001b[0m\u001b[0mi\u001b[0m\u001b[1;33m]\u001b[0m\u001b[1;33m*\u001b[0m\u001b[0mInfSDP\u001b[0m\u001b[1;33m.\u001b[0m\u001b[0mgenerating_monomials_sym\u001b[0m\u001b[1;33m[\u001b[0m\u001b[0mi\u001b[0m\u001b[1;33m]\u001b[0m \u001b[1;32mfor\u001b[0m \u001b[0mi\u001b[0m \u001b[1;32min\u001b[0m \u001b[0mrange\u001b[0m\u001b[1;33m(\u001b[0m\u001b[0meffect_in_CG_raw\u001b[0m\u001b[1;33m.\u001b[0m\u001b[0msize\u001b[0m\u001b[1;33m)\u001b[0m\u001b[1;33m]\u001b[0m\u001b[1;33m)\u001b[0m\u001b[1;33m\u001b[0m\u001b[1;33m\u001b[0m\u001b[0m\n\u001b[1;32m----> 6\u001b[1;33m     \u001b[0mInfSDP\u001b[0m\u001b[1;33m.\u001b[0m\u001b[0mset_objective\u001b[0m\u001b[1;33m(\u001b[0m\u001b[1;33m)\u001b[0m\u001b[1;33m\u001b[0m\u001b[1;33m\u001b[0m\u001b[0m\n\u001b[0m\u001b[0;32m      7\u001b[0m     \u001b[1;31m#InfSDP._objective_as_dict = {**{0:0, 1:1,},**{var+1:-val for var, val in enumerate(effect_in_CG_raw)}}\u001b[0m\u001b[1;33m\u001b[0m\u001b[1;33m\u001b[0m\u001b[0m\n\u001b[0;32m      8\u001b[0m     \u001b[0mInfSDP\u001b[0m\u001b[1;33m.\u001b[0m\u001b[0msolve\u001b[0m\u001b[1;33m(\u001b[0m\u001b[0minterpreter\u001b[0m\u001b[1;33m=\u001b[0m\u001b[1;34m'CVXPY'\u001b[0m\u001b[1;33m)\u001b[0m\u001b[1;33m\u001b[0m\u001b[1;33m\u001b[0m\u001b[0m\n",
      "\u001b[1;31mTypeError\u001b[0m: set_objective() missing 1 required positional argument: 'objective'"
     ]
    }
   ],
   "source": [
    "def check_if_valid_AQ_effect(effect_in_CG_raw, outcomes_per_party, settings_per_party):\n",
    "    InfSDP = InflationSDP(InflationProblem(outcomes_per_party=outcomes_per_party,settings_per_party=settings_per_party))\n",
    "    InfSDP.generate_relaxation(column_specification='local1',load_from_file=False)\n",
    "    print(InfSDP.generating_monomials_sym)\n",
    "    obj = sum([effect_in_CG_raw[i]*InfSDP.generating_monomials_sym[i] for i in range(effect_in_CG_raw.size)])\n",
    "    InfSDP.set_objective()\n",
    "    #InfSDP._objective_as_dict = {**{0:0, 1:1,},**{var+1:-val for var, val in enumerate(effect_in_CG_raw)}}\n",
    "    InfSDP.solve(interpreter='CVXPY')\n",
    "    print(InfSDP.primal_objective)\n",
    "    print(InfSDP._objective_as_dict)\n",
    "\n",
    "check_if_valid_AQ_effect(v_i.value, outcomes_per_party, settings_per_party)"
   ]
  },
  {
   "cell_type": "code",
   "execution_count": null,
   "metadata": {},
   "outputs": [],
   "source": [
    "\n",
    "\n",
    "\n",
    "Z = cp.Variable(positionsmatrix.shape, PSD=True)\n",
    "Y = cp.Variable(positionsmatrix.shape, PSD=True)\n",
    "\n",
    "dim = omega_alpha_c_eta_z_CG - 1\n",
    "v_i = cp.Variable(dim)\n",
    "v_0 = cp.Variable(1)\n",
    "\n",
    "Fi_observable   = F_list[:dim]\n",
    "Fi_unobservable = F_list[dim:]\n",
    "\n",
    "constraints = [ *[cp.trace(F0 @ Z) == v_0],\n",
    "                *[cp.trace(Fi @ Z) == v_i[i]  for i, Fi in enumerate(Fi_observable)],\n",
    "                *[cp.trace(Fi @ Z) == 0       for Fi in Fi_unobservable],\n",
    "                *[cp.trace(F0 @ Y) == 1-v_0],\n",
    "                *[cp.trace(Fi @ Y) == -v_i[i] for i, Fi in enumerate(Fi_observable)],\n",
    "                *[cp.trace(Fi @ Y) == 0    for Fi in Fi_unobservable]]obj = p_CG_CHSH[0]*v_0 + cp.sum(p_CG_CHSH[1:] @ v_i)\n",
    "p_vec = np.array([1, 1/2, 1/2, 1/2, 1/2, 1/4, 1/4, 1/4, 1/4])\n",
    "obj = p_vec[0]*v_0 + cp.sum(p_vec[1:] @ v_i)\n",
    "\n",
    "\n",
    "prob = cp.Problem(cp.Minimize(obj),\n",
    "                  constraints)\n",
    "\n",
    "sol = prob.solve(solver=cp.MOSEK, verbose=True)\n",
    "obj.value\n",
    "v_0.value,v_i.value\n",
    "v = np.zeros(dim+1)\n",
    "v[0] = v_0.value[0]\n",
    "v[1:] = v_i.value[:]\n",
    "v\n"
   ]
  },
  {
   "cell_type": "code",
   "execution_count": 201,
   "metadata": {},
   "outputs": [
    {
     "name": "stderr",
     "output_type": "stream",
     "text": [
      "Calculating moment matrix    : 100%|██████████| 9/9 [00:00<00:00, 3000.22it/s]\n",
      "Writing momentmatrix to file : 100%|██████████| 9/9 [00:00<00:00, 8996.36it/s]\n",
      "Writing monomials to file    : 100%|██████████| 16/16 [00:00<?, ?it/s]\n",
      "Factorizing monomials        : 100%|██████████| 16/16 [00:00<00:00, 16001.16it/s]\n",
      "Reassigning monomial variables: 100%|██████████| 16/16 [00:00<?, ?it/s]\n",
      "Reassigning moment matrix indices: 100%|██████████| 9/9 [00:00<?, ?it/s]\n"
     ]
    },
    {
     "ename": "NameError",
     "evalue": "name 'p' is not defined",
     "output_type": "error",
     "traceback": [
      "\u001b[1;31m---------------------------------------------------------------------------\u001b[0m",
      "\u001b[1;31mNameError\u001b[0m                                 Traceback (most recent call last)",
      "\u001b[1;32m~\\AppData\\Local\\Temp/ipykernel_56468/1920311052.py\u001b[0m in \u001b[0;36m<module>\u001b[1;34m\u001b[0m\n\u001b[0;32m      5\u001b[0m \u001b[1;33m\u001b[0m\u001b[0m\n\u001b[0;32m      6\u001b[0m \u001b[1;31m#def opt_over_AQ_V(InfSDP_2p_V, U, p):\u001b[0m\u001b[1;33m\u001b[0m\u001b[1;33m\u001b[0m\u001b[0m\n\u001b[1;32m----> 7\u001b[1;33m \u001b[0momega_alpha_c_eta_z\u001b[0m \u001b[1;33m=\u001b[0m \u001b[0mnp\u001b[0m\u001b[1;33m.\u001b[0m\u001b[0meinsum\u001b[0m\u001b[1;33m(\u001b[0m\u001b[1;34m'AEabxy,abcxyz->AcEz'\u001b[0m\u001b[1;33m,\u001b[0m \u001b[0mU\u001b[0m\u001b[1;33m,\u001b[0m \u001b[0mp\u001b[0m\u001b[1;33m)\u001b[0m\u001b[1;33m\u001b[0m\u001b[1;33m\u001b[0m\u001b[0m\n\u001b[0m\u001b[0;32m      8\u001b[0m \u001b[0momega_alpha_c_eta_z_CG\u001b[0m \u001b[1;33m=\u001b[0m \u001b[0mprob_to_CG_2parties\u001b[0m\u001b[1;33m(\u001b[0m\u001b[0momega_alpha_c_eta_z\u001b[0m\u001b[1;33m,\u001b[0m \u001b[0moutcomes_per_party\u001b[0m\u001b[1;33m,\u001b[0m \u001b[0msettings_per_party\u001b[0m\u001b[1;33m)\u001b[0m\u001b[1;33m\u001b[0m\u001b[1;33m\u001b[0m\u001b[0m\n",
      "\u001b[1;31mNameError\u001b[0m: name 'p' is not defined"
     ]
    }
   ],
   "source": []
  },
  {
   "cell_type": "markdown",
   "metadata": {},
   "source": [
    "Get the omega_alpha_c_eta_z from CHSH. Get the AQ correlations that maximize CHSH."
   ]
  },
  {
   "cell_type": "code",
   "execution_count": null,
   "metadata": {},
   "outputs": [
    {
     "name": "stderr",
     "output_type": "stream",
     "text": [
      "Calculating moment matrix    : 100%|██████████| 9/9 [00:00<00:00, 4500.86it/s]\n",
      "Writing momentmatrix to file : 100%|██████████| 9/9 [00:00<00:00, 8972.84it/s]\n",
      "Writing monomials to file    : 100%|██████████| 16/16 [00:00<?, ?it/s]\n",
      "Factorizing monomials        : 100%|██████████| 16/16 [00:00<00:00, 16024.08it/s]\n",
      "Reassigning monomial variables: 100%|██████████| 16/16 [00:00<?, ?it/s]\n",
      "Reassigning moment matrix indices: 100%|██████████| 9/9 [00:00<00:00, 9002.80it/s]"
     ]
    },
    {
     "name": "stdout",
     "output_type": "stream",
     "text": [
      "2 - 4*A_1_0_0 + 4*A_1_0_0*B_1_0_0 + 4*A_1_0_0*B_1_1_0 + 4*A_1_1_0*B_1_0_0 - 4*A_1_1_0*B_1_1_0 - 4*B_1_0_0\n",
      "minimum over AQ of CHSH 2.8284271790023405\n"
     ]
    },
    {
     "name": "stderr",
     "output_type": "stream",
     "text": [
      "\n"
     ]
    }
   ],
   "source": [
    "# InfProb = InflationProblem(hypergraph=[[1, 1]], outcomes_per_party=[2,2], settings_per_party=[2,2], inflation_level_per_source=[1],names=['A', 'B'])\n",
    "# InfSDP = InflationSDP(InfProb, commuting=False, verbose=0)\n",
    "# InfSDP.generate_relaxation( column_specification='local1',\n",
    "#                             max_monomial_length=False,\n",
    "#                             find_physical_monomials=False,\n",
    "#                             use_linear_constraints=False,\n",
    "#                             sandwich_positivity=False,\n",
    "#                             load_from_file=False,\n",
    "#                             filename_label=filename_label)\n",
    "# meas = InfSDP.measurements\n",
    "# A0, A1, B0, B1 = 1-2*meas[0][0][0][0], 1-2*meas[0][0][1][0], 1-2*meas[1][0][0][0], 1-2*meas[1][0][1][0]\n",
    "# obj =  A0*B0+A0*B1+A1*B0-A1*B1\n",
    "# obj = sp.expand(obj)\n",
    "# print(obj)\n",
    "# InfSDP.set_objective(objective=+obj)\n",
    "# InfSDP.solve(interpreter='CVXPY')  # By default it maximizes\n",
    "# print(\"minimum over AQ of CHSH\", InfSDP.primal_objective)"
   ]
  },
  {
   "cell_type": "code",
   "execution_count": null,
   "metadata": {},
   "outputs": [],
   "source": [
    "InfProb = InflationProblem(hypergraph=[[1, 1]], outcomes_per_party=[2,2], settings_per_party=[2,2], inflation_level_per_source=[1],names=['A', 'B'])\n",
    "InfSDP = InflationSDP(InfProb, commuting=False, verbose=0)\n",
    "InfSDP.generate_relaxation( column_specification='local1',\n",
    "                            max_monomial_length=False,\n",
    "                            find_physical_monomials=False,\n",
    "                            use_linear_constraints=False,\n",
    "                            sandwich_positivity=False,\n",
    "                            load_from_file=False,\n",
    "                            filename_label=filename_label)\n",
    "#meas = InfSDP.measurements\n",
    "obj = sum([prob*sym for prob, sym in zip(p_vec, generating_set_CHSH)])\n",
    "print(obj)\n",
    "InfSDP.set_objective(objective=-obj)\n",
    "InfSDP.solve(interpreter='CVXPY')  # By default it maximizes\n",
    "print(\"minimum over AQ of CHSH\", InfSDP.primal_objective)"
   ]
  },
  {
   "cell_type": "code",
   "execution_count": null,
   "metadata": {},
   "outputs": [],
   "source": [
    "# def optimize_UorVorp(flag, V, U, p, InflationSDP):\n",
    "#     if flag == 0: # V and p are fixed, then this is a linear problem\n",
    "\n",
    "flag = 0\n",
    "if flag == 0:  # U and p are fixed, this is then a linear program\n",
    "    ...\n",
    "elif flag == 1:  # V and p are fixed, this is then a linear program\n",
    "    Unum = U\n",
    "    shape = Unum.shape\n",
    "\n",
    "    Uvars = cp.Variable(np.prod(shape))\n",
    "    U_multidim = {}\n",
    "    for idx, idxs_ in enumerate(itertools.product(*[range(i) for i in shape])):\n",
    "        # idxs_ is (alpha,eta,a,b,x,y)\n",
    "        U_multidim[idxs_] = Uvars[idx]  # cvxpy doesnt allow indexing of multi-dimensional variables\n",
    "\n",
    "    constraints = [ U >= 0 ]\n",
    "    for alpha,eta,x,y in itertools.product(*[range(i) for i in [*shape[:2],*shape[4:]]]):\n",
    "        summ = 0\n",
    "        for a,b in itertools.product(*[range(i) for i in shape[2:4]]):\n",
    "            summ += U_multidim[(alpha,eta,a,b,x,y)]\n",
    "        constraints += [ summ == 1 ]\n",
    "\n",
    "    obj = 0\n",
    "    for alpha,eta,a,b,x,y in itertools.product(*[range(i) for i in shape]):\n",
    "        for c, z in itertools.product(*[range(i) for i in np.array(V.shape)[[1,3]].astype(int)]):\n",
    "            obj += V[(alpha,c,eta,z)]*U_multidim[(alpha,eta,a,b,x,y)]*p[(a,b,c,x,y,z)]\n",
    "elif flag == 2:  # V and U are fixed, then this is an SDP\n",
    "    ..."
   ]
  },
  {
   "cell_type": "markdown",
   "metadata": {},
   "source": [
    "# With extra output"
   ]
  },
  {
   "cell_type": "markdown",
   "metadata": {},
   "source": [
    "Now we do $V_2$ such that the extra output has zero support"
   ]
  },
  {
   "cell_type": "code",
   "execution_count": null,
   "metadata": {},
   "outputs": [],
   "source": [
    "# V2 = np.zeros((3,2,2,2))\n",
    "# V2[:-1,:,:,:] = V"
   ]
  },
  {
   "cell_type": "code",
   "execution_count": null,
   "metadata": {},
   "outputs": [
    {
     "name": "stderr",
     "output_type": "stream",
     "text": [
      "Calculating moment matrix    : 100%|██████████| 15/15 [00:00<00:00, 2499.39it/s]\n",
      "Writing momentmatrix to file : 100%|██████████| 15/15 [00:00<00:00, 7505.91it/s]\n",
      "Writing monomials to file    : 100%|██████████| 39/39 [00:00<?, ?it/s]\n",
      "Factorizing monomials        : 100%|██████████| 39/39 [00:00<00:00, 9750.71it/s]\n",
      "Reassigning monomial variables: 100%|██████████| 39/39 [00:00<?, ?it/s]\n",
      "Reassigning moment matrix indices: 100%|██████████| 15/15 [00:00<?, ?it/s]\n"
     ]
    },
    {
     "name": "stdout",
     "output_type": "stream",
     "text": [
      "V2= 0.00459999999999999*A_1_0_0 + 0.224*A_1_0_0*B_1_0_0 + 0.5578*A_1_0_0*B_1_1_0 + 0.159*A_1_0_1 + 0.8372*A_1_0_1*B_1_0_0 + 0.0031*A_1_0_1*B_1_1_0 + 0.5884*A_1_1_0 - 0.5902*A_1_1_0*B_1_0_0 - 0.7404*A_1_1_0*B_1_1_0\n",
      "minimum over AQ of V2 0.7422000004622425\n",
      "Maximum over AQ of V2 0.9999673697516185\n"
     ]
    }
   ],
   "source": [
    "InfProb = InflationProblem( hypergraph=[[1, 1]],\n",
    "                            outcomes_per_party=[3,2],\n",
    "                            settings_per_party=[2,2],\n",
    "                            inflation_level_per_source=[1],\n",
    "                            names=['A', 'B'])\n",
    "InfSDP = InflationSDP(InfProb, commuting=False, verbose=0)\n",
    "filename_label = 'AQ_U'\n",
    "InfSDP.generate_relaxation( column_specification='local1',\n",
    "                            max_monomial_length=False,\n",
    "                            find_physical_monomials=False,\n",
    "                            use_linear_constraints=False,\n",
    "                            sandwich_positivity=False,\n",
    "                            load_from_file=False,\n",
    "                            filename_label=filename_label)\n",
    "meas = InfSDP.measurements\n",
    "# for eta, alpha in itertools.product(range(2), repeat=2):\n",
    "obj = 0\n",
    "#for a,b,x,y in itertools.product(*[range(i) for i in V2.shape]):\n",
    "for a,b,x,y in itertools.product(*[range(i) for i in V.shape]):\n",
    "    #print(a,b,x,y)\n",
    "    Pi_A = 1-(meas[0][0][x][0]+meas[0][0][x][1]) if a==2 else meas[0][0][x][a] \n",
    "    Pi_B = 1-(meas[1][0][y][0]) if b==1 else meas[1][0][y][b] \n",
    "    #obj += V2[a,b,x,y]*Pi_A*Pi_B\n",
    "    obj += V[a,b,x,y]*Pi_A*Pi_B\n",
    "# if (alpha, eta) == (0, 1):\n",
    "#     obj -= 0.8\n",
    "\n",
    "obj = sp.expand(obj)\n",
    "print(\"V2=\", obj)\n",
    "InfSDP.set_objective(objective=-obj)\n",
    "InfSDP.verbose = 0\n",
    "InfSDP.solve(interpreter='MOSEKFusion')  # By default it maximizes\n",
    "minimo = InfSDP.primal_objective\n",
    "print(\"minimum over AQ of V2\", InfSDP.primal_objective)\n",
    "InfSDP.set_objective(objective=obj)\n",
    "InfSDP.verbose = 0\n",
    "InfSDP.solve(interpreter='MOSEKFusion')  # By default it maximizes\n",
    "print(\"Maximum over AQ of V2\", InfSDP.primal_objective)\n",
    "maximo = InfSDP.primal_objective\n",
    "# Add the minimum and divide by the difference between the maximum and minimum\n",
    "\n",
    "# print(\"Renormalize\")\n",
    "# V2[:,:,0,0] += minimo\n",
    "# V2[:,:,:,:] /= maximo - minimo\n",
    "\n",
    "# obj = 0\n",
    "# for a,b,x,y in itertools.product(*[range(i) for i in V2.shape]):\n",
    "#     #print(a,b,x,y)\n",
    "#     Pi_A = 1-(meas[0][0][x][0]+meas[0][0][x][1]) if a==2 else meas[0][0][x][a] \n",
    "#     Pi_B = 1-(meas[1][0][y][0]) if b==1 else meas[1][0][y][b] \n",
    "#     obj += V2[a,b,x,y]*Pi_A*Pi_B\n",
    "# obj = sp.expand(obj)\n",
    "# print(\"V2 =\", obj)\n",
    "# InfSDP.set_objective(objective=-obj)\n",
    "# InfSDP.solve()  # By default it maximizes\n",
    "# minimo = InfSDP.primal_objective\n",
    "# print(\"minimum over AQ of V2\", -InfSDP.primal_objective)\n",
    "# InfSDP.set_objective(objective=obj)\n",
    "# InfSDP.solve()  # By default it maximizes\n",
    "# print(\"Maximum over AQ of V2\", InfSDP.primal_objective)"
   ]
  },
  {
   "cell_type": "markdown",
   "metadata": {},
   "source": []
  }
 ],
 "metadata": {
  "interpreter": {
   "hash": "8ca5f4b8f3343db6edb86a1d0a5bc165075f77ad762f9b1b6ace696555900136"
  },
  "kernelspec": {
   "display_name": "Python 3.9.7 ('base')",
   "language": "python",
   "name": "python3"
  },
  "language_info": {
   "codemirror_mode": {
    "name": "ipython",
    "version": 3
   },
   "file_extension": ".py",
   "mimetype": "text/x-python",
   "name": "python",
   "nbconvert_exporter": "python",
   "pygments_lexer": "ipython3",
   "version": "3.9.7"
  },
  "orig_nbformat": 4
 },
 "nbformat": 4,
 "nbformat_minor": 2
}

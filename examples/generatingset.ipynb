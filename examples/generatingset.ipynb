{
 "cells": [
  {
   "cell_type": "code",
   "execution_count": 1,
   "metadata": {},
   "outputs": [],
   "source": [
    "import os\n",
    "import sys\n",
    "# Locate the script in UnifiedInflation/examples and add to path one folder before, that is, UnifiedInflation/\n",
    "# in order to be able to import quantuminflation\n",
    "# ! Note: I found online that \"__file__\" sometimes can be problematic, So I'm using the solution provided in\n",
    "# https://stackoverflow.com/questions/2632199/how-do-i-get-the-path-of-the-current-executed-file-in-python?lq=1\n",
    "from inspect import getsourcefile\n",
    "from os.path import abspath\n",
    "from tabnanny import verbose\n",
    "\n",
    "#cws = abspath(getsourcefile(lambda:0))\n",
    "cws = abspath(getsourcefile(lambda:0)); cws\n",
    "cws = os.getcwd(); cws\n",
    "cws = os.sep.join(cws.split(os.sep)[:-1])  # Remove the script filename to get the directory of the script\n",
    "sys.path.append(cws)\n",
    "\n",
    "import itertools\n",
    "import pickle\n",
    "\n",
    "import numpy as np\n",
    "from causalinflation.InflationProblem import InflationProblem\n",
    "from causalinflation.InflationSDP import InflationSDP\n",
    "from causalinflation.useful_distributions import *\n",
    "from causalinflation.general_tools import to_numbers\n",
    "\n",
    "from causalinflation.fast_npa import calculate_momentmatrix\n",
    "import itertools\n",
    "\n",
    "from ncpol2sdpa.nc_utils import flatten, apply_substitutions\n",
    "import sympy as sp"
   ]
  },
  {
   "cell_type": "markdown",
   "metadata": {},
   "source": [
    "### How to customize the generating set\n",
    "\n",
    "In this tutorial we will showcase how to customize the generating set of monomials.\n",
    "\n",
    "We can use the built-in functions to construct a generating set according to several hierarchies. To showcase this, let us first look at a simple scenario of only two parties, Alice and Bob, sharing a quantum state."
   ]
  },
  {
   "cell_type": "code",
   "execution_count": 4,
   "metadata": {},
   "outputs": [],
   "source": [
    "InfProb = InflationProblem(dag= {\"h1\": [\"v1\", \"v2\"]},\n",
    "                           outcomes_per_party=[2, 2],\n",
    "                           settings_per_party=[2, 2],\n",
    "                           inflation_level_per_source=[1])\n",
    "InfSDP = InflationSDP(InfProb, commuting=False, verbose=0)"
   ]
  },
  {
   "cell_type": "markdown",
   "metadata": {},
   "source": [
    "These are all the measurement operators:"
   ]
  },
  {
   "cell_type": "code",
   "execution_count": 5,
   "metadata": {},
   "outputs": [
    {
     "data": {
      "text/plain": [
       "[A_1_0_0, A_1_1_0, B_1_0_0, B_1_1_0]"
      ]
     },
     "execution_count": 5,
     "metadata": {},
     "output_type": "execute_result"
    }
   ],
   "source": [
    "meas = InfSDP.measurements\n",
    "flatten(meas)"
   ]
  },
  {
   "cell_type": "markdown",
   "metadata": {},
   "source": [
    "As a reminder, the indices are interpreted as follows: the last two give the measurement setting and measurement output, and the rest represent on which copy of the source the operator is acting. For example, `A_1_1_0` represents the projection onto copy 1 of source 1 with measurement setting $x=1$ and measurement outcome $a=0$.\n",
    "\n",
    "Now let us look at a few examples of hierarchies. The first is the NPA levels"
   ]
  },
  {
   "cell_type": "code",
   "execution_count": 10,
   "metadata": {},
   "outputs": [
    {
     "name": "stdout",
     "output_type": "stream",
     "text": [
      "[1, A_1_0_0, A_1_1_0, B_1_0_0, B_1_1_0, A_1_0_0*B_1_0_0, A_1_0_0*B_1_1_0, A_1_1_0*B_1_0_0, A_1_1_0*B_1_1_0]\n"
     ]
    }
   ],
   "source": [
    "InfSDP.build_columns(column_specification='local1')\n",
    "print(InfSDP.generating_monomials_sym)"
   ]
  },
  {
   "cell_type": "code",
   "execution_count": null,
   "metadata": {},
   "outputs": [],
   "source": []
  }
 ],
 "metadata": {
  "interpreter": {
   "hash": "5c2f8743b7bffe768e49b7326944f1db750a54ae5a22907e70233feb4ab21afd"
  },
  "kernelspec": {
   "display_name": "Python 3.8.5 ('base')",
   "language": "python",
   "name": "python3"
  },
  "language_info": {
   "codemirror_mode": {
    "name": "ipython",
    "version": 3
   },
   "file_extension": ".py",
   "mimetype": "text/x-python",
   "name": "python",
   "nbconvert_exporter": "python",
   "pygments_lexer": "ipython3",
   "version": "3.8.5"
  },
  "orig_nbformat": 4
 },
 "nbformat": 4,
 "nbformat_minor": 2
}
